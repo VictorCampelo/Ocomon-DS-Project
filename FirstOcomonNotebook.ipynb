{
 "cells": [
  {
   "cell_type": "markdown",
   "metadata": {},
   "source": [
    "# Análise de dados do Ocomon"
   ]
  },
  {
   "cell_type": "markdown",
   "metadata": {},
   "source": [
    "## Os comando usados aqui seguem o tutorial da HackerLab"
   ]
  },
  {
   "cell_type": "markdown",
   "metadata": {},
   "source": [
    "### Os dados aqui importados já estão tratatos e com os devidos novos campos adicionados"
   ]
  },
  {
   "cell_type": "markdown",
   "metadata": {},
   "source": [
    "#### Bibliotecas:"
   ]
  },
  {
   "cell_type": "code",
   "execution_count": 1,
   "metadata": {},
   "outputs": [],
   "source": [
    "import pandas as pd\n",
    "import matplotlib.pyplot as plt\n",
    "from datetime import datetime\n",
    "import numpy as np\n",
    "import seaborn as sns"
   ]
  },
  {
   "cell_type": "markdown",
   "metadata": {},
   "source": [
    "#### Carregando o arquivo:"
   ]
  },
  {
   "cell_type": "code",
   "execution_count": 2,
   "metadata": {},
   "outputs": [],
   "source": [
    "# Import DataFrame\n",
    "# if csv don't are split per \",\", then we've to add a new args to method, \n",
    "# ex: read_csv('x.csv', sep=';')\n",
    "\n",
    "#the pattern code to decode file in read_csv() method is utf-8\n",
    "# if the file don't use this enconde, use enconding='cp1252'\n",
    "df = pd.read_csv('ocomon_FINAL.csv')"
   ]
  },
  {
   "cell_type": "code",
   "execution_count": 3,
   "metadata": {},
   "outputs": [
    {
     "data": {
      "text/html": [
       "<div>\n",
       "<style scoped>\n",
       "    .dataframe tbody tr th:only-of-type {\n",
       "        vertical-align: middle;\n",
       "    }\n",
       "\n",
       "    .dataframe tbody tr th {\n",
       "        vertical-align: top;\n",
       "    }\n",
       "\n",
       "    .dataframe thead th {\n",
       "        text-align: right;\n",
       "    }\n",
       "</style>\n",
       "<table border=\"1\" class=\"dataframe\">\n",
       "  <thead>\n",
       "    <tr style=\"text-align: right;\">\n",
       "      <th></th>\n",
       "      <th>DESCRIB</th>\n",
       "      <th>PROB_ORIG</th>\n",
       "      <th>PROB</th>\n",
       "      <th>ESPC</th>\n",
       "      <th>EQUIP</th>\n",
       "      <th>I_NAME</th>\n",
       "      <th>R_NAME</th>\n",
       "      <th>C_NAME</th>\n",
       "      <th>EQUIP_ID</th>\n",
       "      <th>HAS_VALUE</th>\n",
       "      <th>...</th>\n",
       "      <th>HOUR_OPEN</th>\n",
       "      <th>MIN_OPEN</th>\n",
       "      <th>DATA_OPEN</th>\n",
       "      <th>CLOSE_YEAR_4</th>\n",
       "      <th>CLOSE_MONTH_4</th>\n",
       "      <th>CLOSE_DAY_4</th>\n",
       "      <th>HOUR_CLOSE</th>\n",
       "      <th>MIN_CLOSE</th>\n",
       "      <th>DATA_CLOSE</th>\n",
       "      <th>STI</th>\n",
       "    </tr>\n",
       "  </thead>\n",
       "  <tbody>\n",
       "    <tr>\n",
       "      <td>0</td>\n",
       "      <td>foi solicitado a manutencao de pontos de reded...</td>\n",
       "      <td>NaN</td>\n",
       "      <td>N.A</td>\n",
       "      <td>NaN</td>\n",
       "      <td>internet</td>\n",
       "      <td>teresina</td>\n",
       "      <td>jaclason machado veras</td>\n",
       "      <td>julia sousa santos</td>\n",
       "      <td>-999999</td>\n",
       "      <td>NaN</td>\n",
       "      <td>...</td>\n",
       "      <td>9</td>\n",
       "      <td>15</td>\n",
       "      <td>18/4/2012</td>\n",
       "      <td>1</td>\n",
       "      <td>2</td>\n",
       "      <td>4</td>\n",
       "      <td>9</td>\n",
       "      <td>0</td>\n",
       "      <td>26/4/2012</td>\n",
       "      <td>sti_cca</td>\n",
       "    </tr>\n",
       "    <tr>\n",
       "      <td>1</td>\n",
       "      <td>computador nao liga  sujeira e mau na memoria ...</td>\n",
       "      <td>NaN</td>\n",
       "      <td>hardware</td>\n",
       "      <td>ram</td>\n",
       "      <td>computador</td>\n",
       "      <td>teresina</td>\n",
       "      <td>secretaria do mestrado de piliticas publicas</td>\n",
       "      <td>luis carlos dos santos farias</td>\n",
       "      <td>140981</td>\n",
       "      <td>P</td>\n",
       "      <td>...</td>\n",
       "      <td>8</td>\n",
       "      <td>13</td>\n",
       "      <td>23/4/2014</td>\n",
       "      <td>2</td>\n",
       "      <td>2</td>\n",
       "      <td>4</td>\n",
       "      <td>9</td>\n",
       "      <td>4</td>\n",
       "      <td>23/4/2014</td>\n",
       "      <td>sti_cchl</td>\n",
       "    </tr>\n",
       "    <tr>\n",
       "      <td>2</td>\n",
       "      <td>meu computador esta ligando o monitor tb mas a...</td>\n",
       "      <td>NaN</td>\n",
       "      <td>hardware</td>\n",
       "      <td>monitor</td>\n",
       "      <td>monitor</td>\n",
       "      <td>teresina</td>\n",
       "      <td>gabinete do reitor 5511</td>\n",
       "      <td>constanca dolores lopes monteiro</td>\n",
       "      <td>-999999</td>\n",
       "      <td>P</td>\n",
       "      <td>...</td>\n",
       "      <td>15</td>\n",
       "      <td>43</td>\n",
       "      <td>24/10/2011</td>\n",
       "      <td>1</td>\n",
       "      <td>4</td>\n",
       "      <td>4</td>\n",
       "      <td>15</td>\n",
       "      <td>59</td>\n",
       "      <td>24/10/2011</td>\n",
       "      <td>sti_central</td>\n",
       "    </tr>\n",
       "    <tr>\n",
       "      <td>3</td>\n",
       "      <td>desabilite o envio de email como o servico de ...</td>\n",
       "      <td>utilize esta descricao de problema para proble...</td>\n",
       "      <td>N.A</td>\n",
       "      <td>NaN</td>\n",
       "      <td>NaN</td>\n",
       "      <td>teresina</td>\n",
       "      <td>guilherme</td>\n",
       "      <td>guilherme avelino</td>\n",
       "      <td>-999999</td>\n",
       "      <td>NaN</td>\n",
       "      <td>...</td>\n",
       "      <td>13</td>\n",
       "      <td>20</td>\n",
       "      <td>24/10/2011</td>\n",
       "      <td>1</td>\n",
       "      <td>4</td>\n",
       "      <td>4</td>\n",
       "      <td>17</td>\n",
       "      <td>6</td>\n",
       "      <td>26/10/2011</td>\n",
       "      <td>sti_central</td>\n",
       "    </tr>\n",
       "    <tr>\n",
       "      <td>4</td>\n",
       "      <td>instalacao de impressoras e remocao de virus  ...</td>\n",
       "      <td>NaN</td>\n",
       "      <td>hardware</td>\n",
       "      <td>software</td>\n",
       "      <td>computador</td>\n",
       "      <td>teresina</td>\n",
       "      <td>NaN</td>\n",
       "      <td>bolsista nti</td>\n",
       "      <td>-999999</td>\n",
       "      <td>NP</td>\n",
       "      <td>...</td>\n",
       "      <td>12</td>\n",
       "      <td>13</td>\n",
       "      <td>24/10/2011</td>\n",
       "      <td>1</td>\n",
       "      <td>4</td>\n",
       "      <td>4</td>\n",
       "      <td>9</td>\n",
       "      <td>11</td>\n",
       "      <td>26/10/2011</td>\n",
       "      <td>sti_central</td>\n",
       "    </tr>\n",
       "  </tbody>\n",
       "</table>\n",
       "<p>5 rows × 25 columns</p>\n",
       "</div>"
      ],
      "text/plain": [
       "                                             DESCRIB  \\\n",
       "0  foi solicitado a manutencao de pontos de reded...   \n",
       "1  computador nao liga  sujeira e mau na memoria ...   \n",
       "2  meu computador esta ligando o monitor tb mas a...   \n",
       "3  desabilite o envio de email como o servico de ...   \n",
       "4  instalacao de impressoras e remocao de virus  ...   \n",
       "\n",
       "                                           PROB_ORIG      PROB      ESPC  \\\n",
       "0                                                NaN       N.A       NaN   \n",
       "1                                                NaN  hardware       ram   \n",
       "2                                                NaN  hardware   monitor   \n",
       "3  utilize esta descricao de problema para proble...       N.A       NaN   \n",
       "4                                                NaN  hardware  software   \n",
       "\n",
       "        EQUIP    I_NAME                                        R_NAME  \\\n",
       "0    internet  teresina                        jaclason machado veras   \n",
       "1  computador  teresina  secretaria do mestrado de piliticas publicas   \n",
       "2     monitor  teresina                       gabinete do reitor 5511   \n",
       "3         NaN  teresina                                     guilherme   \n",
       "4  computador  teresina                                           NaN   \n",
       "\n",
       "                             C_NAME  EQUIP_ID HAS_VALUE  ... HOUR_OPEN  \\\n",
       "0                julia sousa santos   -999999       NaN  ...         9   \n",
       "1     luis carlos dos santos farias    140981         P  ...         8   \n",
       "2  constanca dolores lopes monteiro   -999999         P  ...        15   \n",
       "3                 guilherme avelino   -999999       NaN  ...        13   \n",
       "4                      bolsista nti   -999999        NP  ...        12   \n",
       "\n",
       "  MIN_OPEN   DATA_OPEN  CLOSE_YEAR_4  CLOSE_MONTH_4  CLOSE_DAY_4  HOUR_CLOSE  \\\n",
       "0       15   18/4/2012             1              2            4           9   \n",
       "1       13   23/4/2014             2              2            4           9   \n",
       "2       43  24/10/2011             1              4            4          15   \n",
       "3       20  24/10/2011             1              4            4          17   \n",
       "4       13  24/10/2011             1              4            4           9   \n",
       "\n",
       "  MIN_CLOSE  DATA_CLOSE          STI  \n",
       "0         0   26/4/2012      sti_cca  \n",
       "1         4   23/4/2014     sti_cchl  \n",
       "2        59  24/10/2011  sti_central  \n",
       "3         6  26/10/2011  sti_central  \n",
       "4        11  26/10/2011  sti_central  \n",
       "\n",
       "[5 rows x 25 columns]"
      ]
     },
     "execution_count": 3,
     "metadata": {},
     "output_type": "execute_result"
    }
   ],
   "source": [
    "#show the 5 first line from dataframe\n",
    "df.head()"
   ]
  },
  {
   "cell_type": "code",
   "execution_count": 4,
   "metadata": {},
   "outputs": [
    {
     "data": {
      "text/html": [
       "<div>\n",
       "<style scoped>\n",
       "    .dataframe tbody tr th:only-of-type {\n",
       "        vertical-align: middle;\n",
       "    }\n",
       "\n",
       "    .dataframe tbody tr th {\n",
       "        vertical-align: top;\n",
       "    }\n",
       "\n",
       "    .dataframe thead th {\n",
       "        text-align: right;\n",
       "    }\n",
       "</style>\n",
       "<table border=\"1\" class=\"dataframe\">\n",
       "  <thead>\n",
       "    <tr style=\"text-align: right;\">\n",
       "      <th></th>\n",
       "      <th>DESCRIB</th>\n",
       "      <th>PROB_ORIG</th>\n",
       "      <th>PROB</th>\n",
       "      <th>ESPC</th>\n",
       "      <th>EQUIP</th>\n",
       "      <th>I_NAME</th>\n",
       "      <th>R_NAME</th>\n",
       "      <th>C_NAME</th>\n",
       "      <th>EQUIP_ID</th>\n",
       "      <th>HAS_VALUE</th>\n",
       "      <th>...</th>\n",
       "      <th>HOUR_OPEN</th>\n",
       "      <th>MIN_OPEN</th>\n",
       "      <th>DATA_OPEN</th>\n",
       "      <th>CLOSE_YEAR_4</th>\n",
       "      <th>CLOSE_MONTH_4</th>\n",
       "      <th>CLOSE_DAY_4</th>\n",
       "      <th>HOUR_CLOSE</th>\n",
       "      <th>MIN_CLOSE</th>\n",
       "      <th>DATA_CLOSE</th>\n",
       "      <th>STI</th>\n",
       "    </tr>\n",
       "  </thead>\n",
       "  <tbody>\n",
       "    <tr>\n",
       "      <td>15797</td>\n",
       "      <td>computador lentidao preuni cp foi realizado ba...</td>\n",
       "      <td>NaN</td>\n",
       "      <td>software</td>\n",
       "      <td>software</td>\n",
       "      <td>computador</td>\n",
       "      <td>teresina</td>\n",
       "      <td>erica cecilia</td>\n",
       "      <td>bolsista geral 2018</td>\n",
       "      <td>188134</td>\n",
       "      <td>NP</td>\n",
       "      <td>...</td>\n",
       "      <td>15</td>\n",
       "      <td>23</td>\n",
       "      <td>13/9/2019</td>\n",
       "      <td>4</td>\n",
       "      <td>3</td>\n",
       "      <td>3</td>\n",
       "      <td>8</td>\n",
       "      <td>21</td>\n",
       "      <td>17/9/2019</td>\n",
       "      <td>0</td>\n",
       "    </tr>\n",
       "    <tr>\n",
       "      <td>15798</td>\n",
       "      <td>computador lento e nao liga formatar apenas se...</td>\n",
       "      <td>NaN</td>\n",
       "      <td>hardware</td>\n",
       "      <td>software</td>\n",
       "      <td>computador</td>\n",
       "      <td>teresina</td>\n",
       "      <td>igor cunha</td>\n",
       "      <td>bolsista geral 2018</td>\n",
       "      <td>175491</td>\n",
       "      <td>NP</td>\n",
       "      <td>...</td>\n",
       "      <td>16</td>\n",
       "      <td>21</td>\n",
       "      <td>13/9/2019</td>\n",
       "      <td>4</td>\n",
       "      <td>3</td>\n",
       "      <td>2</td>\n",
       "      <td>17</td>\n",
       "      <td>47</td>\n",
       "      <td>13/9/2019</td>\n",
       "      <td>0</td>\n",
       "    </tr>\n",
       "    <tr>\n",
       "      <td>15799</td>\n",
       "      <td>liga e desliga reinicia sozinho local prospeqi...</td>\n",
       "      <td>NaN</td>\n",
       "      <td>software</td>\n",
       "      <td>software</td>\n",
       "      <td>computador</td>\n",
       "      <td>teresina</td>\n",
       "      <td>joao xavier</td>\n",
       "      <td>bolsista geral 2018</td>\n",
       "      <td>237490</td>\n",
       "      <td>NP</td>\n",
       "      <td>...</td>\n",
       "      <td>16</td>\n",
       "      <td>31</td>\n",
       "      <td>16/9/2019</td>\n",
       "      <td>-1</td>\n",
       "      <td>-1</td>\n",
       "      <td>-1</td>\n",
       "      <td>-1</td>\n",
       "      <td>-1</td>\n",
       "      <td>99/99/9999</td>\n",
       "      <td>0</td>\n",
       "    </tr>\n",
       "    <tr>\n",
       "      <td>15800</td>\n",
       "      <td>windows corrompidocoordenadoria de avaliacao e...</td>\n",
       "      <td>NaN</td>\n",
       "      <td>software</td>\n",
       "      <td>software</td>\n",
       "      <td>computador</td>\n",
       "      <td>teresina</td>\n",
       "      <td>raphaela da mota silva</td>\n",
       "      <td>bolsista geral 2018</td>\n",
       "      <td>256479</td>\n",
       "      <td>NP</td>\n",
       "      <td>...</td>\n",
       "      <td>17</td>\n",
       "      <td>35</td>\n",
       "      <td>17/9/2019</td>\n",
       "      <td>-1</td>\n",
       "      <td>-1</td>\n",
       "      <td>-1</td>\n",
       "      <td>-1</td>\n",
       "      <td>-1</td>\n",
       "      <td>99/99/9999</td>\n",
       "      <td>0</td>\n",
       "    </tr>\n",
       "    <tr>\n",
       "      <td>15801</td>\n",
       "      <td>computador nao liga aberto por felipe a  null ...</td>\n",
       "      <td>NaN</td>\n",
       "      <td>hardware</td>\n",
       "      <td>NaN</td>\n",
       "      <td>computador</td>\n",
       "      <td>teresina</td>\n",
       "      <td>lucas lopes</td>\n",
       "      <td>bolsista geral 2018</td>\n",
       "      <td>161603</td>\n",
       "      <td>NP</td>\n",
       "      <td>...</td>\n",
       "      <td>8</td>\n",
       "      <td>54</td>\n",
       "      <td>18/9/2019</td>\n",
       "      <td>-1</td>\n",
       "      <td>-1</td>\n",
       "      <td>-1</td>\n",
       "      <td>-1</td>\n",
       "      <td>-1</td>\n",
       "      <td>99/99/9999</td>\n",
       "      <td>sti_central</td>\n",
       "    </tr>\n",
       "  </tbody>\n",
       "</table>\n",
       "<p>5 rows × 25 columns</p>\n",
       "</div>"
      ],
      "text/plain": [
       "                                                 DESCRIB PROB_ORIG      PROB  \\\n",
       "15797  computador lentidao preuni cp foi realizado ba...       NaN  software   \n",
       "15798  computador lento e nao liga formatar apenas se...       NaN  hardware   \n",
       "15799  liga e desliga reinicia sozinho local prospeqi...       NaN  software   \n",
       "15800  windows corrompidocoordenadoria de avaliacao e...       NaN  software   \n",
       "15801  computador nao liga aberto por felipe a  null ...       NaN  hardware   \n",
       "\n",
       "           ESPC       EQUIP    I_NAME                  R_NAME  \\\n",
       "15797  software  computador  teresina           erica cecilia   \n",
       "15798  software  computador  teresina              igor cunha   \n",
       "15799  software  computador  teresina             joao xavier   \n",
       "15800  software  computador  teresina  raphaela da mota silva   \n",
       "15801       NaN  computador  teresina             lucas lopes   \n",
       "\n",
       "                    C_NAME  EQUIP_ID HAS_VALUE  ... HOUR_OPEN MIN_OPEN  \\\n",
       "15797  bolsista geral 2018    188134        NP  ...        15       23   \n",
       "15798  bolsista geral 2018    175491        NP  ...        16       21   \n",
       "15799  bolsista geral 2018    237490        NP  ...        16       31   \n",
       "15800  bolsista geral 2018    256479        NP  ...        17       35   \n",
       "15801  bolsista geral 2018    161603        NP  ...         8       54   \n",
       "\n",
       "       DATA_OPEN  CLOSE_YEAR_4  CLOSE_MONTH_4  CLOSE_DAY_4  HOUR_CLOSE  \\\n",
       "15797  13/9/2019             4              3            3           8   \n",
       "15798  13/9/2019             4              3            2          17   \n",
       "15799  16/9/2019            -1             -1           -1          -1   \n",
       "15800  17/9/2019            -1             -1           -1          -1   \n",
       "15801  18/9/2019            -1             -1           -1          -1   \n",
       "\n",
       "      MIN_CLOSE  DATA_CLOSE          STI  \n",
       "15797        21   17/9/2019            0  \n",
       "15798        47   13/9/2019            0  \n",
       "15799        -1  99/99/9999            0  \n",
       "15800        -1  99/99/9999            0  \n",
       "15801        -1  99/99/9999  sti_central  \n",
       "\n",
       "[5 rows x 25 columns]"
      ]
     },
     "execution_count": 4,
     "metadata": {},
     "output_type": "execute_result"
    }
   ],
   "source": [
    "#show the last 5 line from the dataframe\n",
    "df.tail()"
   ]
  },
  {
   "cell_type": "code",
   "execution_count": 5,
   "metadata": {},
   "outputs": [
    {
     "data": {
      "text/plain": [
       "DESCRIB          15802\n",
       "PROB_ORIG         5853\n",
       "PROB             15802\n",
       "ESPC              8066\n",
       "EQUIP            15589\n",
       "I_NAME           15466\n",
       "R_NAME           15433\n",
       "C_NAME           15802\n",
       "EQUIP_ID         15802\n",
       "HAS_VALUE        11063\n",
       "DEPARTMENT       15774\n",
       "LOCALE           15583\n",
       "OPEN_YEAR_4      15802\n",
       "OPEN_MONTH_4     15802\n",
       "OPEN_DAY_4       15802\n",
       "HOUR_OPEN        15802\n",
       "MIN_OPEN         15802\n",
       "DATA_OPEN        15802\n",
       "CLOSE_YEAR_4     15802\n",
       "CLOSE_MONTH_4    15802\n",
       "CLOSE_DAY_4      15802\n",
       "HOUR_CLOSE       15802\n",
       "MIN_CLOSE        15802\n",
       "DATA_CLOSE       15802\n",
       "STI              15774\n",
       "dtype: int64"
      ]
     },
     "execution_count": 5,
     "metadata": {},
     "output_type": "execute_result"
    }
   ],
   "source": [
    "#show how many registres has in each column\n",
    "df.count()"
   ]
  },
  {
   "cell_type": "code",
   "execution_count": 6,
   "metadata": {},
   "outputs": [
    {
     "data": {
      "text/html": [
       "<div>\n",
       "<style scoped>\n",
       "    .dataframe tbody tr th:only-of-type {\n",
       "        vertical-align: middle;\n",
       "    }\n",
       "\n",
       "    .dataframe tbody tr th {\n",
       "        vertical-align: top;\n",
       "    }\n",
       "\n",
       "    .dataframe thead th {\n",
       "        text-align: right;\n",
       "    }\n",
       "</style>\n",
       "<table border=\"1\" class=\"dataframe\">\n",
       "  <thead>\n",
       "    <tr style=\"text-align: right;\">\n",
       "      <th></th>\n",
       "      <th>EQUIP_ID</th>\n",
       "      <th>OPEN_YEAR_4</th>\n",
       "      <th>OPEN_MONTH_4</th>\n",
       "      <th>OPEN_DAY_4</th>\n",
       "      <th>HOUR_OPEN</th>\n",
       "      <th>MIN_OPEN</th>\n",
       "      <th>CLOSE_YEAR_4</th>\n",
       "      <th>CLOSE_MONTH_4</th>\n",
       "      <th>CLOSE_DAY_4</th>\n",
       "      <th>HOUR_CLOSE</th>\n",
       "      <th>MIN_CLOSE</th>\n",
       "    </tr>\n",
       "  </thead>\n",
       "  <tbody>\n",
       "    <tr>\n",
       "      <td>count</td>\n",
       "      <td>1.580200e+04</td>\n",
       "      <td>15802.000000</td>\n",
       "      <td>15802.000000</td>\n",
       "      <td>15802.000000</td>\n",
       "      <td>15802.000000</td>\n",
       "      <td>15802.000000</td>\n",
       "      <td>15802.000000</td>\n",
       "      <td>15802.000000</td>\n",
       "      <td>15802.000000</td>\n",
       "      <td>15802.000000</td>\n",
       "      <td>15802.000000</td>\n",
       "    </tr>\n",
       "    <tr>\n",
       "      <td>mean</td>\n",
       "      <td>2.535997e+07</td>\n",
       "      <td>2.175990</td>\n",
       "      <td>2.384951</td>\n",
       "      <td>2.667384</td>\n",
       "      <td>12.067397</td>\n",
       "      <td>29.576699</td>\n",
       "      <td>1.736742</td>\n",
       "      <td>2.093532</td>\n",
       "      <td>2.304898</td>\n",
       "      <td>10.966523</td>\n",
       "      <td>25.963802</td>\n",
       "    </tr>\n",
       "    <tr>\n",
       "      <td>std</td>\n",
       "      <td>2.321736e+08</td>\n",
       "      <td>1.002167</td>\n",
       "      <td>1.131484</td>\n",
       "      <td>1.134959</td>\n",
       "      <td>2.984860</td>\n",
       "      <td>17.241296</td>\n",
       "      <td>1.282926</td>\n",
       "      <td>1.496906</td>\n",
       "      <td>1.547816</td>\n",
       "      <td>4.987646</td>\n",
       "      <td>18.575372</td>\n",
       "    </tr>\n",
       "    <tr>\n",
       "      <td>min</td>\n",
       "      <td>-9.999990e+05</td>\n",
       "      <td>1.000000</td>\n",
       "      <td>1.000000</td>\n",
       "      <td>1.000000</td>\n",
       "      <td>0.000000</td>\n",
       "      <td>0.000000</td>\n",
       "      <td>-1.000000</td>\n",
       "      <td>-1.000000</td>\n",
       "      <td>-1.000000</td>\n",
       "      <td>-1.000000</td>\n",
       "      <td>-1.000000</td>\n",
       "    </tr>\n",
       "    <tr>\n",
       "      <td>25%</td>\n",
       "      <td>-9.999990e+05</td>\n",
       "      <td>1.000000</td>\n",
       "      <td>1.000000</td>\n",
       "      <td>2.000000</td>\n",
       "      <td>9.000000</td>\n",
       "      <td>15.000000</td>\n",
       "      <td>1.000000</td>\n",
       "      <td>1.000000</td>\n",
       "      <td>1.000000</td>\n",
       "      <td>9.000000</td>\n",
       "      <td>9.000000</td>\n",
       "    </tr>\n",
       "    <tr>\n",
       "      <td>50%</td>\n",
       "      <td>9.943000e+03</td>\n",
       "      <td>2.000000</td>\n",
       "      <td>2.000000</td>\n",
       "      <td>3.000000</td>\n",
       "      <td>11.000000</td>\n",
       "      <td>30.000000</td>\n",
       "      <td>2.000000</td>\n",
       "      <td>2.000000</td>\n",
       "      <td>3.000000</td>\n",
       "      <td>11.000000</td>\n",
       "      <td>26.000000</td>\n",
       "    </tr>\n",
       "    <tr>\n",
       "      <td>75%</td>\n",
       "      <td>1.424095e+05</td>\n",
       "      <td>3.000000</td>\n",
       "      <td>3.000000</td>\n",
       "      <td>4.000000</td>\n",
       "      <td>15.000000</td>\n",
       "      <td>44.000000</td>\n",
       "      <td>2.000000</td>\n",
       "      <td>3.000000</td>\n",
       "      <td>4.000000</td>\n",
       "      <td>15.000000</td>\n",
       "      <td>42.000000</td>\n",
       "    </tr>\n",
       "    <tr>\n",
       "      <td>max</td>\n",
       "      <td>2.147484e+09</td>\n",
       "      <td>4.000000</td>\n",
       "      <td>4.000000</td>\n",
       "      <td>4.000000</td>\n",
       "      <td>23.000000</td>\n",
       "      <td>59.000000</td>\n",
       "      <td>4.000000</td>\n",
       "      <td>4.000000</td>\n",
       "      <td>4.000000</td>\n",
       "      <td>23.000000</td>\n",
       "      <td>59.000000</td>\n",
       "    </tr>\n",
       "  </tbody>\n",
       "</table>\n",
       "</div>"
      ],
      "text/plain": [
       "           EQUIP_ID   OPEN_YEAR_4  OPEN_MONTH_4    OPEN_DAY_4     HOUR_OPEN  \\\n",
       "count  1.580200e+04  15802.000000  15802.000000  15802.000000  15802.000000   \n",
       "mean   2.535997e+07      2.175990      2.384951      2.667384     12.067397   \n",
       "std    2.321736e+08      1.002167      1.131484      1.134959      2.984860   \n",
       "min   -9.999990e+05      1.000000      1.000000      1.000000      0.000000   \n",
       "25%   -9.999990e+05      1.000000      1.000000      2.000000      9.000000   \n",
       "50%    9.943000e+03      2.000000      2.000000      3.000000     11.000000   \n",
       "75%    1.424095e+05      3.000000      3.000000      4.000000     15.000000   \n",
       "max    2.147484e+09      4.000000      4.000000      4.000000     23.000000   \n",
       "\n",
       "           MIN_OPEN  CLOSE_YEAR_4  CLOSE_MONTH_4   CLOSE_DAY_4    HOUR_CLOSE  \\\n",
       "count  15802.000000  15802.000000   15802.000000  15802.000000  15802.000000   \n",
       "mean      29.576699      1.736742       2.093532      2.304898     10.966523   \n",
       "std       17.241296      1.282926       1.496906      1.547816      4.987646   \n",
       "min        0.000000     -1.000000      -1.000000     -1.000000     -1.000000   \n",
       "25%       15.000000      1.000000       1.000000      1.000000      9.000000   \n",
       "50%       30.000000      2.000000       2.000000      3.000000     11.000000   \n",
       "75%       44.000000      2.000000       3.000000      4.000000     15.000000   \n",
       "max       59.000000      4.000000       4.000000      4.000000     23.000000   \n",
       "\n",
       "          MIN_CLOSE  \n",
       "count  15802.000000  \n",
       "mean      25.963802  \n",
       "std       18.575372  \n",
       "min       -1.000000  \n",
       "25%        9.000000  \n",
       "50%       26.000000  \n",
       "75%       42.000000  \n",
       "max       59.000000  "
      ]
     },
     "execution_count": 6,
     "metadata": {},
     "output_type": "execute_result"
    }
   ],
   "source": [
    "#describer the numerics collums\n",
    "df.describe()"
   ]
  },
  {
   "cell_type": "code",
   "execution_count": 7,
   "metadata": {},
   "outputs": [
    {
     "data": {
      "text/plain": [
       "DESCRIB          object\n",
       "PROB_ORIG        object\n",
       "PROB             object\n",
       "ESPC             object\n",
       "EQUIP            object\n",
       "I_NAME           object\n",
       "R_NAME           object\n",
       "C_NAME           object\n",
       "EQUIP_ID          int64\n",
       "HAS_VALUE        object\n",
       "DEPARTMENT       object\n",
       "LOCALE           object\n",
       "OPEN_YEAR_4       int64\n",
       "OPEN_MONTH_4      int64\n",
       "OPEN_DAY_4        int64\n",
       "HOUR_OPEN         int64\n",
       "MIN_OPEN          int64\n",
       "DATA_OPEN        object\n",
       "CLOSE_YEAR_4      int64\n",
       "CLOSE_MONTH_4     int64\n",
       "CLOSE_DAY_4       int64\n",
       "HOUR_CLOSE        int64\n",
       "MIN_CLOSE         int64\n",
       "DATA_CLOSE       object\n",
       "STI              object\n",
       "dtype: object"
      ]
     },
     "execution_count": 7,
     "metadata": {},
     "output_type": "execute_result"
    }
   ],
   "source": [
    "#show the type that pandas indentified to each collums\n",
    "df.dtypes"
   ]
  },
  {
   "cell_type": "markdown",
   "metadata": {},
   "source": [
    "### Gráficos"
   ]
  },
  {
   "cell_type": "code",
   "execution_count": 8,
   "metadata": {},
   "outputs": [],
   "source": [
    "%matplotlib inline"
   ]
  },
  {
   "cell_type": "code",
   "execution_count": 9,
   "metadata": {},
   "outputs": [],
   "source": [
    "years_open = []\n",
    "months_open = []\n",
    "days_open = []\n",
    "\n",
    "years_close = []\n",
    "months_close = []\n",
    "days_close = []\n",
    "for D_open, D_close, H_close in df[['DATA_OPEN','DATA_CLOSE','HOUR_CLOSE']].values.tolist():\n",
    "    dtO = datetime.strptime(D_open, '%d/%m/%Y')\n",
    "    years_open.append(dtO.year)\n",
    "    months_open.append(dtO.month)\n",
    "    days_open.append(dtO.day)\n",
    "    if H_close == -1:\n",
    "        years_close.append('NaN')\n",
    "        months_close.append('NaN')\n",
    "        days_close.append('NaN')\n",
    "    else:\n",
    "        dtC = datetime.strptime(D_close, '%d/%m/%Y')\n",
    "        years_close.append(dtC.year)\n",
    "        months_close.append(dtC.month)\n",
    "        days_close.append(dtC.day)"
   ]
  },
  {
   "cell_type": "code",
   "execution_count": 10,
   "metadata": {},
   "outputs": [],
   "source": [
    "df['OPEN_YEAR_1'] = years_open\n",
    "df['OPEN_MONTH_1'] = months_open\n",
    "df['OPEN_DAY_1'] = days_open\n",
    "\n",
    "df['CLOSE_YEAR_1'] = years_close\n",
    "df['CLOSE_MONTH_1'] = months_close\n",
    "df['CLOSE_DAY_1'] = days_close"
   ]
  },
  {
   "cell_type": "code",
   "execution_count": 11,
   "metadata": {},
   "outputs": [
    {
     "data": {
      "text/plain": [
       "1    4492\n",
       "2    6334\n",
       "3    2679\n",
       "4    2297\n",
       "Name: OPEN_YEAR_4, dtype: int64"
      ]
     },
     "execution_count": 11,
     "metadata": {},
     "output_type": "execute_result"
    }
   ],
   "source": [
    "#How many problems were opens in each year_4\n",
    "df['OPEN_YEAR_4'].value_counts(sort=False) "
   ]
  },
  {
   "cell_type": "code",
   "execution_count": 12,
   "metadata": {},
   "outputs": [
    {
     "data": {
      "text/plain": [
       "<matplotlib.axes._subplots.AxesSubplot at 0x7f5e97703190>"
      ]
     },
     "execution_count": 12,
     "metadata": {},
     "output_type": "execute_result"
    },
    {
     "data": {
      "image/png": "[encoded data removed]",
      "text/plain": [
       "<Figure size 432x288 with 1 Axes>"
      ]
     },
     "metadata": {
      "needs_background": "light"
     },
     "output_type": "display_data"
    }
   ],
   "source": [
    "#show the graphic bars to above result \n",
    "df['OPEN_YEAR_4'].value_counts().sort_index().plot.bar()\n",
    "sns.countplot(df['OPEN_YEAR_4'])"
   ]
  },
  {
   "cell_type": "code",
   "execution_count": 13,
   "metadata": {},
   "outputs": [
    {
     "data": {
      "text/plain": [
       "2013    3708\n",
       "2012    3680\n",
       "2014    2626\n",
       "2015    1567\n",
       "2017    1165\n",
       "2016    1112\n",
       "2011     812\n",
       "2018     772\n",
       "2019     360\n",
       "Name: OPEN_YEAR_1, dtype: int64"
      ]
     },
     "execution_count": 13,
     "metadata": {},
     "output_type": "execute_result"
    }
   ],
   "source": [
    "#How many problems were opens in each year\n",
    "df['OPEN_YEAR_1'].value_counts(sort=True)"
   ]
  },
  {
   "cell_type": "code",
   "execution_count": 14,
   "metadata": {},
   "outputs": [
    {
     "data": {
      "text/plain": [
       "<matplotlib.axes._subplots.AxesSubplot at 0x7f5e97773490>"
      ]
     },
     "execution_count": 14,
     "metadata": {},
     "output_type": "execute_result"
    },
    {
     "data": {
      "image/png": "[encoded data removed]",
      "text/plain": [
       "<Figure size 432x288 with 1 Axes>"
      ]
     },
     "metadata": {
      "needs_background": "light"
     },
     "output_type": "display_data"
    }
   ],
   "source": [
    "sns.countplot(df['OPEN_YEAR_1'])"
   ]
  },
  {
   "cell_type": "markdown",
   "metadata": {},
   "source": [
    "### Apartir de 2015 o gráfico mostra um redução e estabilização. Antes disso o número de ocorrências eram muito acima dos valores atuais"
   ]
  },
  {
   "cell_type": "code",
   "execution_count": 15,
   "metadata": {},
   "outputs": [
    {
     "data": {
      "text/plain": [
       "1    4659\n",
       "2    3986\n",
       "4    3585\n",
       "3    3572\n",
       "Name: OPEN_MONTH_4, dtype: int64"
      ]
     },
     "execution_count": 15,
     "metadata": {},
     "output_type": "execute_result"
    }
   ],
   "source": [
    "#How many problems were opens in each months\n",
    "df['OPEN_MONTH_4'].value_counts()"
   ]
  },
  {
   "cell_type": "code",
   "execution_count": 16,
   "metadata": {},
   "outputs": [
    {
     "data": {
      "text/plain": [
       "<matplotlib.axes._subplots.AxesSubplot at 0x7f5e973f9b90>"
      ]
     },
     "execution_count": 16,
     "metadata": {},
     "output_type": "execute_result"
    },
    {
     "data": {
      "image/png": "[encoded data removed]",
      "text/plain": [
       "<Figure size 432x288 with 1 Axes>"
      ]
     },
     "metadata": {
      "needs_background": "light"
     },
     "output_type": "display_data"
    }
   ],
   "source": [
    "# show the graphic bars to above result\n",
    "# df['D_MOTH_OPEN'].apply(lambda x: 0 if x == 99 else x).value_counts().sort_index().plot.bar()\n",
    "df['OPEN_MONTH_4'].value_counts().sort_index().plot.bar()\n",
    "sns.countplot(df['OPEN_MONTH_4'])"
   ]
  },
  {
   "cell_type": "code",
   "execution_count": 17,
   "metadata": {},
   "outputs": [
    {
     "data": {
      "text/plain": [
       "3     1748\n",
       "11    1592\n",
       "1     1487\n",
       "4     1462\n",
       "2     1424\n",
       "5     1411\n",
       "9     1244\n",
       "8     1239\n",
       "6     1113\n",
       "7     1089\n",
       "10    1064\n",
       "12     929\n",
       "Name: OPEN_MONTH_1, dtype: int64"
      ]
     },
     "execution_count": 17,
     "metadata": {},
     "output_type": "execute_result"
    }
   ],
   "source": [
    "#How many problems were opens in each months\n",
    "df['OPEN_MONTH_1'].value_counts()"
   ]
  },
  {
   "cell_type": "code",
   "execution_count": 18,
   "metadata": {},
   "outputs": [
    {
     "data": {
      "text/plain": [
       "<matplotlib.axes._subplots.AxesSubplot at 0x7f5e97328410>"
      ]
     },
     "execution_count": 18,
     "metadata": {},
     "output_type": "execute_result"
    },
    {
     "data": {
      "image/png": "[encoded data removed]",
      "text/plain": [
       "<Figure size 432x288 with 1 Axes>"
      ]
     },
     "metadata": {
      "needs_background": "light"
     },
     "output_type": "display_data"
    }
   ],
   "source": [
    "df['OPEN_MONTH_1'].value_counts().sort_index().plot.bar()\n",
    "sns.countplot(df['OPEN_MONTH_1'])"
   ]
  },
  {
   "cell_type": "code",
   "execution_count": 19,
   "metadata": {},
   "outputs": [
    {
     "data": {
      "text/plain": [
       "<matplotlib.axes._subplots.AxesSubplot at 0x7f5e97303a50>"
      ]
     },
     "execution_count": 19,
     "metadata": {},
     "output_type": "execute_result"
    },
    {
     "data": {
      "image/png": "[encoded data removed]",
      "text/plain": [
       "<Figure size 432x288 with 1 Axes>"
      ]
     },
     "metadata": {
      "needs_background": "light"
     },
     "output_type": "display_data"
    }
   ],
   "source": [
    "df[(df['OPEN_YEAR_1'] >= 2015) & (df['HAS_VALUE'] == 'P') & (df['ESPC'] == 'hd')]['OPEN_YEAR_1'].value_counts().plot.bar()"
   ]
  },
  {
   "cell_type": "code",
   "execution_count": 20,
   "metadata": {},
   "outputs": [
    {
     "data": {
      "text/plain": [
       "<matplotlib.axes._subplots.AxesSubplot at 0x7f5e971ced10>"
      ]
     },
     "execution_count": 20,
     "metadata": {},
     "output_type": "execute_result"
    },
    {
     "data": {
      "image/png": "[encoded data removed]",
      "text/plain": [
       "<Figure size 432x288 with 1 Axes>"
      ]
     },
     "metadata": {
      "needs_background": "light"
     },
     "output_type": "display_data"
    }
   ],
   "source": [
    "df[(df['OPEN_YEAR_1'] >= 2015) & (df['HAS_VALUE'] == 'P') & (df['ESPC'] == 'fonte')]['OPEN_YEAR_1'].value_counts().plot.bar()"
   ]
  },
  {
   "cell_type": "code",
   "execution_count": 21,
   "metadata": {},
   "outputs": [
    {
     "data": {
      "text/plain": [
       "<matplotlib.axes._subplots.AxesSubplot at 0x7f5e9714e550>"
      ]
     },
     "execution_count": 21,
     "metadata": {},
     "output_type": "execute_result"
    },
    {
     "data": {
      "image/png": "[encoded data removed]",
      "text/plain": [
       "<Figure size 432x288 with 1 Axes>"
      ]
     },
     "metadata": {
      "needs_background": "light"
     },
     "output_type": "display_data"
    }
   ],
   "source": [
    "df[(df['OPEN_YEAR_1'] >= 2015) & (df['HAS_VALUE'] == 'P') & (df['EQUIP'] == 'nobreak')]['OPEN_YEAR_1'].value_counts().plot.bar()"
   ]
  },
  {
   "cell_type": "code",
   "execution_count": 22,
   "metadata": {},
   "outputs": [
    {
     "data": {
      "text/plain": [
       "ESPC\n",
       "bateria           176\n",
       "cabo                4\n",
       "fonte             401\n",
       "hd                107\n",
       "instalacao          2\n",
       "placa             123\n",
       "placa de rede      33\n",
       "placa de video      1\n",
       "ram                98\n",
       "software           28\n",
       "troca              14\n",
       "Name: ESPC, dtype: int64"
      ]
     },
     "execution_count": 22,
     "metadata": {},
     "output_type": "execute_result"
    }
   ],
   "source": [
    "df[(df['OPEN_YEAR_1'] >= 2015) & (df['HAS_VALUE'] == 'P')].groupby(['ESPC'])['ESPC'].count()"
   ]
  },
  {
   "cell_type": "code",
   "execution_count": 23,
   "metadata": {},
   "outputs": [
    {
     "data": {
      "text/plain": [
       "EQUIP\n",
       "computador       869\n",
       "estabilizador      4\n",
       "impressora         2\n",
       "monitor            3\n",
       "nobreak          642\n",
       "notebook          19\n",
       "Name: EQUIP, dtype: int64"
      ]
     },
     "execution_count": 23,
     "metadata": {},
     "output_type": "execute_result"
    }
   ],
   "source": [
    "df[(df['OPEN_YEAR_1'] >= 2015) & (df['HAS_VALUE'] == 'P')].groupby(['EQUIP'])['EQUIP'].count()"
   ]
  },
  {
   "cell_type": "code",
   "execution_count": 24,
   "metadata": {},
   "outputs": [
    {
     "name": "stdout",
     "output_type": "stream",
     "text": [
      "Mean of troubles in hd since 2015:  21.4\n",
      "Mean of troubles in fonte since 2015:  80.2\n",
      "Mean of troubles in ram since 2015:  19.6\n",
      "Mean of troubles in placa since 2015:  24.6\n",
      "Mean of troubles in bateria since 2015:  35.2\n",
      "Mean of troubles in placa de rede since 2015:  6.6\n",
      "Mean of troubles in placa de video since 2015:  1.0\n",
      "Mean of troubles in nobreak since 2015:  128.4\n",
      "Mean of troubles in cabo since 2015:  1.3333333333333333\n"
     ]
    }
   ],
   "source": [
    "print('Mean of troubles in hd since 2015: ', df[(df['OPEN_YEAR_1'] >= 2015) & (df['HAS_VALUE'] == 'P') & (df['ESPC'] == 'hd')]['OPEN_YEAR_1'].value_counts().mean())\n",
    "print('Mean of troubles in fonte since 2015: ', df[(df['OPEN_YEAR_1'] >= 2015) & (df['HAS_VALUE'] == 'P') & (df['ESPC'] == 'fonte')]['OPEN_YEAR_1'].value_counts().mean())\n",
    "print('Mean of troubles in ram since 2015: ', df[(df['OPEN_YEAR_1'] >= 2015) & (df['HAS_VALUE'] == 'P') & (df['ESPC'] == 'ram')]['OPEN_YEAR_1'].value_counts().mean())\n",
    "print('Mean of troubles in placa since 2015: ', df[(df['OPEN_YEAR_1'] >= 2015) & (df['HAS_VALUE'] == 'P') & (df['ESPC'] == 'placa')]['OPEN_YEAR_1'].value_counts().mean())\n",
    "print('Mean of troubles in bateria since 2015: ', df[(df['OPEN_YEAR_1'] >= 2015) & (df['HAS_VALUE'] == 'P') & (df['ESPC'] == 'bateria')]['OPEN_YEAR_1'].value_counts().mean())\n",
    "print('Mean of troubles in placa de rede since 2015: ', df[(df['OPEN_YEAR_1'] >= 2015) & (df['HAS_VALUE'] == 'P') & (df['ESPC'] == 'placa de rede')]['OPEN_YEAR_1'].value_counts().mean())\n",
    "print('Mean of troubles in placa de video since 2015: ', df[(df['OPEN_YEAR_1'] >= 2015) & (df['HAS_VALUE'] == 'P') & (df['ESPC'] == 'placa de video')]['OPEN_YEAR_1'].value_counts().mean())\n",
    "print('Mean of troubles in nobreak since 2015: ', df[(df['OPEN_YEAR_1'] >= 2015) & (df['HAS_VALUE'] == 'P') & (df['EQUIP'] == 'nobreak')]['OPEN_YEAR_1'].value_counts().mean())\n",
    "print('Mean of troubles in cabo since 2015: ', df[(df['OPEN_YEAR_1'] >= 2015) & (df['HAS_VALUE'] == 'P') & (df['ESPC'] == 'cabo')]['OPEN_YEAR_1'].value_counts().mean())"
   ]
  },
  {
   "cell_type": "code",
   "execution_count": 25,
   "metadata": {},
   "outputs": [
    {
     "data": {
      "text/plain": [
       "4    5133\n",
       "2    3809\n",
       "3    3570\n",
       "1    3290\n",
       "Name: OPEN_DAY_4, dtype: int64"
      ]
     },
     "execution_count": 25,
     "metadata": {},
     "output_type": "execute_result"
    }
   ],
   "source": [
    "#How many problems were opens in each days\n",
    "df['OPEN_DAY_4'].value_counts()"
   ]
  },
  {
   "cell_type": "code",
   "execution_count": 26,
   "metadata": {},
   "outputs": [
    {
     "data": {
      "text/plain": [
       "<matplotlib.axes._subplots.AxesSubplot at 0x7f5e970d27d0>"
      ]
     },
     "execution_count": 26,
     "metadata": {},
     "output_type": "execute_result"
    },
    {
     "data": {
      "image/png": "[encoded data removed]",
      "text/plain": [
       "<Figure size 432x288 with 1 Axes>"
      ]
     },
     "metadata": {
      "needs_background": "light"
     },
     "output_type": "display_data"
    }
   ],
   "source": [
    "#show the graphic bars to above result \n",
    "df['OPEN_DAY_4'].value_counts().sort_index().plot.bar()\n",
    "sns.countplot(df['OPEN_DAY_4'])"
   ]
  },
  {
   "cell_type": "code",
   "execution_count": 27,
   "metadata": {},
   "outputs": [
    {
     "data": {
      "text/plain": [
       "22    645\n",
       "23    622\n",
       "13    604\n",
       "26    603\n",
       "20    589\n",
       "18    568\n",
       "9     566\n",
       "14    564\n",
       "24    543\n",
       "29    542\n",
       "12    537\n",
       "10    530\n",
       "16    523\n",
       "2     510\n",
       "8     506\n",
       "11    502\n",
       "27    502\n",
       "4     498\n",
       "6     492\n",
       "7     489\n",
       "28    486\n",
       "21    483\n",
       "15    483\n",
       "5     474\n",
       "19    463\n",
       "17    461\n",
       "25    460\n",
       "3     453\n",
       "30    443\n",
       "1     374\n",
       "31    287\n",
       "Name: OPEN_DAY_1, dtype: int64"
      ]
     },
     "execution_count": 27,
     "metadata": {},
     "output_type": "execute_result"
    }
   ],
   "source": [
    "#How many problems were opens in each days\n",
    "df['OPEN_DAY_1'].value_counts()"
   ]
  },
  {
   "cell_type": "code",
   "execution_count": 28,
   "metadata": {},
   "outputs": [
    {
     "data": {
      "text/plain": [
       "<matplotlib.axes._subplots.AxesSubplot at 0x7f5e978f4dd0>"
      ]
     },
     "execution_count": 28,
     "metadata": {},
     "output_type": "execute_result"
    },
    {
     "data": {
      "image/png": "[encoded data removed]",
      "text/plain": [
       "<Figure size 432x288 with 1 Axes>"
      ]
     },
     "metadata": {
      "needs_background": "light"
     },
     "output_type": "display_data"
    }
   ],
   "source": [
    "#show the graphic bars to above result \n",
    "df['OPEN_DAY_1'].value_counts().sort_index().plot.bar()\n",
    "sns.countplot(df['OPEN_DAY_1'])"
   ]
  },
  {
   "cell_type": "code",
   "execution_count": 29,
   "metadata": {},
   "outputs": [
    {
     "data": {
      "text/plain": [
       "<matplotlib.axes._subplots.AxesSubplot at 0x7f5e96c0bf90>"
      ]
     },
     "execution_count": 29,
     "metadata": {},
     "output_type": "execute_result"
    },
    {
     "data": {
      "image/png": "[encoded data removed]",
      "text/plain": [
       "<Figure size 432x288 with 1 Axes>"
      ]
     },
     "metadata": {
      "needs_background": "light"
     },
     "output_type": "display_data"
    }
   ],
   "source": [
    "sns.countplot(df['HAS_VALUE'])"
   ]
  },
  {
   "cell_type": "code",
   "execution_count": 30,
   "metadata": {},
   "outputs": [
    {
     "data": {
      "text/plain": [
       "29.98987469940514"
      ]
     },
     "execution_count": 30,
     "metadata": {},
     "output_type": "execute_result"
    }
   ],
   "source": [
    "# PERCENT OF MISSING PRICING VALUES IN ALL DATASET\n",
    "(df['HAS_VALUE'].isna().sum() / df['DESCRIB'].count()) * 100"
   ]
  },
  {
   "cell_type": "code",
   "execution_count": 31,
   "metadata": {},
   "outputs": [
    {
     "data": {
      "text/plain": [
       "<matplotlib.axes._subplots.AxesSubplot at 0x7f5e96afa210>"
      ]
     },
     "execution_count": 31,
     "metadata": {},
     "output_type": "execute_result"
    },
    {
     "data": {
      "image/png": "[encoded data removed]",
      "text/plain": [
       "<Figure size 432x288 with 1 Axes>"
      ]
     },
     "metadata": {
      "needs_background": "light"
     },
     "output_type": "display_data"
    }
   ],
   "source": [
    "#show the graphic bars to above result \n",
    "df['HOUR_OPEN'].value_counts().sort_index().plot.bar()"
   ]
  },
  {
   "cell_type": "code",
   "execution_count": 32,
   "metadata": {},
   "outputs": [
    {
     "data": {
      "text/html": [
       "<div>\n",
       "<style scoped>\n",
       "    .dataframe tbody tr th:only-of-type {\n",
       "        vertical-align: middle;\n",
       "    }\n",
       "\n",
       "    .dataframe tbody tr th {\n",
       "        vertical-align: top;\n",
       "    }\n",
       "\n",
       "    .dataframe thead th {\n",
       "        text-align: right;\n",
       "    }\n",
       "</style>\n",
       "<table border=\"1\" class=\"dataframe\">\n",
       "  <thead>\n",
       "    <tr style=\"text-align: right;\">\n",
       "      <th></th>\n",
       "      <th>DATA_OPEN</th>\n",
       "      <th>DATA_CLOSE</th>\n",
       "      <th>HOUR_OPEN</th>\n",
       "      <th>HOUR_CLOSE</th>\n",
       "      <th>MIN_OPEN</th>\n",
       "      <th>MIN_CLOSE</th>\n",
       "    </tr>\n",
       "  </thead>\n",
       "  <tbody>\n",
       "    <tr>\n",
       "      <td>0</td>\n",
       "      <td>18/4/2012</td>\n",
       "      <td>26/4/2012</td>\n",
       "      <td>9</td>\n",
       "      <td>9</td>\n",
       "      <td>15</td>\n",
       "      <td>0</td>\n",
       "    </tr>\n",
       "    <tr>\n",
       "      <td>1</td>\n",
       "      <td>23/4/2014</td>\n",
       "      <td>23/4/2014</td>\n",
       "      <td>8</td>\n",
       "      <td>9</td>\n",
       "      <td>13</td>\n",
       "      <td>4</td>\n",
       "    </tr>\n",
       "    <tr>\n",
       "      <td>2</td>\n",
       "      <td>24/10/2011</td>\n",
       "      <td>24/10/2011</td>\n",
       "      <td>15</td>\n",
       "      <td>15</td>\n",
       "      <td>43</td>\n",
       "      <td>59</td>\n",
       "    </tr>\n",
       "    <tr>\n",
       "      <td>3</td>\n",
       "      <td>24/10/2011</td>\n",
       "      <td>26/10/2011</td>\n",
       "      <td>13</td>\n",
       "      <td>17</td>\n",
       "      <td>20</td>\n",
       "      <td>6</td>\n",
       "    </tr>\n",
       "    <tr>\n",
       "      <td>4</td>\n",
       "      <td>24/10/2011</td>\n",
       "      <td>26/10/2011</td>\n",
       "      <td>12</td>\n",
       "      <td>9</td>\n",
       "      <td>13</td>\n",
       "      <td>11</td>\n",
       "    </tr>\n",
       "    <tr>\n",
       "      <td>...</td>\n",
       "      <td>...</td>\n",
       "      <td>...</td>\n",
       "      <td>...</td>\n",
       "      <td>...</td>\n",
       "      <td>...</td>\n",
       "      <td>...</td>\n",
       "    </tr>\n",
       "    <tr>\n",
       "      <td>15797</td>\n",
       "      <td>13/9/2019</td>\n",
       "      <td>17/9/2019</td>\n",
       "      <td>15</td>\n",
       "      <td>8</td>\n",
       "      <td>23</td>\n",
       "      <td>21</td>\n",
       "    </tr>\n",
       "    <tr>\n",
       "      <td>15798</td>\n",
       "      <td>13/9/2019</td>\n",
       "      <td>13/9/2019</td>\n",
       "      <td>16</td>\n",
       "      <td>17</td>\n",
       "      <td>21</td>\n",
       "      <td>47</td>\n",
       "    </tr>\n",
       "    <tr>\n",
       "      <td>15799</td>\n",
       "      <td>16/9/2019</td>\n",
       "      <td>99/99/9999</td>\n",
       "      <td>16</td>\n",
       "      <td>-1</td>\n",
       "      <td>31</td>\n",
       "      <td>-1</td>\n",
       "    </tr>\n",
       "    <tr>\n",
       "      <td>15800</td>\n",
       "      <td>17/9/2019</td>\n",
       "      <td>99/99/9999</td>\n",
       "      <td>17</td>\n",
       "      <td>-1</td>\n",
       "      <td>35</td>\n",
       "      <td>-1</td>\n",
       "    </tr>\n",
       "    <tr>\n",
       "      <td>15801</td>\n",
       "      <td>18/9/2019</td>\n",
       "      <td>99/99/9999</td>\n",
       "      <td>8</td>\n",
       "      <td>-1</td>\n",
       "      <td>54</td>\n",
       "      <td>-1</td>\n",
       "    </tr>\n",
       "  </tbody>\n",
       "</table>\n",
       "<p>15802 rows × 6 columns</p>\n",
       "</div>"
      ],
      "text/plain": [
       "        DATA_OPEN  DATA_CLOSE  HOUR_OPEN  HOUR_CLOSE  MIN_OPEN  MIN_CLOSE\n",
       "0       18/4/2012   26/4/2012          9           9        15          0\n",
       "1       23/4/2014   23/4/2014          8           9        13          4\n",
       "2      24/10/2011  24/10/2011         15          15        43         59\n",
       "3      24/10/2011  26/10/2011         13          17        20          6\n",
       "4      24/10/2011  26/10/2011         12           9        13         11\n",
       "...           ...         ...        ...         ...       ...        ...\n",
       "15797   13/9/2019   17/9/2019         15           8        23         21\n",
       "15798   13/9/2019   13/9/2019         16          17        21         47\n",
       "15799   16/9/2019  99/99/9999         16          -1        31         -1\n",
       "15800   17/9/2019  99/99/9999         17          -1        35         -1\n",
       "15801   18/9/2019  99/99/9999          8          -1        54         -1\n",
       "\n",
       "[15802 rows x 6 columns]"
      ]
     },
     "execution_count": 32,
     "metadata": {},
     "output_type": "execute_result"
    }
   ],
   "source": [
    "df[['DATA_OPEN','DATA_CLOSE','HOUR_OPEN','HOUR_CLOSE','MIN_OPEN','MIN_CLOSE']]"
   ]
  },
  {
   "cell_type": "code",
   "execution_count": 33,
   "metadata": {},
   "outputs": [],
   "source": [
    "hour_efic = []\n",
    "for D_open, D_close, H_open, H_close, M_open, M_close  in df[['DATA_OPEN','DATA_CLOSE','HOUR_OPEN','HOUR_CLOSE','MIN_OPEN','MIN_CLOSE']].values.tolist():\n",
    "    if H_close == -1:\n",
    "        hour_efic.append(-1)\n",
    "    else:\n",
    "        dtO = datetime.strptime(D_open +\" \"+ str(H_open) +\" \"+ str(M_open), '%d/%m/%Y %H %M')\n",
    "        dtC = datetime.strptime(D_close +\" \"+ str(H_close) +\" \"+ str(M_close), '%d/%m/%Y %H %M')\n",
    "        hour_efic.append(((dtO - dtC).seconds/60)/60)"
   ]
  },
  {
   "cell_type": "code",
   "execution_count": 34,
   "metadata": {},
   "outputs": [
    {
     "data": {
      "text/plain": [
       "0         0.250000\n",
       "1        23.150000\n",
       "2        23.733333\n",
       "3        20.233333\n",
       "4         3.033333\n",
       "           ...    \n",
       "15797     7.033333\n",
       "15798    22.566667\n",
       "15799    -1.000000\n",
       "15800    -1.000000\n",
       "15801    -1.000000\n",
       "Name: HOUR_EFIC, Length: 15802, dtype: float64"
      ]
     },
     "execution_count": 34,
     "metadata": {},
     "output_type": "execute_result"
    }
   ],
   "source": [
    "df['HOUR_EFIC'] = hour_efic\n",
    "df['HOUR_EFIC']"
   ]
  },
  {
   "cell_type": "code",
   "execution_count": 35,
   "metadata": {},
   "outputs": [
    {
     "data": {
      "text/plain": [
       "16.232680968956522"
      ]
     },
     "execution_count": 35,
     "metadata": {},
     "output_type": "execute_result"
    }
   ],
   "source": [
    "# mean of wasted time to solve a problem in general\n",
    "df[df['HOUR_EFIC'] > 0]['HOUR_EFIC'].mean()"
   ]
  },
  {
   "cell_type": "code",
   "execution_count": 36,
   "metadata": {},
   "outputs": [
    {
     "data": {
      "text/plain": [
       "STI\n",
       "biblioteca        17.815891\n",
       "campus            14.743398\n",
       "hu                15.529710\n",
       "sti_biblioteca    12.535000\n",
       "sti_cca           15.071695\n",
       "sti_cce           17.702756\n",
       "sti_cchl          17.495388\n",
       "sti_central       16.319242\n",
       "sti_ct            16.742606\n",
       "Name: HOUR_EFIC, dtype: float64"
      ]
     },
     "execution_count": 36,
     "metadata": {},
     "output_type": "execute_result"
    }
   ],
   "source": [
    "# mean of wasted time to solve a problem in general\n",
    "df[(df['HOUR_EFIC'] > 0) & (df['STI'] != '0')].groupby(['STI'])['HOUR_EFIC'].mean()"
   ]
  },
  {
   "cell_type": "code",
   "execution_count": 37,
   "metadata": {},
   "outputs": [],
   "source": [
    "# mean of wasted time to solve a problem in general\n",
    "ndf = df[(df['HOUR_EFIC'] > 0) & (df['STI'] != '0')].groupby(['STI', 'ESPC'])['HOUR_EFIC'].mean()"
   ]
  },
  {
   "cell_type": "code",
   "execution_count": 38,
   "metadata": {},
   "outputs": [
    {
     "data": {
      "text/plain": [
       "STI         ESPC         \n",
       "biblioteca  bateria          23.783333\n",
       "            fonte            17.506250\n",
       "            hd               15.255556\n",
       "            instalacao       20.000000\n",
       "            placa            12.508333\n",
       "                               ...    \n",
       "sti_ct      instalacao       19.332381\n",
       "            placa            19.730119\n",
       "            placa de rede    15.120000\n",
       "            ram              16.380952\n",
       "            software         17.626667\n",
       "Name: HOUR_EFIC, Length: 77, dtype: float64"
      ]
     },
     "execution_count": 38,
     "metadata": {},
     "output_type": "execute_result"
    }
   ],
   "source": [
    "ndf"
   ]
  },
  {
   "cell_type": "code",
   "execution_count": 39,
   "metadata": {},
   "outputs": [
    {
     "data": {
      "text/plain": [
       "<matplotlib.axes._subplots.AxesSubplot at 0x7f5e9a524750>"
      ]
     },
     "execution_count": 39,
     "metadata": {},
     "output_type": "execute_result"
    },
    {
     "data": {
      "image/png": "[encoded data removed]",
      "text/plain": [
       "<Figure size 432x288 with 1 Axes>"
      ]
     },
     "metadata": {
      "needs_background": "light"
     },
     "output_type": "display_data"
    }
   ],
   "source": [
    "ndf['sti_biblioteca'].plot.barh()"
   ]
  },
  {
   "cell_type": "code",
   "execution_count": 40,
   "metadata": {},
   "outputs": [
    {
     "data": {
      "text/plain": [
       "<matplotlib.axes._subplots.AxesSubplot at 0x7f5e96562550>"
      ]
     },
     "execution_count": 40,
     "metadata": {},
     "output_type": "execute_result"
    },
    {
     "data": {
      "image/png": "[encoded data removed]",
      "text/plain": [
       "<Figure size 432x288 with 1 Axes>"
      ]
     },
     "metadata": {
      "needs_background": "light"
     },
     "output_type": "display_data"
    }
   ],
   "source": [
    "ndf['sti_central'].plot.barh()"
   ]
  },
  {
   "cell_type": "code",
   "execution_count": 41,
   "metadata": {},
   "outputs": [
    {
     "data": {
      "text/plain": [
       "<matplotlib.axes._subplots.AxesSubplot at 0x7f5e96703050>"
      ]
     },
     "execution_count": 41,
     "metadata": {},
     "output_type": "execute_result"
    },
    {
     "data": {
      "image/png": "[encoded data removed]",
      "text/plain": [
       "<Figure size 432x288 with 1 Axes>"
      ]
     },
     "metadata": {
      "needs_background": "light"
     },
     "output_type": "display_data"
    }
   ],
   "source": [
    "ndf['sti_ct'].plot.barh()"
   ]
  },
  {
   "cell_type": "markdown",
   "metadata": {},
   "source": [
    "## Media de tempo gasto, por cada setor do STI, em relação a conclusão de problemas precificáveis"
   ]
  },
  {
   "cell_type": "code",
   "execution_count": 42,
   "metadata": {},
   "outputs": [],
   "source": [
    "# mean of wasted time to solve a princify problem \n",
    "ndf = df[(df['HOUR_EFIC'] > 0) & (df['HAS_VALUE'] == 'P')].groupby('STI')['HOUR_EFIC'].mean()"
   ]
  },
  {
   "cell_type": "code",
   "execution_count": 43,
   "metadata": {},
   "outputs": [
    {
     "data": {
      "text/plain": [
       "<matplotlib.axes._subplots.AxesSubplot at 0x7f5e96693690>"
      ]
     },
     "execution_count": 43,
     "metadata": {},
     "output_type": "execute_result"
    },
    {
     "data": {
      "image/png": "[encoded data removed]",
      "text/plain": [
       "<Figure size 432x288 with 1 Axes>"
      ]
     },
     "metadata": {
      "needs_background": "light"
     },
     "output_type": "display_data"
    }
   ],
   "source": [
    "ndf.plot.barh()"
   ]
  },
  {
   "cell_type": "markdown",
   "metadata": {},
   "source": [
    "## Quantidade Média, minima e máxima de cada produtor precificável agrupada por ano"
   ]
  },
  {
   "cell_type": "code",
   "execution_count": 44,
   "metadata": {},
   "outputs": [
    {
     "data": {
      "text/plain": [
       "fonte             342\n",
       "bateria           108\n",
       "hd                 97\n",
       "placa              90\n",
       "ram                84\n",
       "placa de rede      28\n",
       "software           24\n",
       "troca               7\n",
       "cabo                4\n",
       "placa de video      1\n",
       "instalacao          1\n",
       "Name: ESPC, dtype: int64"
      ]
     },
     "execution_count": 44,
     "metadata": {},
     "output_type": "execute_result"
    }
   ],
   "source": [
    "df[(df['HOUR_EFIC'] > 0) & (df['HAS_VALUE'] == 'P') & (df['OPEN_YEAR_1'] >= 2015)]['ESPC'].value_counts()"
   ]
  },
  {
   "cell_type": "markdown",
   "metadata": {},
   "source": [
    "### software não deveria esta na lista de problemas precificáveis"
   ]
  },
  {
   "cell_type": "code",
   "execution_count": 45,
   "metadata": {},
   "outputs": [
    {
     "data": {
      "text/plain": [
       "10893    problema no sistema operacional e o teclado na...\n",
       "10914    erro de inicializacao obs pericia medica forma...\n",
       "10942    cpu nao inicia corretamente  formatado e troca...\n",
       "11090    nao ligaformatar e instalar programas solucao ...\n",
       "11604    nao esta inicializando a placa mae esta conden...\n",
       "12406    inicializacao defeituosa foi trocada a bateria...\n",
       "12666    bateria da cpu da prof regilda  bateria trocad...\n",
       "12930    trocar a bateria do clock bateria trocada comp...\n",
       "12956    trocar a bateria do clock bateria trocada e cp...\n",
       "13208    formatacao formatacao de sistema operacional e...\n",
       "13324    quebrado o computador foi formatado e trocada ...\n",
       "13538    nao da sinal de tela obs hvu cga o monitor dev...\n",
       "14295    checagem de computador de laboratorioformataca...\n",
       "14296    checagem de computador de laboratorioformataca...\n",
       "14366    nao liga________fazer backup dos documentos fo...\n",
       "14696    lentotrocar a senha dos usuariosusuario admini...\n",
       "14698    lento e virus troca de senha sem patrimonio  s...\n",
       "14758    inicialmente reiniciava apos isso comecou a ap...\n",
       "14863    checagem de computador de laboratorioformataca...\n",
       "15146    trocar a bateriaaberto por jair trocado a bate...\n",
       "15375    computador lento aberto por wesley rafael loca...\n",
       "15527    sem drive de redeaberto por victor solucao par...\n",
       "15701    nao liga  foi realizada a substituicao do hd f...\n",
       "15726    troca de bateria foi realizada a troca da bate...\n",
       "Name: DESCRIB, dtype: object"
      ]
     },
     "execution_count": 45,
     "metadata": {},
     "output_type": "execute_result"
    }
   ],
   "source": [
    "df[(df['HOUR_EFIC'] > 0) \n",
    "   & (df['HAS_VALUE'] == 'P') \n",
    "   & (df['OPEN_YEAR_1'] >= 2015) \n",
    "   & (df['ESPC'] == 'software')\n",
    "  ]['DESCRIB']"
   ]
  },
  {
   "cell_type": "markdown",
   "metadata": {},
   "source": [
    "### Pode-se verificar que as 24 ocorrencias de software **precificáveis** são de fato precificáveis porem a `class ESPC` **não** as classificou corretamente"
   ]
  },
  {
   "cell_type": "code",
   "execution_count": 46,
   "metadata": {},
   "outputs": [
    {
     "name": "stdout",
     "output_type": "stream",
     "text": [
      "2016    22\n",
      "2015    22\n",
      "2018    21\n",
      "2017    21\n",
      "2019    11\n",
      "Name: OPEN_YEAR_1, dtype: int64\n",
      "2016    89\n",
      "2015    83\n",
      "2017    76\n",
      "2018    61\n",
      "2019    33\n",
      "Name: OPEN_YEAR_1, dtype: int64\n",
      "2018    36\n",
      "2016    23\n",
      "2015    22\n",
      "2017    14\n",
      "2019    13\n",
      "Name: OPEN_YEAR_1, dtype: int64\n",
      "2015    26\n",
      "2018    21\n",
      "2016    17\n",
      "2017    16\n",
      "2019     4\n",
      "Name: OPEN_YEAR_1, dtype: int64\n",
      "2015    13\n",
      "2016     7\n",
      "2019     4\n",
      "2018     2\n",
      "2017     2\n",
      "Name: OPEN_YEAR_1, dtype: int64\n",
      "2016    1\n",
      "Name: OPEN_YEAR_1, dtype: int64\n",
      "2016    29\n",
      "2015    20\n",
      "2019    16\n",
      "2018    13\n",
      "2017    12\n",
      "Name: OPEN_YEAR_1, dtype: int64\n",
      "2016    2\n",
      "2015    1\n",
      "2019    1\n",
      "Name: OPEN_YEAR_1, dtype: int64\n",
      "2016    63\n",
      "2015    60\n",
      "2018    28\n",
      "2017    11\n",
      "2019     5\n",
      "Name: OPEN_YEAR_1, dtype: int64\n",
      "2015    2\n",
      "2016    1\n",
      "Name: OPEN_YEAR_1, dtype: int64\n"
     ]
    }
   ],
   "source": [
    "hd = df[(df['HOUR_EFIC'] > 0) & (df['HAS_VALUE'] == 'P') & (df['OPEN_YEAR_1'] >= 2015) & (df['ESPC'] == 'hd')]['OPEN_YEAR_1'].value_counts()\n",
    "fonte = df[(df['HOUR_EFIC'] > 0) & (df['HAS_VALUE'] == 'P') & (df['OPEN_YEAR_1'] >= 2015) & (df['ESPC'] == 'fonte')]['OPEN_YEAR_1'].value_counts()\n",
    "bateria = df[(df['HOUR_EFIC'] > 0) & (df['HAS_VALUE'] == 'P') & (df['OPEN_YEAR_1'] >= 2015) & (df['ESPC'] == 'bateria')]['OPEN_YEAR_1'].value_counts()\n",
    "ram = df[(df['HOUR_EFIC'] > 0) & (df['HAS_VALUE'] == 'P') & (df['OPEN_YEAR_1'] >= 2015) & (df['ESPC'] == 'ram')]['OPEN_YEAR_1'].value_counts()\n",
    "placaR = df[(df['HOUR_EFIC'] > 0) & (df['HAS_VALUE'] == 'P') & (df['OPEN_YEAR_1'] >= 2015) & (df['ESPC'] == 'placa de rede')]['OPEN_YEAR_1'].value_counts()\n",
    "placaV = df[(df['HOUR_EFIC'] > 0) & (df['HAS_VALUE'] == 'P') & (df['OPEN_YEAR_1'] >= 2015) & (df['ESPC'] == 'placa de video')]['OPEN_YEAR_1'].value_counts()\n",
    "placaM = df[(df['HOUR_EFIC'] > 0) & (df['HAS_VALUE'] == 'P') & (df['OPEN_YEAR_1'] >= 2015) & (df['ESPC'] == 'placa')]['OPEN_YEAR_1'].value_counts()\n",
    "cabo = df[(df['HOUR_EFIC'] > 0) & (df['HAS_VALUE'] == 'P') & (df['OPEN_YEAR_1'] >= 2015) & (df['ESPC'] == 'cabo')]['OPEN_YEAR_1'].value_counts()\n",
    "nobreak = df[(df['HOUR_EFIC'] > 0) & (df['HAS_VALUE'] == 'P') & (df['OPEN_YEAR_1'] >= 2015) & (df['EQUIP'] == 'nobreak')]['OPEN_YEAR_1'].value_counts()\n",
    "estabilizador = df[(df['HOUR_EFIC'] > 0) & (df['HAS_VALUE'] == 'P') & (df['OPEN_YEAR_1'] >= 2015) & (df['EQUIP'] == 'estabilizador')]['OPEN_YEAR_1'].value_counts()\n",
    "print(hd)\n",
    "print(fonte)\n",
    "print(bateria)\n",
    "print(ram)\n",
    "print(placaR)\n",
    "print(placaV)\n",
    "print(placaM)\n",
    "print(cabo)\n",
    "print(nobreak)\n",
    "print(estabilizador)"
   ]
  },
  {
   "cell_type": "markdown",
   "metadata": {},
   "source": [
    "## Produtos como cabo, estabilizadores e placas de video não apresentam valores expressivos"
   ]
  },
  {
   "cell_type": "code",
   "execution_count": 50,
   "metadata": {},
   "outputs": [],
   "source": [
    "plt.rcParams['figure.figsize'] = (15,7)"
   ]
  },
  {
   "cell_type": "code",
   "execution_count": 51,
   "metadata": {},
   "outputs": [
    {
     "data": {
      "image/png": "[encoded data removed]",
      "text/plain": [
       "<Figure size 1080x504 with 1 Axes>"
      ]
     },
     "metadata": {
      "needs_background": "light"
     },
     "output_type": "display_data"
    }
   ],
   "source": [
    "import matplotlib\n",
    "import matplotlib.pyplot as plt\n",
    "import numpy as np\n",
    "\n",
    "labels = ['2015', '2016', '2017', '2018', '2019']\n",
    "\n",
    "barWidth = 0.1  # the width of the bars\n",
    "\n",
    "# Set position of bar on X axis\n",
    "r1 = np.arange(len(labels))\n",
    "r2 = [x + barWidth for x in r1]\n",
    "r3 = [x + barWidth for x in r2]\n",
    "r4 = [x + barWidth for x in r3]\n",
    "#r5 = [x + barWidth for x in r4]\n",
    "r6 = [x + barWidth for x in r4]\n",
    "#r7 = [x + barWidth for x in r6]\n",
    "r8 = [x + barWidth for x in r6]\n",
    "r9 = [x + barWidth for x in r8]\n",
    "\n",
    "fig, ax = plt.subplots()\n",
    "rects1 = ax.bar(r1, hd.values.tolist(), width=barWidth, edgecolor='white', label='hd')\n",
    "rects2 = ax.bar(r2, fonte.values.tolist(), width=barWidth, edgecolor='white', label='fonte')\n",
    "rects3 = ax.bar(r3, ram.values.tolist(), width=barWidth, edgecolor='white', label='ram')\n",
    "rects4 = ax.bar(r4, placaR.values.tolist(), width=barWidth, edgecolor='white', label='placa de rede')\n",
    "#rects5 = ax.bar(r5, placaV.values.tolist(), width=barWidth, edgecolor='white', label='placa de video')\n",
    "rects6 = ax.bar(r6, placaM.values.tolist(), width=barWidth, edgecolor='white', label='placa mãe')\n",
    "#rects7 = ax.bar(r7, cabo.values.tolist(), width=barWidth, edgecolor='white', label='cabos em geral')\n",
    "rects8 = ax.bar(r8, nobreak.values.tolist(), width=barWidth, edgecolor='white', label='nobreak')\n",
    "#rects9 = ax.bar(r9, estabilizador.values.tolist(), width=barWidth, edgecolor='white', label='estabilizador')\n",
    "\n",
    "# Add some text for labels, title and custom x-axis tick labels, etc.\n",
    "ax.set_ylabel('quantidades')\n",
    "ax.set_title('Especificações precificáveis')\n",
    "ax.set_xticklabels(labels)\n",
    "ax.legend()\n",
    "\n",
    "\n",
    "def autolabel(rects):\n",
    "    \"\"\"Attach a text label above each bar in *rects*, displaying its height.\"\"\"\n",
    "    for rect in rects:\n",
    "        height = rect.get_height()\n",
    "        ax.annotate('{}'.format(height),\n",
    "                    xy=(rect.get_x() + rect.get_width() / 2, height),\n",
    "                    xytext=(0, 3),  # 3 points vertical offset\n",
    "                    textcoords=\"offset points\",\n",
    "                    ha='center', va='bottom')\n",
    "\n",
    "\n",
    "autolabel(rects1)\n",
    "autolabel(rects2)\n",
    "autolabel(rects3)\n",
    "autolabel(rects4)\n",
    "#autolabel(rects5)\n",
    "autolabel(rects6)\n",
    "#autolabel(rects7)\n",
    "autolabel(rects8)\n",
    "#autolabel(rects9)\n",
    "\n",
    "fig.tight_layout()\n",
    "\n",
    "plt.show()"
   ]
  },
  {
   "cell_type": "markdown",
   "metadata": {},
   "source": [
    "## Definição dos mínimos"
   ]
  },
  {
   "cell_type": "code",
   "execution_count": 170,
   "metadata": {},
   "outputs": [],
   "source": [
    "hd_min = df[(df['HOUR_EFIC'] > 0) & (df['HAS_VALUE'] == 'P') & (df['OPEN_YEAR_1'] >= 2015) & (df['ESPC'] == 'hd')]['OPEN_YEAR_1'].value_counts().mean()\n",
    "fonte_min = df[(df['HOUR_EFIC'] > 0) & (df['HAS_VALUE'] == 'P') & (df['OPEN_YEAR_1'] >= 2015) & (df['ESPC'] == 'fonte')]['OPEN_YEAR_1'].value_counts().mean()\n",
    "bateria_min = df[(df['HOUR_EFIC'] > 0) & (df['HAS_VALUE'] == 'P') & (df['OPEN_YEAR_1'] >= 2015) & (df['ESPC'] == 'bateria')]['OPEN_YEAR_1'].value_counts().mean()\n",
    "ram_min = df[(df['HOUR_EFIC'] > 0) & (df['HAS_VALUE'] == 'P') & (df['OPEN_YEAR_1'] >= 2015) & (df['ESPC'] == 'ram')]['OPEN_YEAR_1'].value_counts().mean()\n",
    "placaR_min = df[(df['HOUR_EFIC'] > 0) & (df['HAS_VALUE'] == 'P') & (df['OPEN_YEAR_1'] >= 2015) & (df['ESPC'] == 'placa de rede')]['OPEN_YEAR_1'].value_counts().mean()\n",
    "placaV_min = df[(df['HOUR_EFIC'] > 0) & (df['HAS_VALUE'] == 'P') & (df['OPEN_YEAR_1'] >= 2015) & (df['ESPC'] == 'placa de video')]['OPEN_YEAR_1'].value_counts().mean()\n",
    "placaM_min = df[(df['HOUR_EFIC'] > 0) & (df['HAS_VALUE'] == 'P') & (df['OPEN_YEAR_1'] >= 2015) & (df['ESPC'] == 'placa')]['OPEN_YEAR_1'].value_counts().mean()\n",
    "cabo_min = df[(df['HOUR_EFIC'] > 0) & (df['HAS_VALUE'] == 'P') & (df['OPEN_YEAR_1'] >= 2015) & (df['ESPC'] == 'cabo')]['OPEN_YEAR_1'].value_counts().mean()\n",
    "nobreak_min = df[(df['HOUR_EFIC'] > 0) & (df['HAS_VALUE'] == 'P') & (df['OPEN_YEAR_1'] >= 2015) & (df['EQUIP'] == 'nobreak')]['OPEN_YEAR_1'].value_counts().mean()\n",
    "estabilizador_min = df[(df['HOUR_EFIC'] > 0) & (df['HAS_VALUE'] == 'P') & (df['OPEN_YEAR_1'] >= 2015) & (df['EQUIP'] == 'estabilizador')]['OPEN_YEAR_1'].value_counts().mean()"
   ]
  },
  {
   "cell_type": "markdown",
   "metadata": {},
   "source": [
    "## Definição dos máximos"
   ]
  },
  {
   "cell_type": "code",
   "execution_count": 121,
   "metadata": {},
   "outputs": [],
   "source": [
    "hd_max = df[(df['HOUR_EFIC'] > 0) & (df['HAS_VALUE'] == 'P') & (df['OPEN_YEAR_1'] >= 2015) & (df['ESPC'] == 'hd')]['OPEN_YEAR_1'].value_counts().max()\n",
    "fonte_max = df[(df['HOUR_EFIC'] > 0) & (df['HAS_VALUE'] == 'P') & (df['OPEN_YEAR_1'] >= 2015) & (df['ESPC'] == 'fonte')]['OPEN_YEAR_1'].value_counts().max()\n",
    "bateria_max = df[(df['HOUR_EFIC'] > 0) & (df['HAS_VALUE'] == 'P') & (df['OPEN_YEAR_1'] >= 2015) & (df['ESPC'] == 'bateria')]['OPEN_YEAR_1'].value_counts().max()\n",
    "ram_max = df[(df['HOUR_EFIC'] > 0) & (df['HAS_VALUE'] == 'P') & (df['OPEN_YEAR_1'] >= 2015) & (df['ESPC'] == 'ram')]['OPEN_YEAR_1'].value_counts().max()\n",
    "placaR_max = df[(df['HOUR_EFIC'] > 0) & (df['HAS_VALUE'] == 'P') & (df['OPEN_YEAR_1'] >= 2015) & (df['ESPC'] == 'placa de rede')]['OPEN_YEAR_1'].value_counts().max()\n",
    "placaV_max = df[(df['HOUR_EFIC'] > 0) & (df['HAS_VALUE'] == 'P') & (df['OPEN_YEAR_1'] >= 2015) & (df['ESPC'] == 'placa de video')]['OPEN_YEAR_1'].value_counts().max()\n",
    "placaM_max = df[(df['HOUR_EFIC'] > 0) & (df['HAS_VALUE'] == 'P') & (df['OPEN_YEAR_1'] >= 2015) & (df['ESPC'] == 'placa')]['OPEN_YEAR_1'].value_counts().max()\n",
    "cabo_max = df[(df['HOUR_EFIC'] > 0) & (df['HAS_VALUE'] == 'P') & (df['OPEN_YEAR_1'] >= 2015) & (df['ESPC'] == 'cabo')]['OPEN_YEAR_1'].value_counts().max()\n",
    "nobreak_max = df[(df['HOUR_EFIC'] > 0) & (df['HAS_VALUE'] == 'P') & (df['OPEN_YEAR_1'] >= 2015) & (df['EQUIP'] == 'nobreak')]['OPEN_YEAR_1'].value_counts().max()\n",
    "estabilizador_max = df[(df['HOUR_EFIC'] > 0) & (df['HAS_VALUE'] == 'P') & (df['OPEN_YEAR_1'] >= 2015) & (df['EQUIP'] == 'estabilizador')]['OPEN_YEAR_1'].value_counts().max()"
   ]
  },
  {
   "cell_type": "markdown",
   "metadata": {},
   "source": [
    "# Otimização Multiobjetivo"
   ]
  },
  {
   "cell_type": "markdown",
   "metadata": {},
   "source": [
    "- Minimixar f(x1,x2,x3,x4,x5,x6) = - x1 - 0*x2 - 0*x3 - 0*x4 - 0*x3 - 0*x6;\n",
    "- Minimixar f(x1,x2,x3,x4,x5,x6) = - 0*x1 - x2 - 0*x3 - 0*x4 - 0*x3 - 0*x6; \n",
    "- Minimixar f(x1,x2,x3,x4,x5,x6) = - 0*x1 - 0*x2 - x3 - 0*x4 - 0*x3 - 0*x6; \n",
    "- Minimixar f(x1,x2,x3,x4,x5,x6) = - 0*x1 - 0*x2 - 0*x3 - x4 - 0*x3 - 0*x6; \n",
    "- Minimixar f(x1,x2,x3,x4,x5,x6) = - 0*x1 - 0*x2 - 0*x3 - 0*x4 - x3 - 0*x6; \n",
    "- Minimixar f(x1,x2,x3,x4,x5,x6) = - 0*x1 - 0*x2 - 0*x3 - 0*x4 - 0*x3 - x6; "
   ]
  },
  {
   "cell_type": "markdown",
   "metadata": {},
   "source": [
    "- g(x1,x2,x3,x4,x3,x6) = - x1*valueX1 - x2*valueX2 - x3*valueX3 - x4*valueX4 - x5*valueX5 - x6*valueX6 >= Orcamento"
   ]
  },
  {
   "cell_type": "markdown",
   "metadata": {},
   "source": [
    "- f(x1,x2,x3,x4,x5,x6) → x1 <= mean.x2ear(x1) or x1 <= Minimixar.year(x1)\n",
    "- f(x1,x2,x3,x4,x5,x6) → x2 <= mean.x2ear(x2) or x2 <= Minimixar.year(x2)\n",
    "- f(x1,x2,x3,x4,x5,x6) → x3 <= mean.x2ear(x3) or x3 <= Minimixar.year(x3)\n",
    "- f(x1,x2,x3,x4,x5,x6) → x4 <= mean.x2ear(x4) or x4 <= Minimixar.year(x4)\n",
    "- f(x1,x2,x3,x4,x5,x6) → x3 <= mean.x2ear(x3) or x3 <= Minimixar.year(x3)\n",
    "- f(x1,x2,x3,x4,x5,x6) → x6 <= mean.x2ear(x6) or x6 <= Minimixar.year(x6)\n",
    "\n",
    "- f(x1,x2,x3,x4,x5,x6) → x1 >= 0 or x1 >= min.year(x1)\n",
    "- f(x1,x2,x3,x4,x5,x6) → x2 >= 0 or x2 <= min.year(x2)\n",
    "- f(x1,x2,x3,x4,x5,x6) → x3 >= 0 or x3 <= min.year(x3)\n",
    "- f(x1,x2,x3,x4,x5,x6) → x4 >= 0 or x4 >= min.year(x4)\n",
    "- f(x1,x2,x3,x4,x5,x6) → x3 >= 0 or x3 >= min.year(x3)\n",
    "- f(x1,x2,x3,x4,x5,x6) → x6 >= 0 or x6 >= min.year(x6)"
   ]
  },
  {
   "cell_type": "markdown",
   "metadata": {},
   "source": [
    "* x1 = hd;\n",
    "* x2 = fonte;\n",
    "* x3 = ram;\n",
    "* x4 = nb; \n",
    "* x5 = placaR;\n",
    "* x6 = placaM;"
   ]
  },
  {
   "cell_type": "code",
   "execution_count": 194,
   "metadata": {},
   "outputs": [],
   "source": [
    "valueX1 = 250\n",
    "valueX2 = 450\n",
    "valueX3 = 100\n",
    "valueX4 = 1200\n",
    "valueX5 = 100\n",
    "valueX6 = 600"
   ]
  },
  {
   "cell_type": "code",
   "execution_count": 195,
   "metadata": {},
   "outputs": [],
   "source": [
    "# conda install -c conda-forge autograd"
   ]
  },
  {
   "cell_type": "code",
   "execution_count": 214,
   "metadata": {},
   "outputs": [
    {
     "name": "stdout",
     "output_type": "stream",
     "text": [
      "Optimal\n",
      " min value R$ = 88750.0\n",
      " hd = 19.4\n",
      " fonte = 68.4\n",
      " ram = 16.8\n",
      " nobreak = 33.4\n",
      " placaR = 5.6\n",
      " placaM = 18.0\n"
     ]
    }
   ],
   "source": [
    "# first, import PuLP\n",
    "import pulp\n",
    "\n",
    "# then, conduct initial declaration of problem\n",
    "linearProblem = pulp.LpProblem(\"Maximizing for first objective\",pulp.LpMinimize)\n",
    "\n",
    "# delcare optimization variables, using PuLP\n",
    "x1 = pulp.LpVariable(\"x1\", lowBound=hd_min, upBound=hd_max)  \n",
    "x2 = pulp.LpVariable(\"x2\", lowBound=fonte_min, upBound=fonte_max)\n",
    "x3 = pulp.LpVariable(\"x3\", lowBound=ram_min, upBound=ram_max)\n",
    "x4 = pulp.LpVariable(\"x4\", lowBound=nobreak_min, upBound=nobreak_max)\n",
    "x5 = pulp.LpVariable(\"x5\", lowBound=placaR_min, upBound=placaR_max)\n",
    "x6 = pulp.LpVariable(\"x6\", lowBound=placaM_min, upBound=placaM_max)\n",
    "\n",
    "# add (first) objective function to the linear problem statement\n",
    "linearProblem += x1*valueX1 + x2*valueX2 + x3*valueX3 + x4*valueX4 + x5*valueX5 + x6*valueX6\n",
    "\n",
    "# add the constraints to the problem\n",
    "linearProblem += x1*valueX1 + x2*valueX2 + x3*valueX3 + x4*valueX4 + x5*valueX5 + x6*valueX6 <= 90000\n",
    "\n",
    "# solve with default solver, maximizing the first objective\n",
    "solution = linearProblem.solve()\n",
    "\n",
    "# output information if optimum was found, what the maximal objective value is and what the optimal point is\n",
    "print(str(pulp.LpStatus[solution])+\n",
    "      \"\\n min value R$ = \"+str(pulp.value(linearProblem.objective))+\n",
    "      \"\\n hd = \"+str(pulp.value(x1))+\n",
    "      \"\\n fonte = \"+str(pulp.value(x2))+\n",
    "      \"\\n ram = \"+str(pulp.value(x3))+\n",
    "      \"\\n nobreak = \"+str(pulp.value(x4))+\n",
    "      \"\\n placaR = \"+str(pulp.value(x5))+\n",
    "      \"\\n placaM = \"+str(pulp.value(x6)))"
   ]
  },
  {
   "cell_type": "code",
   "execution_count": null,
   "metadata": {},
   "outputs": [],
   "source": []
  }
 ],
 "metadata": {
  "kernelspec": {
   "display_name": "Python 3",
   "language": "python",
   "name": "python3"
  },
  "language_info": {
   "codemirror_mode": {
    "name": "ipython",
    "version": 3
   },
   "file_extension": ".py",
   "mimetype": "text/x-python",
   "name": "python",
   "nbconvert_exporter": "python",
   "pygments_lexer": "ipython3",
   "version": "3.7.4"
  }
 },
 "nbformat": 4,
 "nbformat_minor": 4
}
