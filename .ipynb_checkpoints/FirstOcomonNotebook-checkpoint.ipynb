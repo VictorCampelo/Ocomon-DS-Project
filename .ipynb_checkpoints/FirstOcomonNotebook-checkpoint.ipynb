{
 "cells": [
  {
   "cell_type": "markdown",
   "metadata": {},
   "source": [
    "# Análise de dados do Ocomon"
   ]
  },
  {
   "cell_type": "markdown",
   "metadata": {},
   "source": [
    "## Os comando usados aqui seguem o tutorial da HackerLab"
   ]
  },
  {
   "cell_type": "markdown",
   "metadata": {},
   "source": [
    "### Os dados aqui importados já estão tratatos e com os devidos novos campos adicionados"
   ]
  },
  {
   "cell_type": "markdown",
   "metadata": {},
   "source": [
    "#### Bibliotecas:"
   ]
  },
  {
   "cell_type": "code",
   "execution_count": 124,
   "metadata": {},
   "outputs": [],
   "source": [
    "import pandas as pd\n",
    "import matplotlib.pyplot as plt\n",
    "from datetime import datetime\n",
    "import numpy as np"
   ]
  },
  {
   "cell_type": "markdown",
   "metadata": {},
   "source": [
    "#### Carregando o arquivo:"
   ]
  },
  {
   "cell_type": "code",
   "execution_count": 125,
   "metadata": {},
   "outputs": [],
   "source": [
    "# Import DataFrame\n",
    "# if csv don't are split per \",\", then we've to add a new args to method, \n",
    "# ex: read_csv('x.csv', sep=';')\n",
    "\n",
    "#the pattern code to decode file in read_csv() method is utf-8\n",
    "# if the file don't use this enconde, use enconding='cp1252'\n",
    "df = pd.read_csv('ocomon.csv')"
   ]
  },
  {
   "cell_type": "code",
   "execution_count": 126,
   "metadata": {},
   "outputs": [
    {
     "data": {
      "text/html": [
       "<div>\n",
       "<style scoped>\n",
       "    .dataframe tbody tr th:only-of-type {\n",
       "        vertical-align: middle;\n",
       "    }\n",
       "\n",
       "    .dataframe tbody tr th {\n",
       "        vertical-align: top;\n",
       "    }\n",
       "\n",
       "    .dataframe thead th {\n",
       "        text-align: right;\n",
       "    }\n",
       "</style>\n",
       "<table border=\"1\" class=\"dataframe\">\n",
       "  <thead>\n",
       "    <tr style=\"text-align: right;\">\n",
       "      <th></th>\n",
       "      <th>DESCRIB</th>\n",
       "      <th>PROB_ORIG</th>\n",
       "      <th>PROB</th>\n",
       "      <th>ESPC</th>\n",
       "      <th>EQUIP</th>\n",
       "      <th>I_NAME</th>\n",
       "      <th>R_NAME</th>\n",
       "      <th>C_NAME</th>\n",
       "      <th>EQUIP_ID</th>\n",
       "      <th>HAS_VALUE</th>\n",
       "      <th>...</th>\n",
       "      <th>HOUR_OPEN</th>\n",
       "      <th>MIN_OPEN</th>\n",
       "      <th>DATA_OPEN</th>\n",
       "      <th>CLOSE_YEAR_4</th>\n",
       "      <th>CLOSE_MONTH_4</th>\n",
       "      <th>CLOSE_DAY_4</th>\n",
       "      <th>HOUR_CLOSE</th>\n",
       "      <th>MIN_CLOSE</th>\n",
       "      <th>DATA_CLOSE</th>\n",
       "      <th>STI</th>\n",
       "    </tr>\n",
       "  </thead>\n",
       "  <tbody>\n",
       "    <tr>\n",
       "      <td>0</td>\n",
       "      <td>foi solicitado a manutencao de pontos de reded...</td>\n",
       "      <td>NaN</td>\n",
       "      <td>N.A</td>\n",
       "      <td>N.A</td>\n",
       "      <td>ponto de rede</td>\n",
       "      <td>teresina</td>\n",
       "      <td>jaclason machado veras</td>\n",
       "      <td>julia sousa santos</td>\n",
       "      <td>-999999</td>\n",
       "      <td>NaN</td>\n",
       "      <td>...</td>\n",
       "      <td>9</td>\n",
       "      <td>15</td>\n",
       "      <td>18/4/2012</td>\n",
       "      <td>1</td>\n",
       "      <td>2</td>\n",
       "      <td>4</td>\n",
       "      <td>9</td>\n",
       "      <td>0</td>\n",
       "      <td>26/4/2012</td>\n",
       "      <td>sti_cca</td>\n",
       "    </tr>\n",
       "    <tr>\n",
       "      <td>1</td>\n",
       "      <td>computador nao liga  sujeira e mau na memoria ...</td>\n",
       "      <td>NaN</td>\n",
       "      <td>hardware</td>\n",
       "      <td>ram</td>\n",
       "      <td>computador</td>\n",
       "      <td>teresina</td>\n",
       "      <td>secretaria do mestrado de piliticas publicas</td>\n",
       "      <td>luis carlos dos santos farias</td>\n",
       "      <td>140981</td>\n",
       "      <td>P</td>\n",
       "      <td>...</td>\n",
       "      <td>8</td>\n",
       "      <td>13</td>\n",
       "      <td>23/4/2014</td>\n",
       "      <td>2</td>\n",
       "      <td>2</td>\n",
       "      <td>4</td>\n",
       "      <td>9</td>\n",
       "      <td>4</td>\n",
       "      <td>23/4/2014</td>\n",
       "      <td>sti_cchl</td>\n",
       "    </tr>\n",
       "    <tr>\n",
       "      <td>2</td>\n",
       "      <td>meu computador esta ligando o monitor tb mas a...</td>\n",
       "      <td>NaN</td>\n",
       "      <td>hardware</td>\n",
       "      <td>hardware</td>\n",
       "      <td>computador</td>\n",
       "      <td>teresina</td>\n",
       "      <td>gabinete do reitor 5511</td>\n",
       "      <td>constanca dolores lopes monteiro</td>\n",
       "      <td>-999999</td>\n",
       "      <td>NP</td>\n",
       "      <td>...</td>\n",
       "      <td>15</td>\n",
       "      <td>43</td>\n",
       "      <td>24/10/2011</td>\n",
       "      <td>1</td>\n",
       "      <td>4</td>\n",
       "      <td>4</td>\n",
       "      <td>15</td>\n",
       "      <td>59</td>\n",
       "      <td>24/10/2011</td>\n",
       "      <td>sti_central</td>\n",
       "    </tr>\n",
       "    <tr>\n",
       "      <td>3</td>\n",
       "      <td>desabilite o envio de email como o servico de ...</td>\n",
       "      <td>utilize esta descricao de problema para proble...</td>\n",
       "      <td>N.A</td>\n",
       "      <td>N.A</td>\n",
       "      <td>e-mail</td>\n",
       "      <td>teresina</td>\n",
       "      <td>guilherme</td>\n",
       "      <td>guilherme avelino</td>\n",
       "      <td>-999999</td>\n",
       "      <td>NaN</td>\n",
       "      <td>...</td>\n",
       "      <td>13</td>\n",
       "      <td>20</td>\n",
       "      <td>24/10/2011</td>\n",
       "      <td>1</td>\n",
       "      <td>4</td>\n",
       "      <td>4</td>\n",
       "      <td>17</td>\n",
       "      <td>6</td>\n",
       "      <td>26/10/2011</td>\n",
       "      <td>sti_central</td>\n",
       "    </tr>\n",
       "    <tr>\n",
       "      <td>4</td>\n",
       "      <td>instalacao de impressoras e remocao de virus  ...</td>\n",
       "      <td>NaN</td>\n",
       "      <td>hardware</td>\n",
       "      <td>virus</td>\n",
       "      <td>impressora</td>\n",
       "      <td>teresina</td>\n",
       "      <td>NaN</td>\n",
       "      <td>bolsista nti</td>\n",
       "      <td>-999999</td>\n",
       "      <td>NP</td>\n",
       "      <td>...</td>\n",
       "      <td>12</td>\n",
       "      <td>13</td>\n",
       "      <td>24/10/2011</td>\n",
       "      <td>1</td>\n",
       "      <td>4</td>\n",
       "      <td>4</td>\n",
       "      <td>9</td>\n",
       "      <td>11</td>\n",
       "      <td>26/10/2011</td>\n",
       "      <td>sti_central</td>\n",
       "    </tr>\n",
       "  </tbody>\n",
       "</table>\n",
       "<p>5 rows × 25 columns</p>\n",
       "</div>"
      ],
      "text/plain": [
       "                                             DESCRIB  \\\n",
       "0  foi solicitado a manutencao de pontos de reded...   \n",
       "1  computador nao liga  sujeira e mau na memoria ...   \n",
       "2  meu computador esta ligando o monitor tb mas a...   \n",
       "3  desabilite o envio de email como o servico de ...   \n",
       "4  instalacao de impressoras e remocao de virus  ...   \n",
       "\n",
       "                                           PROB_ORIG      PROB      ESPC  \\\n",
       "0                                                NaN       N.A       N.A   \n",
       "1                                                NaN  hardware       ram   \n",
       "2                                                NaN  hardware  hardware   \n",
       "3  utilize esta descricao de problema para proble...       N.A       N.A   \n",
       "4                                                NaN  hardware     virus   \n",
       "\n",
       "           EQUIP    I_NAME                                        R_NAME  \\\n",
       "0  ponto de rede  teresina                        jaclason machado veras   \n",
       "1     computador  teresina  secretaria do mestrado de piliticas publicas   \n",
       "2     computador  teresina                       gabinete do reitor 5511   \n",
       "3         e-mail  teresina                                     guilherme   \n",
       "4     impressora  teresina                                           NaN   \n",
       "\n",
       "                             C_NAME  EQUIP_ID HAS_VALUE  ... HOUR_OPEN  \\\n",
       "0                julia sousa santos   -999999       NaN  ...         9   \n",
       "1     luis carlos dos santos farias    140981         P  ...         8   \n",
       "2  constanca dolores lopes monteiro   -999999        NP  ...        15   \n",
       "3                 guilherme avelino   -999999       NaN  ...        13   \n",
       "4                      bolsista nti   -999999        NP  ...        12   \n",
       "\n",
       "  MIN_OPEN   DATA_OPEN  CLOSE_YEAR_4  CLOSE_MONTH_4  CLOSE_DAY_4  HOUR_CLOSE  \\\n",
       "0       15   18/4/2012             1              2            4           9   \n",
       "1       13   23/4/2014             2              2            4           9   \n",
       "2       43  24/10/2011             1              4            4          15   \n",
       "3       20  24/10/2011             1              4            4          17   \n",
       "4       13  24/10/2011             1              4            4           9   \n",
       "\n",
       "  MIN_CLOSE  DATA_CLOSE          STI  \n",
       "0         0   26/4/2012      sti_cca  \n",
       "1         4   23/4/2014     sti_cchl  \n",
       "2        59  24/10/2011  sti_central  \n",
       "3         6  26/10/2011  sti_central  \n",
       "4        11  26/10/2011  sti_central  \n",
       "\n",
       "[5 rows x 25 columns]"
      ]
     },
     "execution_count": 126,
     "metadata": {},
     "output_type": "execute_result"
    }
   ],
   "source": [
    "#show the 5 first line from dataframe\n",
    "df.head()"
   ]
  },
  {
   "cell_type": "code",
   "execution_count": 127,
   "metadata": {},
   "outputs": [
    {
     "data": {
      "text/html": [
       "<div>\n",
       "<style scoped>\n",
       "    .dataframe tbody tr th:only-of-type {\n",
       "        vertical-align: middle;\n",
       "    }\n",
       "\n",
       "    .dataframe tbody tr th {\n",
       "        vertical-align: top;\n",
       "    }\n",
       "\n",
       "    .dataframe thead th {\n",
       "        text-align: right;\n",
       "    }\n",
       "</style>\n",
       "<table border=\"1\" class=\"dataframe\">\n",
       "  <thead>\n",
       "    <tr style=\"text-align: right;\">\n",
       "      <th></th>\n",
       "      <th>DESCRIB</th>\n",
       "      <th>PROB_ORIG</th>\n",
       "      <th>PROB</th>\n",
       "      <th>ESPC</th>\n",
       "      <th>EQUIP</th>\n",
       "      <th>I_NAME</th>\n",
       "      <th>R_NAME</th>\n",
       "      <th>C_NAME</th>\n",
       "      <th>EQUIP_ID</th>\n",
       "      <th>HAS_VALUE</th>\n",
       "      <th>...</th>\n",
       "      <th>HOUR_OPEN</th>\n",
       "      <th>MIN_OPEN</th>\n",
       "      <th>DATA_OPEN</th>\n",
       "      <th>CLOSE_YEAR_4</th>\n",
       "      <th>CLOSE_MONTH_4</th>\n",
       "      <th>CLOSE_DAY_4</th>\n",
       "      <th>HOUR_CLOSE</th>\n",
       "      <th>MIN_CLOSE</th>\n",
       "      <th>DATA_CLOSE</th>\n",
       "      <th>STI</th>\n",
       "    </tr>\n",
       "  </thead>\n",
       "  <tbody>\n",
       "    <tr>\n",
       "      <td>15797</td>\n",
       "      <td>computador lentidao preuni cp foi realizado ba...</td>\n",
       "      <td>NaN</td>\n",
       "      <td>software</td>\n",
       "      <td>s.o</td>\n",
       "      <td>computador</td>\n",
       "      <td>teresina</td>\n",
       "      <td>erica cecilia</td>\n",
       "      <td>bolsista geral 2018</td>\n",
       "      <td>188134</td>\n",
       "      <td>NP</td>\n",
       "      <td>...</td>\n",
       "      <td>15</td>\n",
       "      <td>23</td>\n",
       "      <td>13/9/2019</td>\n",
       "      <td>4</td>\n",
       "      <td>3</td>\n",
       "      <td>3</td>\n",
       "      <td>8</td>\n",
       "      <td>21</td>\n",
       "      <td>17/9/2019</td>\n",
       "      <td>0</td>\n",
       "    </tr>\n",
       "    <tr>\n",
       "      <td>15798</td>\n",
       "      <td>computador lento e nao liga formatar apenas se...</td>\n",
       "      <td>NaN</td>\n",
       "      <td>hardware</td>\n",
       "      <td>outros</td>\n",
       "      <td>computador</td>\n",
       "      <td>teresina</td>\n",
       "      <td>igor cunha</td>\n",
       "      <td>bolsista geral 2018</td>\n",
       "      <td>175491</td>\n",
       "      <td>NP</td>\n",
       "      <td>...</td>\n",
       "      <td>16</td>\n",
       "      <td>21</td>\n",
       "      <td>13/9/2019</td>\n",
       "      <td>4</td>\n",
       "      <td>3</td>\n",
       "      <td>2</td>\n",
       "      <td>17</td>\n",
       "      <td>47</td>\n",
       "      <td>13/9/2019</td>\n",
       "      <td>0</td>\n",
       "    </tr>\n",
       "    <tr>\n",
       "      <td>15799</td>\n",
       "      <td>liga e desliga reinicia sozinho local prospeqi...</td>\n",
       "      <td>NaN</td>\n",
       "      <td>software</td>\n",
       "      <td>s.o</td>\n",
       "      <td>computador</td>\n",
       "      <td>teresina</td>\n",
       "      <td>joao xavier</td>\n",
       "      <td>bolsista geral 2018</td>\n",
       "      <td>237490</td>\n",
       "      <td>NP</td>\n",
       "      <td>...</td>\n",
       "      <td>16</td>\n",
       "      <td>31</td>\n",
       "      <td>16/9/2019</td>\n",
       "      <td>-1</td>\n",
       "      <td>-1</td>\n",
       "      <td>-1</td>\n",
       "      <td>-1</td>\n",
       "      <td>-1</td>\n",
       "      <td>99/99/9999</td>\n",
       "      <td>0</td>\n",
       "    </tr>\n",
       "    <tr>\n",
       "      <td>15800</td>\n",
       "      <td>windows corrompidocoordenadoria de avaliacao e...</td>\n",
       "      <td>NaN</td>\n",
       "      <td>software</td>\n",
       "      <td>s.o</td>\n",
       "      <td>computador</td>\n",
       "      <td>teresina</td>\n",
       "      <td>raphaela da mota silva</td>\n",
       "      <td>bolsista geral 2018</td>\n",
       "      <td>256479</td>\n",
       "      <td>NP</td>\n",
       "      <td>...</td>\n",
       "      <td>17</td>\n",
       "      <td>35</td>\n",
       "      <td>17/9/2019</td>\n",
       "      <td>-1</td>\n",
       "      <td>-1</td>\n",
       "      <td>-1</td>\n",
       "      <td>-1</td>\n",
       "      <td>-1</td>\n",
       "      <td>99/99/9999</td>\n",
       "      <td>0</td>\n",
       "    </tr>\n",
       "    <tr>\n",
       "      <td>15801</td>\n",
       "      <td>computador nao liga aberto por felipe a  null ...</td>\n",
       "      <td>NaN</td>\n",
       "      <td>hardware</td>\n",
       "      <td>hardware</td>\n",
       "      <td>computador</td>\n",
       "      <td>teresina</td>\n",
       "      <td>lucas lopes</td>\n",
       "      <td>bolsista geral 2018</td>\n",
       "      <td>161603</td>\n",
       "      <td>NP</td>\n",
       "      <td>...</td>\n",
       "      <td>8</td>\n",
       "      <td>54</td>\n",
       "      <td>18/9/2019</td>\n",
       "      <td>-1</td>\n",
       "      <td>-1</td>\n",
       "      <td>-1</td>\n",
       "      <td>-1</td>\n",
       "      <td>-1</td>\n",
       "      <td>99/99/9999</td>\n",
       "      <td>sti_central</td>\n",
       "    </tr>\n",
       "  </tbody>\n",
       "</table>\n",
       "<p>5 rows × 25 columns</p>\n",
       "</div>"
      ],
      "text/plain": [
       "                                                 DESCRIB PROB_ORIG      PROB  \\\n",
       "15797  computador lentidao preuni cp foi realizado ba...       NaN  software   \n",
       "15798  computador lento e nao liga formatar apenas se...       NaN  hardware   \n",
       "15799  liga e desliga reinicia sozinho local prospeqi...       NaN  software   \n",
       "15800  windows corrompidocoordenadoria de avaliacao e...       NaN  software   \n",
       "15801  computador nao liga aberto por felipe a  null ...       NaN  hardware   \n",
       "\n",
       "           ESPC       EQUIP    I_NAME                  R_NAME  \\\n",
       "15797       s.o  computador  teresina           erica cecilia   \n",
       "15798    outros  computador  teresina              igor cunha   \n",
       "15799       s.o  computador  teresina             joao xavier   \n",
       "15800       s.o  computador  teresina  raphaela da mota silva   \n",
       "15801  hardware  computador  teresina             lucas lopes   \n",
       "\n",
       "                    C_NAME  EQUIP_ID HAS_VALUE  ... HOUR_OPEN MIN_OPEN  \\\n",
       "15797  bolsista geral 2018    188134        NP  ...        15       23   \n",
       "15798  bolsista geral 2018    175491        NP  ...        16       21   \n",
       "15799  bolsista geral 2018    237490        NP  ...        16       31   \n",
       "15800  bolsista geral 2018    256479        NP  ...        17       35   \n",
       "15801  bolsista geral 2018    161603        NP  ...         8       54   \n",
       "\n",
       "       DATA_OPEN  CLOSE_YEAR_4  CLOSE_MONTH_4  CLOSE_DAY_4  HOUR_CLOSE  \\\n",
       "15797  13/9/2019             4              3            3           8   \n",
       "15798  13/9/2019             4              3            2          17   \n",
       "15799  16/9/2019            -1             -1           -1          -1   \n",
       "15800  17/9/2019            -1             -1           -1          -1   \n",
       "15801  18/9/2019            -1             -1           -1          -1   \n",
       "\n",
       "      MIN_CLOSE  DATA_CLOSE          STI  \n",
       "15797        21   17/9/2019            0  \n",
       "15798        47   13/9/2019            0  \n",
       "15799        -1  99/99/9999            0  \n",
       "15800        -1  99/99/9999            0  \n",
       "15801        -1  99/99/9999  sti_central  \n",
       "\n",
       "[5 rows x 25 columns]"
      ]
     },
     "execution_count": 127,
     "metadata": {},
     "output_type": "execute_result"
    }
   ],
   "source": [
    "#show the last 5 line from the dataframe\n",
    "df.tail()"
   ]
  },
  {
   "cell_type": "code",
   "execution_count": 128,
   "metadata": {},
   "outputs": [
    {
     "data": {
      "text/plain": [
       "DESCRIB          15802\n",
       "PROB_ORIG         5853\n",
       "PROB             15802\n",
       "ESPC             15802\n",
       "EQUIP            15802\n",
       "I_NAME           15466\n",
       "R_NAME           15433\n",
       "C_NAME           15802\n",
       "EQUIP_ID         15802\n",
       "HAS_VALUE        10673\n",
       "DEPARTMENT       15774\n",
       "LOCALE           15583\n",
       "OPEN_YEAR_4      15802\n",
       "OPEN_MONTH_4     15802\n",
       "OPEN_DAY_4       15802\n",
       "HOUR_OPEN        15802\n",
       "MIN_OPEN         15802\n",
       "DATA_OPEN        15802\n",
       "CLOSE_YEAR_4     15802\n",
       "CLOSE_MONTH_4    15802\n",
       "CLOSE_DAY_4      15802\n",
       "HOUR_CLOSE       15802\n",
       "MIN_CLOSE        15802\n",
       "DATA_CLOSE       15802\n",
       "STI              15774\n",
       "dtype: int64"
      ]
     },
     "execution_count": 128,
     "metadata": {},
     "output_type": "execute_result"
    }
   ],
   "source": [
    "#show how many registres has in each column\n",
    "df.count()"
   ]
  },
  {
   "cell_type": "code",
   "execution_count": 129,
   "metadata": {},
   "outputs": [
    {
     "data": {
      "text/html": [
       "<div>\n",
       "<style scoped>\n",
       "    .dataframe tbody tr th:only-of-type {\n",
       "        vertical-align: middle;\n",
       "    }\n",
       "\n",
       "    .dataframe tbody tr th {\n",
       "        vertical-align: top;\n",
       "    }\n",
       "\n",
       "    .dataframe thead th {\n",
       "        text-align: right;\n",
       "    }\n",
       "</style>\n",
       "<table border=\"1\" class=\"dataframe\">\n",
       "  <thead>\n",
       "    <tr style=\"text-align: right;\">\n",
       "      <th></th>\n",
       "      <th>EQUIP_ID</th>\n",
       "      <th>OPEN_YEAR_4</th>\n",
       "      <th>OPEN_MONTH_4</th>\n",
       "      <th>OPEN_DAY_4</th>\n",
       "      <th>HOUR_OPEN</th>\n",
       "      <th>MIN_OPEN</th>\n",
       "      <th>CLOSE_YEAR_4</th>\n",
       "      <th>CLOSE_MONTH_4</th>\n",
       "      <th>CLOSE_DAY_4</th>\n",
       "      <th>HOUR_CLOSE</th>\n",
       "      <th>MIN_CLOSE</th>\n",
       "    </tr>\n",
       "  </thead>\n",
       "  <tbody>\n",
       "    <tr>\n",
       "      <td>count</td>\n",
       "      <td>1.580200e+04</td>\n",
       "      <td>15802.000000</td>\n",
       "      <td>15802.000000</td>\n",
       "      <td>15802.000000</td>\n",
       "      <td>15802.000000</td>\n",
       "      <td>15802.000000</td>\n",
       "      <td>15802.000000</td>\n",
       "      <td>15802.000000</td>\n",
       "      <td>15802.000000</td>\n",
       "      <td>15802.000000</td>\n",
       "      <td>15802.000000</td>\n",
       "    </tr>\n",
       "    <tr>\n",
       "      <td>mean</td>\n",
       "      <td>2.535997e+07</td>\n",
       "      <td>2.175990</td>\n",
       "      <td>2.384951</td>\n",
       "      <td>2.667384</td>\n",
       "      <td>12.067397</td>\n",
       "      <td>29.576699</td>\n",
       "      <td>1.736742</td>\n",
       "      <td>2.093532</td>\n",
       "      <td>2.304898</td>\n",
       "      <td>10.966523</td>\n",
       "      <td>25.963802</td>\n",
       "    </tr>\n",
       "    <tr>\n",
       "      <td>std</td>\n",
       "      <td>2.321736e+08</td>\n",
       "      <td>1.002167</td>\n",
       "      <td>1.131484</td>\n",
       "      <td>1.134959</td>\n",
       "      <td>2.984860</td>\n",
       "      <td>17.241296</td>\n",
       "      <td>1.282926</td>\n",
       "      <td>1.496906</td>\n",
       "      <td>1.547816</td>\n",
       "      <td>4.987646</td>\n",
       "      <td>18.575372</td>\n",
       "    </tr>\n",
       "    <tr>\n",
       "      <td>min</td>\n",
       "      <td>-9.999990e+05</td>\n",
       "      <td>1.000000</td>\n",
       "      <td>1.000000</td>\n",
       "      <td>1.000000</td>\n",
       "      <td>0.000000</td>\n",
       "      <td>0.000000</td>\n",
       "      <td>-1.000000</td>\n",
       "      <td>-1.000000</td>\n",
       "      <td>-1.000000</td>\n",
       "      <td>-1.000000</td>\n",
       "      <td>-1.000000</td>\n",
       "    </tr>\n",
       "    <tr>\n",
       "      <td>25%</td>\n",
       "      <td>-9.999990e+05</td>\n",
       "      <td>1.000000</td>\n",
       "      <td>1.000000</td>\n",
       "      <td>2.000000</td>\n",
       "      <td>9.000000</td>\n",
       "      <td>15.000000</td>\n",
       "      <td>1.000000</td>\n",
       "      <td>1.000000</td>\n",
       "      <td>1.000000</td>\n",
       "      <td>9.000000</td>\n",
       "      <td>9.000000</td>\n",
       "    </tr>\n",
       "    <tr>\n",
       "      <td>50%</td>\n",
       "      <td>9.943000e+03</td>\n",
       "      <td>2.000000</td>\n",
       "      <td>2.000000</td>\n",
       "      <td>3.000000</td>\n",
       "      <td>11.000000</td>\n",
       "      <td>30.000000</td>\n",
       "      <td>2.000000</td>\n",
       "      <td>2.000000</td>\n",
       "      <td>3.000000</td>\n",
       "      <td>11.000000</td>\n",
       "      <td>26.000000</td>\n",
       "    </tr>\n",
       "    <tr>\n",
       "      <td>75%</td>\n",
       "      <td>1.424095e+05</td>\n",
       "      <td>3.000000</td>\n",
       "      <td>3.000000</td>\n",
       "      <td>4.000000</td>\n",
       "      <td>15.000000</td>\n",
       "      <td>44.000000</td>\n",
       "      <td>2.000000</td>\n",
       "      <td>3.000000</td>\n",
       "      <td>4.000000</td>\n",
       "      <td>15.000000</td>\n",
       "      <td>42.000000</td>\n",
       "    </tr>\n",
       "    <tr>\n",
       "      <td>max</td>\n",
       "      <td>2.147484e+09</td>\n",
       "      <td>4.000000</td>\n",
       "      <td>4.000000</td>\n",
       "      <td>4.000000</td>\n",
       "      <td>23.000000</td>\n",
       "      <td>59.000000</td>\n",
       "      <td>4.000000</td>\n",
       "      <td>4.000000</td>\n",
       "      <td>4.000000</td>\n",
       "      <td>23.000000</td>\n",
       "      <td>59.000000</td>\n",
       "    </tr>\n",
       "  </tbody>\n",
       "</table>\n",
       "</div>"
      ],
      "text/plain": [
       "           EQUIP_ID   OPEN_YEAR_4  OPEN_MONTH_4    OPEN_DAY_4     HOUR_OPEN  \\\n",
       "count  1.580200e+04  15802.000000  15802.000000  15802.000000  15802.000000   \n",
       "mean   2.535997e+07      2.175990      2.384951      2.667384     12.067397   \n",
       "std    2.321736e+08      1.002167      1.131484      1.134959      2.984860   \n",
       "min   -9.999990e+05      1.000000      1.000000      1.000000      0.000000   \n",
       "25%   -9.999990e+05      1.000000      1.000000      2.000000      9.000000   \n",
       "50%    9.943000e+03      2.000000      2.000000      3.000000     11.000000   \n",
       "75%    1.424095e+05      3.000000      3.000000      4.000000     15.000000   \n",
       "max    2.147484e+09      4.000000      4.000000      4.000000     23.000000   \n",
       "\n",
       "           MIN_OPEN  CLOSE_YEAR_4  CLOSE_MONTH_4   CLOSE_DAY_4    HOUR_CLOSE  \\\n",
       "count  15802.000000  15802.000000   15802.000000  15802.000000  15802.000000   \n",
       "mean      29.576699      1.736742       2.093532      2.304898     10.966523   \n",
       "std       17.241296      1.282926       1.496906      1.547816      4.987646   \n",
       "min        0.000000     -1.000000      -1.000000     -1.000000     -1.000000   \n",
       "25%       15.000000      1.000000       1.000000      1.000000      9.000000   \n",
       "50%       30.000000      2.000000       2.000000      3.000000     11.000000   \n",
       "75%       44.000000      2.000000       3.000000      4.000000     15.000000   \n",
       "max       59.000000      4.000000       4.000000      4.000000     23.000000   \n",
       "\n",
       "          MIN_CLOSE  \n",
       "count  15802.000000  \n",
       "mean      25.963802  \n",
       "std       18.575372  \n",
       "min       -1.000000  \n",
       "25%        9.000000  \n",
       "50%       26.000000  \n",
       "75%       42.000000  \n",
       "max       59.000000  "
      ]
     },
     "execution_count": 129,
     "metadata": {},
     "output_type": "execute_result"
    }
   ],
   "source": [
    "#describer the numerics collums\n",
    "df.describe()"
   ]
  },
  {
   "cell_type": "code",
   "execution_count": 130,
   "metadata": {},
   "outputs": [
    {
     "data": {
      "text/plain": [
       "DESCRIB          object\n",
       "PROB_ORIG        object\n",
       "PROB             object\n",
       "ESPC             object\n",
       "EQUIP            object\n",
       "I_NAME           object\n",
       "R_NAME           object\n",
       "C_NAME           object\n",
       "EQUIP_ID          int64\n",
       "HAS_VALUE        object\n",
       "DEPARTMENT       object\n",
       "LOCALE           object\n",
       "OPEN_YEAR_4       int64\n",
       "OPEN_MONTH_4      int64\n",
       "OPEN_DAY_4        int64\n",
       "HOUR_OPEN         int64\n",
       "MIN_OPEN          int64\n",
       "DATA_OPEN        object\n",
       "CLOSE_YEAR_4      int64\n",
       "CLOSE_MONTH_4     int64\n",
       "CLOSE_DAY_4       int64\n",
       "HOUR_CLOSE        int64\n",
       "MIN_CLOSE         int64\n",
       "DATA_CLOSE       object\n",
       "STI              object\n",
       "dtype: object"
      ]
     },
     "execution_count": 130,
     "metadata": {},
     "output_type": "execute_result"
    }
   ],
   "source": [
    "#show the type that pandas indentified to each collums\n",
    "df.dtypes"
   ]
  },
  {
   "cell_type": "markdown",
   "metadata": {},
   "source": [
    "### Gráficos"
   ]
  },
  {
   "cell_type": "code",
   "execution_count": 131,
   "metadata": {},
   "outputs": [],
   "source": [
    "%matplotlib inline"
   ]
  },
  {
   "cell_type": "code",
   "execution_count": 132,
   "metadata": {},
   "outputs": [
    {
     "data": {
      "text/plain": [
       "1    4492\n",
       "2    6334\n",
       "3    2679\n",
       "4    2297\n",
       "Name: OPEN_YEAR_4, dtype: int64"
      ]
     },
     "execution_count": 132,
     "metadata": {},
     "output_type": "execute_result"
    }
   ],
   "source": [
    "#How many problems were opens in each year\n",
    "df['OPEN_YEAR_4'].value_counts(sort=False) "
   ]
  },
  {
   "cell_type": "code",
   "execution_count": 133,
   "metadata": {},
   "outputs": [
    {
     "data": {
      "text/plain": [
       "<matplotlib.axes._subplots.AxesSubplot at 0x7f3cbf6bc610>"
      ]
     },
     "execution_count": 133,
     "metadata": {},
     "output_type": "execute_result"
    },
    {
     "data": {
      "image/png": "[encoded data removed]",
      "text/plain": [
       "<Figure size 432x288 with 1 Axes>"
      ]
     },
     "metadata": {
      "needs_background": "light"
     },
     "output_type": "display_data"
    }
   ],
   "source": [
    "#show the graphic bars to above result \n",
    "df['OPEN_YEAR_4'].value_counts().sort_index().plot.bar()"
   ]
  },
  {
   "cell_type": "code",
   "execution_count": 134,
   "metadata": {},
   "outputs": [
    {
     "data": {
      "text/plain": [
       "1    4659\n",
       "2    3986\n",
       "4    3585\n",
       "3    3572\n",
       "Name: OPEN_MONTH_4, dtype: int64"
      ]
     },
     "execution_count": 134,
     "metadata": {},
     "output_type": "execute_result"
    }
   ],
   "source": [
    "#How many problems were opens in each months\n",
    "df['OPEN_MONTH_4'].value_counts()"
   ]
  },
  {
   "cell_type": "code",
   "execution_count": 135,
   "metadata": {},
   "outputs": [
    {
     "data": {
      "text/plain": [
       "<matplotlib.axes._subplots.AxesSubplot at 0x7f3cbf86b390>"
      ]
     },
     "execution_count": 135,
     "metadata": {},
     "output_type": "execute_result"
    },
    {
     "data": {
      "image/png": "[encoded data removed]",
      "text/plain": [
       "<Figure size 432x288 with 1 Axes>"
      ]
     },
     "metadata": {
      "needs_background": "light"
     },
     "output_type": "display_data"
    }
   ],
   "source": [
    "# show the graphic bars to above result\n",
    "# df['D_MOTH_OPEN'].apply(lambda x: 0 if x == 99 else x).value_counts().sort_index().plot.bar()\n",
    "df['OPEN_MONTH_4'].value_counts().sort_index().plot.bar()"
   ]
  },
  {
   "cell_type": "code",
   "execution_count": 136,
   "metadata": {},
   "outputs": [
    {
     "data": {
      "text/plain": [
       "4    5133\n",
       "2    3809\n",
       "3    3570\n",
       "1    3290\n",
       "Name: OPEN_DAY_4, dtype: int64"
      ]
     },
     "execution_count": 136,
     "metadata": {},
     "output_type": "execute_result"
    }
   ],
   "source": [
    "#How many problems were opens in each days\n",
    "df['OPEN_DAY_4'].value_counts()"
   ]
  },
  {
   "cell_type": "code",
   "execution_count": 137,
   "metadata": {},
   "outputs": [
    {
     "data": {
      "text/plain": [
       "<matplotlib.axes._subplots.AxesSubplot at 0x7f3cbf0dfc10>"
      ]
     },
     "execution_count": 137,
     "metadata": {},
     "output_type": "execute_result"
    },
    {
     "data": {
      "image/png": "[encoded data removed]",
      "text/plain": [
       "<Figure size 432x288 with 1 Axes>"
      ]
     },
     "metadata": {
      "needs_background": "light"
     },
     "output_type": "display_data"
    }
   ],
   "source": [
    "#show the graphic bars to above result \n",
    "df['OPEN_DAY_4'].value_counts().sort_index().plot.bar()"
   ]
  },
  {
   "cell_type": "code",
   "execution_count": 138,
   "metadata": {},
   "outputs": [
    {
     "data": {
      "text/plain": [
       "9     0.170611\n",
       "10    0.159790\n",
       "15    0.139033\n",
       "11    0.123845\n",
       "14    0.110492\n",
       "Name: HOUR_OPEN, dtype: float64"
      ]
     },
     "execution_count": 138,
     "metadata": {},
     "output_type": "execute_result"
    }
   ],
   "source": [
    "#How many problems were opens in each days\n",
    "df['HOUR_OPEN'].value_counts(normalize=True).head()"
   ]
  },
  {
   "cell_type": "code",
   "execution_count": 139,
   "metadata": {},
   "outputs": [
    {
     "data": {
      "text/plain": [
       "<matplotlib.axes._subplots.AxesSubplot at 0x7f3cc4100590>"
      ]
     },
     "execution_count": 139,
     "metadata": {},
     "output_type": "execute_result"
    },
    {
     "data": {
      "image/png": "[encoded data removed]",
      "text/plain": [
       "<Figure size 432x288 with 1 Axes>"
      ]
     },
     "metadata": {
      "needs_background": "light"
     },
     "output_type": "display_data"
    }
   ],
   "source": [
    "#show the graphic bars to above result \n",
    "df['HOUR_OPEN'].value_counts().sort_index().plot.bar()"
   ]
  },
  {
   "cell_type": "code",
   "execution_count": 140,
   "metadata": {},
   "outputs": [
    {
     "data": {
      "text/html": [
       "<div>\n",
       "<style scoped>\n",
       "    .dataframe tbody tr th:only-of-type {\n",
       "        vertical-align: middle;\n",
       "    }\n",
       "\n",
       "    .dataframe tbody tr th {\n",
       "        vertical-align: top;\n",
       "    }\n",
       "\n",
       "    .dataframe thead th {\n",
       "        text-align: right;\n",
       "    }\n",
       "</style>\n",
       "<table border=\"1\" class=\"dataframe\">\n",
       "  <thead>\n",
       "    <tr style=\"text-align: right;\">\n",
       "      <th></th>\n",
       "      <th>DATA_OPEN</th>\n",
       "      <th>DATA_CLOSE</th>\n",
       "      <th>HOUR_OPEN</th>\n",
       "      <th>HOUR_CLOSE</th>\n",
       "      <th>MIN_OPEN</th>\n",
       "      <th>MIN_CLOSE</th>\n",
       "    </tr>\n",
       "  </thead>\n",
       "  <tbody>\n",
       "    <tr>\n",
       "      <td>0</td>\n",
       "      <td>18/4/2012</td>\n",
       "      <td>26/4/2012</td>\n",
       "      <td>9</td>\n",
       "      <td>9</td>\n",
       "      <td>15</td>\n",
       "      <td>0</td>\n",
       "    </tr>\n",
       "    <tr>\n",
       "      <td>1</td>\n",
       "      <td>23/4/2014</td>\n",
       "      <td>23/4/2014</td>\n",
       "      <td>8</td>\n",
       "      <td>9</td>\n",
       "      <td>13</td>\n",
       "      <td>4</td>\n",
       "    </tr>\n",
       "    <tr>\n",
       "      <td>2</td>\n",
       "      <td>24/10/2011</td>\n",
       "      <td>24/10/2011</td>\n",
       "      <td>15</td>\n",
       "      <td>15</td>\n",
       "      <td>43</td>\n",
       "      <td>59</td>\n",
       "    </tr>\n",
       "    <tr>\n",
       "      <td>3</td>\n",
       "      <td>24/10/2011</td>\n",
       "      <td>26/10/2011</td>\n",
       "      <td>13</td>\n",
       "      <td>17</td>\n",
       "      <td>20</td>\n",
       "      <td>6</td>\n",
       "    </tr>\n",
       "    <tr>\n",
       "      <td>4</td>\n",
       "      <td>24/10/2011</td>\n",
       "      <td>26/10/2011</td>\n",
       "      <td>12</td>\n",
       "      <td>9</td>\n",
       "      <td>13</td>\n",
       "      <td>11</td>\n",
       "    </tr>\n",
       "    <tr>\n",
       "      <td>...</td>\n",
       "      <td>...</td>\n",
       "      <td>...</td>\n",
       "      <td>...</td>\n",
       "      <td>...</td>\n",
       "      <td>...</td>\n",
       "      <td>...</td>\n",
       "    </tr>\n",
       "    <tr>\n",
       "      <td>15797</td>\n",
       "      <td>13/9/2019</td>\n",
       "      <td>17/9/2019</td>\n",
       "      <td>15</td>\n",
       "      <td>8</td>\n",
       "      <td>23</td>\n",
       "      <td>21</td>\n",
       "    </tr>\n",
       "    <tr>\n",
       "      <td>15798</td>\n",
       "      <td>13/9/2019</td>\n",
       "      <td>13/9/2019</td>\n",
       "      <td>16</td>\n",
       "      <td>17</td>\n",
       "      <td>21</td>\n",
       "      <td>47</td>\n",
       "    </tr>\n",
       "    <tr>\n",
       "      <td>15799</td>\n",
       "      <td>16/9/2019</td>\n",
       "      <td>99/99/9999</td>\n",
       "      <td>16</td>\n",
       "      <td>-1</td>\n",
       "      <td>31</td>\n",
       "      <td>-1</td>\n",
       "    </tr>\n",
       "    <tr>\n",
       "      <td>15800</td>\n",
       "      <td>17/9/2019</td>\n",
       "      <td>99/99/9999</td>\n",
       "      <td>17</td>\n",
       "      <td>-1</td>\n",
       "      <td>35</td>\n",
       "      <td>-1</td>\n",
       "    </tr>\n",
       "    <tr>\n",
       "      <td>15801</td>\n",
       "      <td>18/9/2019</td>\n",
       "      <td>99/99/9999</td>\n",
       "      <td>8</td>\n",
       "      <td>-1</td>\n",
       "      <td>54</td>\n",
       "      <td>-1</td>\n",
       "    </tr>\n",
       "  </tbody>\n",
       "</table>\n",
       "<p>15802 rows × 6 columns</p>\n",
       "</div>"
      ],
      "text/plain": [
       "        DATA_OPEN  DATA_CLOSE  HOUR_OPEN  HOUR_CLOSE  MIN_OPEN  MIN_CLOSE\n",
       "0       18/4/2012   26/4/2012          9           9        15          0\n",
       "1       23/4/2014   23/4/2014          8           9        13          4\n",
       "2      24/10/2011  24/10/2011         15          15        43         59\n",
       "3      24/10/2011  26/10/2011         13          17        20          6\n",
       "4      24/10/2011  26/10/2011         12           9        13         11\n",
       "...           ...         ...        ...         ...       ...        ...\n",
       "15797   13/9/2019   17/9/2019         15           8        23         21\n",
       "15798   13/9/2019   13/9/2019         16          17        21         47\n",
       "15799   16/9/2019  99/99/9999         16          -1        31         -1\n",
       "15800   17/9/2019  99/99/9999         17          -1        35         -1\n",
       "15801   18/9/2019  99/99/9999          8          -1        54         -1\n",
       "\n",
       "[15802 rows x 6 columns]"
      ]
     },
     "execution_count": 140,
     "metadata": {},
     "output_type": "execute_result"
    }
   ],
   "source": [
    "df[['DATA_OPEN','DATA_CLOSE','HOUR_OPEN','HOUR_CLOSE','MIN_OPEN','MIN_CLOSE']]"
   ]
  },
  {
   "cell_type": "code",
   "execution_count": 141,
   "metadata": {},
   "outputs": [],
   "source": [
    "hour_efic = []\n",
    "for D_open, D_close, H_open, H_close, M_open, M_close  in df[['DATA_OPEN','DATA_CLOSE','HOUR_OPEN','HOUR_CLOSE','MIN_OPEN','MIN_CLOSE']].values.tolist():\n",
    "    if H_close == -1:\n",
    "        hour_efic.append(-1)\n",
    "    else:\n",
    "        dtO = datetime.strptime(D_open +\" \"+ str(H_open) +\" \"+ str(M_open), '%d/%m/%Y %H %M')\n",
    "        dtC = datetime.strptime(D_close +\" \"+ str(H_close) +\" \"+ str(M_close), '%d/%m/%Y %H %M')\n",
    "        hour_efic.append(((dtO - dtC).seconds/60)/60)"
   ]
  },
  {
   "cell_type": "code",
   "execution_count": 142,
   "metadata": {},
   "outputs": [
    {
     "data": {
      "text/plain": [
       "0         0.250000\n",
       "1        23.150000\n",
       "2        23.733333\n",
       "3        20.233333\n",
       "4         3.033333\n",
       "           ...    \n",
       "15797     7.033333\n",
       "15798    22.566667\n",
       "15799    -1.000000\n",
       "15800    -1.000000\n",
       "15801    -1.000000\n",
       "Name: HOUR_EFIC, Length: 15802, dtype: float64"
      ]
     },
     "execution_count": 142,
     "metadata": {},
     "output_type": "execute_result"
    }
   ],
   "source": [
    "df['HOUR_EFIC'] = hour_efic\n",
    "df['HOUR_EFIC']"
   ]
  },
  {
   "cell_type": "code",
   "execution_count": 143,
   "metadata": {},
   "outputs": [
    {
     "data": {
      "text/plain": [
       "16.232680968956522"
      ]
     },
     "execution_count": 143,
     "metadata": {},
     "output_type": "execute_result"
    }
   ],
   "source": [
    "# mean of wasted time to solve a problem in general\n",
    "df[df['HOUR_EFIC'] > 0]['HOUR_EFIC'].mean()"
   ]
  },
  {
   "cell_type": "code",
   "execution_count": 152,
   "metadata": {},
   "outputs": [
    {
     "data": {
      "text/plain": [
       "STI\n",
       "biblioteca        17.815891\n",
       "campus            14.743398\n",
       "hu                15.529710\n",
       "sti_biblioteca    12.535000\n",
       "sti_cca           15.071695\n",
       "sti_cce           17.702756\n",
       "sti_cchl          17.495388\n",
       "sti_central       16.319242\n",
       "sti_ct            16.742606\n",
       "Name: HOUR_EFIC, dtype: float64"
      ]
     },
     "execution_count": 152,
     "metadata": {},
     "output_type": "execute_result"
    }
   ],
   "source": [
    "# mean of wasted time to solve a problem in general\n",
    "df[(df['HOUR_EFIC'] > 0) & (df['STI'] != '0')].groupby(['STI'])['HOUR_EFIC'].mean()"
   ]
  },
  {
   "cell_type": "code",
   "execution_count": 159,
   "metadata": {},
   "outputs": [],
   "source": [
    "# mean of wasted time to solve a problem in general\n",
    "ndf = df[(df['HOUR_EFIC'] > 0) & (df['STI'] != '0')].groupby(['STI', 'PROB'])['HOUR_EFIC'].mean()"
   ]
  },
  {
   "cell_type": "code",
   "execution_count": 164,
   "metadata": {},
   "outputs": [
    {
     "data": {
      "text/plain": [
       "STI         PROB        \n",
       "biblioteca  N.A             16.986905\n",
       "            bateria         14.516667\n",
       "            hardware        16.500947\n",
       "            instalacao       1.500000\n",
       "            n.a             21.860185\n",
       "                              ...    \n",
       "sti_ct      n.a             18.603535\n",
       "            nao funciona     7.577778\n",
       "            nao liga        11.161111\n",
       "            queimado        18.733333\n",
       "            software        15.957456\n",
       "Name: HOUR_EFIC, Length: 115, dtype: float64"
      ]
     },
     "execution_count": 164,
     "metadata": {},
     "output_type": "execute_result"
    }
   ],
   "source": [
    "ndf"
   ]
  },
  {
   "cell_type": "code",
   "execution_count": 173,
   "metadata": {},
   "outputs": [
    {
     "data": {
      "text/plain": [
       "<matplotlib.axes._subplots.AxesSubplot at 0x7f3cbdcadd50>"
      ]
     },
     "execution_count": 173,
     "metadata": {},
     "output_type": "execute_result"
    },
    {
     "data": {
      "image/png": "[encoded data removed]",
      "text/plain": [
       "<Figure size 432x288 with 1 Axes>"
      ]
     },
     "metadata": {
      "needs_background": "light"
     },
     "output_type": "display_data"
    }
   ],
   "source": [
    "ndf['biblioteca'].plot.barh()"
   ]
  },
  {
   "cell_type": "code",
   "execution_count": 169,
   "metadata": {},
   "outputs": [
    {
     "data": {
      "text/plain": [
       "<matplotlib.axes._subplots.AxesSubplot at 0x7f3cbdebf490>"
      ]
     },
     "execution_count": 169,
     "metadata": {},
     "output_type": "execute_result"
    },
    {
     "data": {
      "image/png": "[encoded data removed]",
      "text/plain": [
       "<Figure size 432x288 with 1 Axes>"
      ]
     },
     "metadata": {
      "needs_background": "light"
     },
     "output_type": "display_data"
    }
   ],
   "source": [
    "ndf['sti_central'].plot.barh()"
   ]
  },
  {
   "cell_type": "code",
   "execution_count": 174,
   "metadata": {},
   "outputs": [
    {
     "data": {
      "text/plain": [
       "<matplotlib.axes._subplots.AxesSubplot at 0x7f3cbdc23c50>"
      ]
     },
     "execution_count": 174,
     "metadata": {},
     "output_type": "execute_result"
    },
    {
     "data": {
      "image/png": "[encoded data removed]",
      "text/plain": [
       "<Figure size 432x288 with 1 Axes>"
      ]
     },
     "metadata": {
      "needs_background": "light"
     },
     "output_type": "display_data"
    }
   ],
   "source": [
    "ndf['sti_ct'].plot.barh()"
   ]
  },
  {
   "cell_type": "markdown",
   "metadata": {},
   "source": [
    "## Pode-se adicionar novos testes seguindo esses exemplos"
   ]
  },
  {
   "cell_type": "code",
   "execution_count": 180,
   "metadata": {},
   "outputs": [],
   "source": [
    "# mean of wasted time to solve a problem in general\n",
    "ndf = df[df['HOUR_EFIC'] > 0].groupby(['STI', 'HAS_VALUE'])['HOUR_EFIC'].mean()"
   ]
  },
  {
   "cell_type": "code",
   "execution_count": 182,
   "metadata": {},
   "outputs": [
    {
     "data": {
      "text/plain": [
       "<matplotlib.axes._subplots.AxesSubplot at 0x7f3cbe0de090>"
      ]
     },
     "execution_count": 182,
     "metadata": {},
     "output_type": "execute_result"
    },
    {
     "data": {
      "image/png": "[encoded data removed]",
      "text/plain": [
       "<Figure size 432x288 with 1 Axes>"
      ]
     },
     "metadata": {
      "needs_background": "light"
     },
     "output_type": "display_data"
    }
   ],
   "source": [
    "ndf.plot.barh()"
   ]
  },
  {
   "cell_type": "markdown",
   "metadata": {},
   "source": [
    "## Resumo rápido"
   ]
  },
  {
   "cell_type": "code",
   "execution_count": 24,
   "metadata": {},
   "outputs": [],
   "source": [
    "# in terminal use: conda install -c conda-forge pandas-profiling\n",
    "from pandas_profiling import ProfileReport"
   ]
  },
  {
   "cell_type": "code",
   "execution_count": 25,
   "metadata": {},
   "outputs": [
    {
     "name": "stderr",
     "output_type": "stream",
     "text": [
      "/home/victor/anaconda3/lib/python3.7/site-packages/pandas_profiling/model/correlations.py:126: UserWarning: There was an attempt to calculate the cramers correlation, but this failed.\n",
      "To hide this warning, disable the calculation\n",
      "(using `df.profile_report(correlations={\"cramers\": {\"calculate\": False}})`\n",
      "If this is problematic for your use case, please report this as an issue:\n",
      "https://github.com/pandas-profiling/pandas-profiling/issues\n",
      "(include the error message: 'The internally computed table of expected frequencies has a zero element at (0, 7).')\n",
      "  correlation_name=correlation_name, error=error\n"
     ]
    }
   ],
   "source": [
    "profile = ProfileReport(df, title='Pandas Profiling Report', html={'style':{'full_width':True}})"
   ]
  },
  {
   "cell_type": "code",
   "execution_count": 26,
   "metadata": {},
   "outputs": [],
   "source": [
    "#profile.to_notebook_iframe()\n",
    "#export as html page\n",
    "profile.to_file(output_file=\"ocomon_report.html\")\n",
    "#export as json file\n",
    "profile.to_file(output_file=\"ocomon_report.json\")"
   ]
  },
  {
   "cell_type": "code",
   "execution_count": null,
   "metadata": {},
   "outputs": [],
   "source": []
  },
  {
   "cell_type": "code",
   "execution_count": null,
   "metadata": {},
   "outputs": [],
   "source": []
  },
  {
   "cell_type": "code",
   "execution_count": null,
   "metadata": {},
   "outputs": [],
   "source": []
  }
 ],
 "metadata": {
  "kernelspec": {
   "display_name": "Python 3",
   "language": "python",
   "name": "python3"
  },
  "language_info": {
   "codemirror_mode": {
    "name": "ipython",
    "version": 3
   },
   "file_extension": ".py",
   "mimetype": "text/x-python",
   "name": "python",
   "nbconvert_exporter": "python",
   "pygments_lexer": "ipython3",
   "version": "3.7.4"
  }
 },
 "nbformat": 4,
 "nbformat_minor": 4
}
