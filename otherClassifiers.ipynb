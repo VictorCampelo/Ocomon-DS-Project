{
 "cells": [
  {
   "cell_type": "markdown",
   "metadata": {},
   "source": [
    "### Imports"
   ]
  },
  {
   "cell_type": "code",
   "execution_count": 1,
   "metadata": {},
   "outputs": [],
   "source": [
    "# coding: utf-8\n",
    "import string\n",
    "import re\n",
    "import pandas as pd\n",
    "import numpy as np\n",
    "import nltk\n",
    "import matplotlib.pyplot as plt\n",
    "from sklearn.tree import DecisionTreeClassifier\n",
    "from sklearn.model_selection import train_test_split\n",
    "from sklearn.metrics import mean_absolute_error\n",
    "from sklearn.metrics import accuracy_score\n",
    "from sklearn.feature_extraction.text import CountVectorizer\n",
    "from sklearn import tree\n",
    "from nltk.stem import RSLPStemmer\n",
    "from graphviz import Source\n",
    "from collections import Counter\n",
    "from IPython.display import display\n",
    "from IPython.display import SVG\n",
    "# nltk.download('stopwords')\n",
    "# nltk.download('rslp')\n",
    "# conda install graphviz"
   ]
  },
  {
   "cell_type": "code",
   "execution_count": 2,
   "metadata": {},
   "outputs": [],
   "source": [
    "# %%\n",
    "from sklearn.metrics import confusion_matrix\n",
    "from sklearn.metrics import classification_report\n",
    "from sklearn.metrics import accuracy_score"
   ]
  },
  {
   "cell_type": "code",
   "execution_count": 3,
   "metadata": {},
   "outputs": [
    {
     "name": "stderr",
     "output_type": "stream",
     "text": [
      "[nltk_data] Downloading package punkt to /home/victor/nltk_data...\n",
      "[nltk_data]   Package punkt is already up-to-date!\n"
     ]
    },
    {
     "data": {
      "text/plain": [
       "True"
      ]
     },
     "execution_count": 3,
     "metadata": {},
     "output_type": "execute_result"
    }
   ],
   "source": [
    "nltk.download('punkt')"
   ]
  },
  {
   "cell_type": "code",
   "execution_count": 4,
   "metadata": {},
   "outputs": [],
   "source": [
    "# method to remove stopwords\n",
    "def RemoveStopWords(sent):\n",
    "    stp = nltk.corpus.stopwords.words('portuguese')\n",
    "    listW = \"\"\n",
    "    for wrd in sent.split(\" \"):\n",
    "        if wrd not in stp:\n",
    "            listW += str(wrd)+\" \"\n",
    "    return listW"
   ]
  },
  {
   "cell_type": "code",
   "execution_count": 5,
   "metadata": {},
   "outputs": [],
   "source": [
    "def stemming(sent):\n",
    "    stp = nltk.corpus.stopwords.words('portuguese')\n",
    "    stemmer = nltk.stem.RSLPStemmer()\n",
    "    listW = []\n",
    "    for (desc, value) in sent:\n",
    "        aux = [str(stemmer.stem(p))\n",
    "                       for p in desc.split() if p not in stp]\n",
    "        listW.append((aux, value))\n",
    "    return listW"
   ]
  },
  {
   "cell_type": "code",
   "execution_count": 6,
   "metadata": {},
   "outputs": [],
   "source": [
    "def tokenize(sent):\n",
    "    sent = sent.lower()\n",
    "    sent = nltk.tokenize.word_tokenize(sent, language='portuguese')\n",
    "    return sent"
   ]
  },
  {
   "cell_type": "code",
   "execution_count": 7,
   "metadata": {},
   "outputs": [],
   "source": [
    "def stemmingSimple(sent):\n",
    "    stp = nltk.corpus.stopwords.words('portuguese')\n",
    "    stemmer = RSLPStemmer()\n",
    "    listW = []\n",
    "    for wrd in sent:\n",
    "        for p in wrd.split():\n",
    "            if p not in stp:\n",
    "                wrd = stemmer.stem(wrd.lower())\n",
    "                listW.append(wrd)\n",
    "    return listW"
   ]
  },
  {
   "cell_type": "code",
   "execution_count": 8,
   "metadata": {},
   "outputs": [],
   "source": [
    "def addAllWords(sent):\n",
    "    words = []\n",
    "    for (desc, value) in sent:\n",
    "        words.extend(desc)\n",
    "    return words"
   ]
  },
  {
   "cell_type": "code",
   "execution_count": 9,
   "metadata": {},
   "outputs": [],
   "source": [
    "def freqWords(sent):\n",
    "    wrds = nltk.FreqDist(sent)\n",
    "    return wrds"
   ]
  },
  {
   "cell_type": "code",
   "execution_count": 10,
   "metadata": {},
   "outputs": [],
   "source": [
    "def uniqueWords(sent):\n",
    "    freq = sent.keys()\n",
    "    return freq"
   ]
  },
  {
   "cell_type": "code",
   "execution_count": 11,
   "metadata": {},
   "outputs": [],
   "source": [
    "def extractWords(sent):\n",
    "    doc = set(sent)\n",
    "    characteristics = {}\n",
    "    for wdr in u_words_train_Tespc:\n",
    "        characteristics['%s' % wdr] = (wdr in doc)\n",
    "    return characteristics"
   ]
  },
  {
   "cell_type": "code",
   "execution_count": 12,
   "metadata": {},
   "outputs": [],
   "source": [
    "def models(X_train, Y_train, X_test, Y_test):\n",
    "    from sklearn.linear_model import LogisticRegression\n",
    "    log = LogisticRegression(random_state = 0)\n",
    "    log.fit(X_train, Y_train)\n",
    "    log_pred = log.predict(X_test)\n",
    "    \n",
    "    from sklearn.neighbors import KNeighborsClassifier\n",
    "    knn = KNeighborsClassifier(n_neighbors = 5, metric = 'minkowski', p = 2)\n",
    "    knn.fit(X_train, Y_train)\n",
    "    knn_pred = knn.predict(X_test)\n",
    "    \n",
    "    from sklearn.svm import SVC\n",
    "    svc_lin = SVC(kernel='linear', random_state = 0)\n",
    "    svc_lin.fit(X_train, Y_train)\n",
    "    svc_lin_pred = svc_lin.predict(X_test)\n",
    "    \n",
    "    from sklearn.svm import SVC\n",
    "    svc_rbf = SVC(kernel='rbf', random_state = 0)\n",
    "    svc_rbf.fit(X_train, Y_train)\n",
    "    svc_rbf_pred = svc_rbf.predict(X_test)\n",
    "    \n",
    "    from sklearn.naive_bayes import GaussianNB\n",
    "    gauss = GaussianNB()\n",
    "    gauss.fit(X_train, Y_train)\n",
    "    gauss_pred = gauss.predict(X_test)\n",
    "    \n",
    "    from sklearn.tree import DecisionTreeClassifier\n",
    "    tree = DecisionTreeClassifier(criterion = 'entropy', random_state = 0)\n",
    "    tree.fit (X_train, Y_train)\n",
    "    tree_pred = tree.predict(X_test)\n",
    "    \n",
    "    from sklearn.ensemble import RandomForestClassifier\n",
    "    forest = RandomForestClassifier(n_estimators=10, criterion = 'entropy', random_state = 0)\n",
    "    forest.fit(X_train, Y_train)\n",
    "    forest_pred = forest.predict(X_test)\n",
    "    \n",
    "    from sklearn.linear_model import Perceptron\n",
    "    pcp = Perceptron(random_state = 0)\n",
    "    pcp.fit(X_train, Y_train)\n",
    "    pcp_pred = pcp.predict(X_test)\n",
    "    \n",
    "    from sklearn.naive_bayes import BernoulliNB, ComplementNB, MultinomialNB\n",
    "    mnb = MultinomialNB(alpha=.01)\n",
    "    mnb.fit(X_train, Y_train)\n",
    "    mnb_pred = mnb.predict(X_test)\n",
    "    \n",
    "    bnb = BernoulliNB(alpha=.01)\n",
    "    bnb.fit(X_train, Y_train)\n",
    "    bnb_pred = bnb.predict(X_test)\n",
    "    \n",
    "    cnb = ComplementNB(alpha=.1)\n",
    "    cnb.fit(X_train, Y_train)\n",
    "    cnb_pred = cnb.predict(X_test)\n",
    "    \n",
    "    print('[0]Logistic Regression Training Accuracy: ', log.score(X_train, Y_train))\n",
    "    print('[0]Logistic Regression Training Accuracy: ', accuracy_score(Y_test, log_pred))\n",
    "    print(classification_report(Y_test, log_pred))\n",
    "    \n",
    "    print('[1]KNeighborns Training Accuracy: ', knn.score(X_train, Y_train))\n",
    "    print('[1]KNeighborns Training Accuracy: ', accuracy_score(Y_test, knn_pred))\n",
    "    print(classification_report(Y_test, knn_pred))\n",
    "    \n",
    "    print('[2]SVC Linear Training Accuracy: ', svc_lin.score(X_train, Y_train))\n",
    "    print('[2]SVC Linear Training Accuracy: ', accuracy_score(Y_test, svc_lin_pred))\n",
    "    print(classification_report(Y_test, svc_lin_pred))\n",
    "    \n",
    "    print('[3]SVC RBF Training Accuracy: ', svc_rbf.score(X_train, Y_train))\n",
    "    print('[3]SVC RBF Training Accuracy: ', accuracy_score(Y_test, svc_rbf_pred))\n",
    "    print(classification_report(Y_test, svc_rbf_pred))\n",
    "    \n",
    "    print('[4]Gaussian NB Training Accuracy: ', gauss.score(X_train, Y_train))\n",
    "    print('[4]Gaussian NB Training Accuracy: ', accuracy_score(Y_test, gauss_pred))\n",
    "    print(classification_report(Y_test, gauss_pred))\n",
    "    \n",
    "    print('[5]Decision Tree Training Accuracy: ', tree.score(X_train, Y_train))\n",
    "    print('[5]Decision Tree Training Accuracy: ', accuracy_score(Y_test, tree_pred))\n",
    "    print(classification_report(Y_test, tree_pred))\n",
    "    \n",
    "    print('[6]Random Forest Training Accuracy: ', forest.score(X_train, Y_train))\n",
    "    print('[6]Random Forest Training Accuracy: ', accuracy_score(Y_test, forest_pred))\n",
    "    print(classification_report(Y_test, forest_pred))\n",
    "    \n",
    "    print('[7] Perceptron Training Accuracy: ', pcp.score(X_train, Y_train))\n",
    "    print(\"[7] Perceptron Testing accuracy: \", accuracy_score(Y_test, pcp_pred))\n",
    "    print(classification_report(Y_test, pcp_pred))\n",
    "    \n",
    "    print('[8] MultinomialNB Training Accuracy: ', mnb.score(X_train, Y_train))\n",
    "    print(\"[8] MultinomialNB Testing accuracy: \", accuracy_score(Y_test, mnb_pred))\n",
    "    print(classification_report(Y_test, pcp_pred))\n",
    "    \n",
    "    print('[9] BernoulliNB Training Accuracy: ', bnb.score(X_train, Y_train))\n",
    "    print(\"[9] BernoulliNB Testing accuracy: \", accuracy_score(Y_test, bnb_pred))\n",
    "    print(classification_report(Y_test, pcp_pred))\n",
    "\n",
    "    print('[10] ComplementNB Training Accuracy: ', cnb.score(X_train, Y_train))\n",
    "    print(\"[10] ComplementNB Testing accuracy: \", accuracy_score(Y_test, cnb_pred))\n",
    "    print(classification_report(Y_test, pcp_pred))\n",
    "    \n",
    "    return log, knn, svc_lin, svc_rbf, gauss, tree, forest, pcp, mnb, bnb, cnb"
   ]
  },
  {
   "cell_type": "code",
   "execution_count": 13,
   "metadata": {},
   "outputs": [],
   "source": [
    "def makeAcuracy(tree,x_test,y_test):\n",
    "    predictions = clf.predict(x_test)\n",
    "    erro = 0.0\n",
    "    for x in range(len(predictions)):\n",
    "        if predictions[x] != y_test[x]:\n",
    "            erro += 1.\n",
    "    acuracy = (1-(erro/len(predictions)))\n",
    "    return acuracy"
   ]
  },
  {
   "cell_type": "code",
   "execution_count": 14,
   "metadata": {},
   "outputs": [],
   "source": [
    "# ocomon_train_2.0 had your values analyseds individualy and it was seted the class manually\n",
    "df_Tespc_train = pd.read_csv('CSV/ocomon_train_2.0.csv', usecols=['DESCRIB', 'ESPC'])\n",
    "df_Tespc_test = pd.read_csv('CSV/ocomon_test_2.0.csv', usecols=['DESCRIB', 'ESPC'])\n",
    "\n",
    "df_Tequip_train = pd.read_csv('CSV/ocomon_train_2.0.csv', usecols=['DESCRIB', 'EQUIP'])\n",
    "df_Tequip_test = pd.read_csv('CSV/ocomon_test_2.0.csv', usecols=['DESCRIB', 'EQUIP'])"
   ]
  },
  {
   "cell_type": "code",
   "execution_count": 15,
   "metadata": {},
   "outputs": [
    {
     "data": {
      "text/plain": [
       "DESCRIB    2999\n",
       "ESPC       1275\n",
       "dtype: int64"
      ]
     },
     "execution_count": 15,
     "metadata": {},
     "output_type": "execute_result"
    }
   ],
   "source": [
    "df_Tespc_train.count()"
   ]
  },
  {
   "cell_type": "code",
   "execution_count": 22,
   "metadata": {},
   "outputs": [
    {
     "data": {
      "text/plain": [
       "DESCRIB    computador nao liga  sujeira e mau na memoria ...\n",
       "ESPC                                                     ram\n",
       "Name: 1, dtype: object"
      ]
     },
     "execution_count": 22,
     "metadata": {},
     "output_type": "execute_result"
    }
   ],
   "source": [
    "df_Tespc_train.loc[1]"
   ]
  },
  {
   "cell_type": "code",
   "execution_count": 16,
   "metadata": {},
   "outputs": [
    {
     "data": {
      "text/plain": [
       "DESCRIB    2999\n",
       "EQUIP      2878\n",
       "dtype: int64"
      ]
     },
     "execution_count": 16,
     "metadata": {},
     "output_type": "execute_result"
    }
   ],
   "source": [
    "df_Tequip_train.count()"
   ]
  },
  {
   "cell_type": "code",
   "execution_count": 17,
   "metadata": {},
   "outputs": [],
   "source": [
    "# here was declareted a array to store all descriptions from dataframe in column \"DESCRIB\"\n",
    "describ_Tespc_train = []\n",
    "describ_Tequip_train = []\n",
    "\n",
    "describ_Tespc_test = []\n",
    "describ_Tequip_test = []"
   ]
  },
  {
   "cell_type": "code",
   "execution_count": 18,
   "metadata": {},
   "outputs": [],
   "source": [
    "# store a class from description\n",
    "classifier_Tespc_train = []\n",
    "classifier_Tequip_train = []\n",
    "\n",
    "classifier_Tespc_test = []\n",
    "classifier_Tequip_test = []"
   ]
  },
  {
   "cell_type": "code",
   "execution_count": 19,
   "metadata": {},
   "outputs": [],
   "source": [
    "for line in df_Tespc_train['DESCRIB']:\n",
    "    regex = r\"(null|(a)a+|(e)e+|(i)i+|(o)o+|(u)u+|(b)b+|(c)c+|(d)d+|(e)e+|(f)f+|(g)g+|(h)h+|(j)j+|(k)k+|(l)l+|(m)m+|(n)n+|(p)p+|(q)q+|(r)rr+|(s)ss+|(t)t+|(u)u+|(v)v+|(x)x+|(z)z+)\"\n",
    "    subst = \"\\\\2\\\\3\\\\4\\\\5\\\\6\\\\7\\\\8\\\\9\\\\10\\\\11\\\\12\\\\13\\\\14\\\\15\\\\16\\\\17\\\\18\\\\19\\\\20\\\\21\\\\22\\\\23\\\\24\\\\25\\\\26\\\\27\"\n",
    "    result = re.sub(regex, subst, line.lower(), 0, re.MULTILINE | re.IGNORECASE)\n",
    "    result = RemoveStopWords(result)\n",
    "    describ_Tespc_train.append(result)\n",
    "    describ_Tequip_train.append(result)\n",
    "    \n",
    "for line in df_Tespc_test['DESCRIB']:\n",
    "    regex = r\"(null|(a)a+|(e)e+|(i)i+|(o)o+|(u)u+|(b)b+|(c)c+|(d)d+|(e)e+|(f)f+|(g)g+|(h)h+|(j)j+|(k)k+|(l)l+|(m)m+|(n)n+|(p)p+|(q)q+|(r)rr+|(s)ss+|(t)t+|(u)u+|(v)v+|(x)x+|(z)z+)\"\n",
    "    subst = \"\\\\2\\\\3\\\\4\\\\5\\\\6\\\\7\\\\8\\\\9\\\\10\\\\11\\\\12\\\\13\\\\14\\\\15\\\\16\\\\17\\\\18\\\\19\\\\20\\\\21\\\\22\\\\23\\\\24\\\\25\\\\26\\\\27\"\n",
    "    result = re.sub(regex, subst, line.lower(), 0, re.MULTILINE | re.IGNORECASE)\n",
    "    result = RemoveStopWords(result)\n",
    "    describ_Tespc_test.append(result)\n",
    "    describ_Tequip_test.append(result)"
   ]
  },
  {
   "cell_type": "code",
   "execution_count": 20,
   "metadata": {},
   "outputs": [],
   "source": [
    "for line in df_Tespc_train['ESPC']:\n",
    "    classifier_Tespc_train.append(line)\n",
    "for line in df_Tequip_train['EQUIP']:\n",
    "    classifier_Tequip_train.append(line)"
   ]
  },
  {
   "cell_type": "code",
   "execution_count": 21,
   "metadata": {},
   "outputs": [],
   "source": [
    "for line in df_Tespc_test['ESPC']:\n",
    "    classifier_Tespc_test.append(line)\n",
    "for line in df_Tequip_test['EQUIP']:\n",
    "    classifier_Tequip_test.append(line)"
   ]
  },
  {
   "cell_type": "code",
   "execution_count": 73,
   "metadata": {},
   "outputs": [],
   "source": [
    "train_Tespc = []\n",
    "train_Tequip = []"
   ]
  },
  {
   "cell_type": "code",
   "execution_count": 74,
   "metadata": {},
   "outputs": [],
   "source": [
    "for i, line in enumerate(describ_Tespc_train):\n",
    "    aux = []\n",
    "    aux.append(line)\n",
    "    aux.append(classifier_Tespc_train[i])\n",
    "    train_Tespc.append(aux)"
   ]
  },
  {
   "cell_type": "code",
   "execution_count": 75,
   "metadata": {},
   "outputs": [],
   "source": [
    "for i, line in enumerate(describ_Tequip_train):\n",
    "    aux = []\n",
    "    aux.append(line)\n",
    "    aux.append(classifier_Tequip_train[i])\n",
    "    train_Tequip.append(aux)"
   ]
  },
  {
   "cell_type": "code",
   "execution_count": 76,
   "metadata": {},
   "outputs": [],
   "source": [
    "test_Tespc = []\n",
    "test_Tequip = []"
   ]
  },
  {
   "cell_type": "code",
   "execution_count": 77,
   "metadata": {},
   "outputs": [],
   "source": [
    "for i, line in enumerate(describ_Tespc_test):\n",
    "    aux = []\n",
    "    aux.append(line)\n",
    "    aux.append(classifier_Tespc_test[i])\n",
    "    test_Tespc.append(aux)\n",
    "for i, line in enumerate(describ_Tequip_test):\n",
    "    aux = []\n",
    "    aux.append(line)\n",
    "    aux.append(classifier_Tequip_test[i])\n",
    "    test_Tequip.append(aux)"
   ]
  },
  {
   "cell_type": "code",
   "execution_count": 78,
   "metadata": {},
   "outputs": [],
   "source": [
    "# applie stemming in each list\n",
    "train_Tespc = stemming(train_Tespc)\n",
    "train_Tequip = stemming(train_Tequip)"
   ]
  },
  {
   "cell_type": "code",
   "execution_count": 79,
   "metadata": {},
   "outputs": [],
   "source": [
    "test_Tespc = stemming(test_Tespc)\n",
    "test_Tequip = stemming(test_Tequip)"
   ]
  },
  {
   "cell_type": "code",
   "execution_count": 80,
   "metadata": {},
   "outputs": [],
   "source": [
    "# create a list of all word finded to train set\n",
    "words_train_Tespc = addAllWords(train_Tespc)\n",
    "words_train_Tequip = addAllWords(train_Tequip)"
   ]
  },
  {
   "cell_type": "code",
   "execution_count": 81,
   "metadata": {},
   "outputs": [],
   "source": [
    "# create a list of all word finded to test set\n",
    "words_test_Tespc = addAllWords(test_Tespc)\n",
    "words_test_Tequip = addAllWords(test_Tequip)"
   ]
  },
  {
   "cell_type": "code",
   "execution_count": 82,
   "metadata": {},
   "outputs": [],
   "source": [
    "# list frequency of all words in the list of describ\n",
    "f_words_train_Tespc = freqWords(words_train_Tespc)\n",
    "f_words_train_Tequip = freqWords(words_train_Tequip)"
   ]
  },
  {
   "cell_type": "code",
   "execution_count": 83,
   "metadata": {},
   "outputs": [],
   "source": [
    "# list frequency of all words in the list of describ\n",
    "f_words_test_Tespc = freqWords(words_test_Tespc)\n",
    "f_words_test_Tequip = freqWords(words_test_Tequip)"
   ]
  },
  {
   "cell_type": "code",
   "execution_count": 84,
   "metadata": {},
   "outputs": [],
   "source": [
    "# dictionary of words distinct in the list of train set\n",
    "u_words_train_Tespc = uniqueWords(f_words_train_Tespc)\n",
    "u_words_train_Tequip = uniqueWords(f_words_train_Tequip)"
   ]
  },
  {
   "cell_type": "code",
   "execution_count": 85,
   "metadata": {},
   "outputs": [],
   "source": [
    "# dictionary of words distinct in the list of test set\n",
    "u_words_test_Tespc = uniqueWords(f_words_test_Tespc)\n",
    "u_words_test_Tequip = uniqueWords(f_words_test_Tequip)"
   ]
  },
  {
   "cell_type": "code",
   "execution_count": 86,
   "metadata": {},
   "outputs": [],
   "source": [
    "x_Tespc, y_Tespc = train_test_split(train_Tespc, test_size = 0.3, random_state = 100)\n",
    "x_Tequip, y_Tequip = train_test_split(train_Tequip, test_size = 0.3, random_state = 100)"
   ]
  },
  {
   "cell_type": "code",
   "execution_count": 87,
   "metadata": {},
   "outputs": [],
   "source": [
    "baseOfTrain_Tespc = nltk.classify.apply_features(extractWords,x_Tespc)\n",
    "baseOfTest_Tespc = nltk.classify.apply_features(extractWords,y_Tespc)\n",
    "\n",
    "baseOfTrain_Tequip = nltk.classify.apply_features(extractWords,x_Tequip)\n",
    "baseOfTest_Tequip = nltk.classify.apply_features(extractWords,y_Tequip)"
   ]
  },
  {
   "cell_type": "code",
   "execution_count": 88,
   "metadata": {},
   "outputs": [],
   "source": [
    "complet = nltk.classify.apply_features(extractWords,test_Tespc)"
   ]
  },
  {
   "cell_type": "code",
   "execution_count": 89,
   "metadata": {},
   "outputs": [],
   "source": [
    "x_train_Tespc = []\n",
    "y_train_Tespc = []\n",
    "\n",
    "x_train_Tequip = []\n",
    "y_train_Tequip = []"
   ]
  },
  {
   "cell_type": "code",
   "execution_count": 90,
   "metadata": {},
   "outputs": [],
   "source": [
    "for element in baseOfTrain_Tespc:\n",
    "    aux = []\n",
    "    for key, value in element[0].items():\n",
    "        aux.append(value)\n",
    "    x_train_Tespc.append(aux)\n",
    "    y_train_Tespc.append(element[1])\n",
    "    \n",
    "for element in baseOfTrain_Tequip:\n",
    "    aux = []\n",
    "    for key, value in element[0].items():\n",
    "        aux.append(value)\n",
    "    x_train_Tequip.append(aux)\n",
    "    y_train_Tequip.append(element[1])"
   ]
  },
  {
   "cell_type": "markdown",
   "metadata": {},
   "source": [
    "# DECISION "
   ]
  },
  {
   "cell_type": "code",
   "execution_count": 91,
   "metadata": {},
   "outputs": [],
   "source": [
    "x_test_Tespc = []\n",
    "y_test_Tespc = []\n",
    "\n",
    "x_test_Tequip = []\n",
    "y_test_Tequip = []"
   ]
  },
  {
   "cell_type": "code",
   "execution_count": 92,
   "metadata": {},
   "outputs": [],
   "source": [
    "for element in baseOfTest_Tespc:\n",
    "    aux = []\n",
    "    for key, value in element[0].items():\n",
    "        aux.append(value)\n",
    "    x_test_Tespc.append(aux)\n",
    "    y_test_Tespc.append(element[1])\n",
    "for element in baseOfTest_Tequip:\n",
    "    aux = []\n",
    "    for key, value in element[0].items():\n",
    "        aux.append(value)\n",
    "    x_test_Tequip.append(aux)\n",
    "    y_test_Tequip.append(element[1])"
   ]
  },
  {
   "cell_type": "code",
   "execution_count": 93,
   "metadata": {},
   "outputs": [
    {
     "name": "stdout",
     "output_type": "stream",
     "text": [
      "ESPC\n"
     ]
    },
    {
     "name": "stderr",
     "output_type": "stream",
     "text": [
      "/home/victor/anaconda3/lib/python3.7/site-packages/sklearn/linear_model/logistic.py:432: FutureWarning: Default solver will be changed to 'lbfgs' in 0.22. Specify a solver to silence this warning.\n",
      "  FutureWarning)\n",
      "/home/victor/anaconda3/lib/python3.7/site-packages/sklearn/linear_model/logistic.py:469: FutureWarning: Default multi_class will be changed to 'auto' in 0.22. Specify the multi_class option to silence this warning.\n",
      "  \"this warning.\", FutureWarning)\n",
      "/home/victor/anaconda3/lib/python3.7/site-packages/sklearn/svm/base.py:193: FutureWarning: The default value of gamma will change from 'auto' to 'scale' in version 0.22 to account better for unscaled features. Set gamma explicitly to 'auto' or 'scale' to avoid this warning.\n",
      "  \"avoid this warning.\", FutureWarning)\n"
     ]
    },
    {
     "name": "stdout",
     "output_type": "stream",
     "text": [
      "[0]Logistic Regression Training Accuracy:  0.9718913768461171\n",
      "[0]Logistic Regression Training Accuracy:  0.8777777777777778\n",
      "                precision    recall  f1-score   support\n",
      "\n",
      "       bateria       1.00      0.44      0.62         9\n",
      "          cabo       1.00      0.50      0.67         2\n",
      "         fonte       0.94      0.89      0.91        36\n",
      "            hd       1.00      0.67      0.80         6\n",
      "    instalacao       0.83      0.91      0.87        80\n",
      "           nan       0.89      0.95      0.92       515\n",
      "         placa       0.64      0.47      0.55        19\n",
      " placa de rede       1.00      0.25      0.40         8\n",
      "placa de video       0.00      0.00      0.00         2\n",
      "   processador       0.00      0.00      0.00         1\n",
      "           ram       0.50      0.67      0.57         3\n",
      "      software       0.87      0.81      0.84       214\n",
      "         troca       0.00      0.00      0.00         3\n",
      "           usb       0.00      0.00      0.00         1\n",
      "         video       0.00      0.00      0.00         1\n",
      "\n",
      "      accuracy                           0.88       900\n",
      "     macro avg       0.58      0.44      0.48       900\n",
      "  weighted avg       0.87      0.88      0.87       900\n",
      "\n"
     ]
    },
    {
     "name": "stderr",
     "output_type": "stream",
     "text": [
      "/home/victor/anaconda3/lib/python3.7/site-packages/sklearn/metrics/classification.py:1437: UndefinedMetricWarning: Precision and F-score are ill-defined and being set to 0.0 in labels with no predicted samples.\n",
      "  'precision', 'predicted', average, warn_for)\n"
     ]
    },
    {
     "name": "stdout",
     "output_type": "stream",
     "text": [
      "[1]KNeighborns Training Accuracy:  0.8508813720819438\n",
      "[1]KNeighborns Training Accuracy:  0.8077777777777778\n",
      "                precision    recall  f1-score   support\n",
      "\n",
      "       bateria       0.00      0.00      0.00         9\n",
      "          cabo       0.00      0.00      0.00         2\n",
      "         fonte       0.83      0.81      0.82        36\n",
      "            hd       0.00      0.00      0.00         6\n",
      "    instalacao       0.53      0.91      0.67        80\n",
      "           nan       0.86      0.92      0.89       515\n",
      "         placa       0.82      0.47      0.60        19\n",
      " placa de rede       0.00      0.00      0.00         8\n",
      "placa de video       0.00      0.00      0.00         2\n",
      "   processador       0.00      0.00      0.00         1\n",
      "           ram       0.29      0.67      0.40         3\n",
      "      software       0.88      0.64      0.74       214\n",
      "         troca       0.00      0.00      0.00         3\n",
      "           usb       0.00      0.00      0.00         1\n",
      "         video       0.00      0.00      0.00         1\n",
      "\n",
      "      accuracy                           0.81       900\n",
      "     macro avg       0.28      0.30      0.28       900\n",
      "  weighted avg       0.80      0.81      0.79       900\n",
      "\n"
     ]
    },
    {
     "name": "stderr",
     "output_type": "stream",
     "text": [
      "/home/victor/anaconda3/lib/python3.7/site-packages/sklearn/metrics/classification.py:1437: UndefinedMetricWarning: Precision and F-score are ill-defined and being set to 0.0 in labels with no predicted samples.\n",
      "  'precision', 'predicted', average, warn_for)\n"
     ]
    },
    {
     "name": "stdout",
     "output_type": "stream",
     "text": [
      "[2]SVC Linear Training Accuracy:  0.9942829919009052\n",
      "[2]SVC Linear Training Accuracy:  0.8844444444444445\n",
      "                precision    recall  f1-score   support\n",
      "\n",
      "       bateria       1.00      0.89      0.94         9\n",
      "          cabo       0.33      0.50      0.40         2\n",
      "         fonte       0.92      0.92      0.92        36\n",
      "            hd       0.75      1.00      0.86         6\n",
      "    instalacao       0.79      0.89      0.84        80\n",
      "           nan       0.91      0.94      0.92       515\n",
      "         placa       0.93      0.74      0.82        19\n",
      " placa de rede       0.73      1.00      0.84         8\n",
      "placa de video       0.00      0.00      0.00         2\n",
      "   processador       0.00      0.00      0.00         1\n",
      "           ram       0.40      0.67      0.50         3\n",
      "      software       0.89      0.78      0.83       214\n",
      "         troca       1.00      0.33      0.50         3\n",
      "           usb       0.00      0.00      0.00         1\n",
      "         video       0.00      0.00      0.00         1\n",
      "\n",
      "      accuracy                           0.88       900\n",
      "     macro avg       0.58      0.58      0.56       900\n",
      "  weighted avg       0.88      0.88      0.88       900\n",
      "\n"
     ]
    },
    {
     "name": "stderr",
     "output_type": "stream",
     "text": [
      "/home/victor/anaconda3/lib/python3.7/site-packages/sklearn/metrics/classification.py:1437: UndefinedMetricWarning: Precision and F-score are ill-defined and being set to 0.0 in labels with no predicted samples.\n",
      "  'precision', 'predicted', average, warn_for)\n"
     ]
    },
    {
     "name": "stdout",
     "output_type": "stream",
     "text": [
      "[3]SVC RBF Training Accuracy:  0.5759885659838018\n",
      "[3]SVC RBF Training Accuracy:  0.5722222222222222\n",
      "                precision    recall  f1-score   support\n",
      "\n",
      "       bateria       0.00      0.00      0.00         9\n",
      "          cabo       0.00      0.00      0.00         2\n",
      "         fonte       0.00      0.00      0.00        36\n",
      "            hd       0.00      0.00      0.00         6\n",
      "    instalacao       0.00      0.00      0.00        80\n",
      "           nan       0.57      1.00      0.73       515\n",
      "         placa       0.00      0.00      0.00        19\n",
      " placa de rede       0.00      0.00      0.00         8\n",
      "placa de video       0.00      0.00      0.00         2\n",
      "   processador       0.00      0.00      0.00         1\n",
      "           ram       0.00      0.00      0.00         3\n",
      "      software       0.00      0.00      0.00       214\n",
      "         troca       0.00      0.00      0.00         3\n",
      "           usb       0.00      0.00      0.00         1\n",
      "         video       0.00      0.00      0.00         1\n",
      "\n",
      "      accuracy                           0.57       900\n",
      "     macro avg       0.04      0.07      0.05       900\n",
      "  weighted avg       0.33      0.57      0.42       900\n",
      "\n"
     ]
    },
    {
     "name": "stderr",
     "output_type": "stream",
     "text": [
      "/home/victor/anaconda3/lib/python3.7/site-packages/sklearn/metrics/classification.py:1437: UndefinedMetricWarning: Precision and F-score are ill-defined and being set to 0.0 in labels with no predicted samples.\n",
      "  'precision', 'predicted', average, warn_for)\n"
     ]
    },
    {
     "name": "stdout",
     "output_type": "stream",
     "text": [
      "[4]Gaussian NB Training Accuracy:  0.8604097189137685\n",
      "[4]Gaussian NB Training Accuracy:  0.65\n",
      "                precision    recall  f1-score   support\n",
      "\n",
      "       bateria       1.00      0.56      0.71         9\n",
      "          cabo       0.04      0.50      0.08         2\n",
      "         fonte       0.38      0.14      0.20        36\n",
      "            hd       0.10      0.50      0.17         6\n",
      "    instalacao       0.34      0.45      0.39        80\n",
      "           nan       0.82      0.79      0.80       515\n",
      "         placa       0.44      0.42      0.43        19\n",
      " placa de rede       0.00      0.00      0.00         8\n",
      "placa de video       0.00      0.00      0.00         2\n",
      "   processador       0.00      0.00      0.00         1\n",
      "           ram       0.10      0.33      0.15         3\n",
      "      software       0.64      0.55      0.59       214\n",
      "         troca       0.00      0.00      0.00         3\n",
      "           usb       0.00      0.00      0.00         1\n",
      "         video       0.00      0.00      0.00         1\n",
      "\n",
      "      accuracy                           0.65       900\n",
      "     macro avg       0.26      0.28      0.24       900\n",
      "  weighted avg       0.69      0.65      0.66       900\n",
      "\n"
     ]
    },
    {
     "name": "stderr",
     "output_type": "stream",
     "text": [
      "/home/victor/anaconda3/lib/python3.7/site-packages/sklearn/metrics/classification.py:1437: UndefinedMetricWarning: Precision and F-score are ill-defined and being set to 0.0 in labels with no predicted samples.\n",
      "  'precision', 'predicted', average, warn_for)\n"
     ]
    },
    {
     "name": "stdout",
     "output_type": "stream",
     "text": [
      "[5]Decision Tree Training Accuracy:  0.9990471653168176\n",
      "[5]Decision Tree Training Accuracy:  0.8511111111111112\n",
      "                precision    recall  f1-score   support\n",
      "\n",
      "       bateria       0.89      0.89      0.89         9\n",
      "          cabo       0.25      0.50      0.33         2\n",
      "         fonte       0.92      0.92      0.92        36\n",
      "            hd       0.56      0.83      0.67         6\n",
      "    instalacao       0.74      0.78      0.76        80\n",
      "           nan       0.88      0.92      0.90       515\n",
      "         placa       0.92      0.58      0.71        19\n",
      " placa de rede       0.67      1.00      0.80         8\n",
      "placa de video       1.00      0.50      0.67         2\n",
      "   processador       0.00      0.00      0.00         1\n",
      "           ram       0.40      0.67      0.50         3\n",
      "      software       0.85      0.74      0.80       214\n",
      "         troca       0.50      0.33      0.40         3\n",
      "           usb       0.00      0.00      0.00         1\n",
      "         video       0.00      0.00      0.00         1\n",
      "\n",
      "      accuracy                           0.85       900\n",
      "     macro avg       0.57      0.58      0.56       900\n",
      "  weighted avg       0.85      0.85      0.85       900\n",
      "\n"
     ]
    },
    {
     "name": "stderr",
     "output_type": "stream",
     "text": [
      "/home/victor/anaconda3/lib/python3.7/site-packages/sklearn/metrics/classification.py:1437: UndefinedMetricWarning: Precision and F-score are ill-defined and being set to 0.0 in labels with no predicted samples.\n",
      "  'precision', 'predicted', average, warn_for)\n"
     ]
    },
    {
     "name": "stdout",
     "output_type": "stream",
     "text": [
      "[6]Random Forest Training Accuracy:  0.993806574559314\n",
      "[6]Random Forest Training Accuracy:  0.85\n",
      "                precision    recall  f1-score   support\n",
      "\n",
      "       bateria       1.00      0.56      0.71         9\n",
      "          cabo       1.00      0.50      0.67         2\n",
      "         fonte       0.96      0.72      0.83        36\n",
      "            hd       0.62      0.83      0.71         6\n",
      "    instalacao       0.67      0.89      0.76        80\n",
      "           nan       0.88      0.94      0.91       515\n",
      "         placa       0.67      0.53      0.59        19\n",
      " placa de rede       1.00      0.12      0.22         8\n",
      "placa de video       0.00      0.00      0.00         2\n",
      "   processador       0.00      0.00      0.00         1\n",
      "           ram       0.33      0.67      0.44         3\n",
      "      software       0.88      0.74      0.80       214\n",
      "         troca       0.00      0.00      0.00         3\n",
      "           usb       0.00      0.00      0.00         1\n",
      "         video       0.00      0.00      0.00         1\n",
      "\n",
      "      accuracy                           0.85       900\n",
      "     macro avg       0.53      0.43      0.44       900\n",
      "  weighted avg       0.85      0.85      0.84       900\n",
      "\n"
     ]
    },
    {
     "name": "stderr",
     "output_type": "stream",
     "text": [
      "/home/victor/anaconda3/lib/python3.7/site-packages/sklearn/metrics/classification.py:1437: UndefinedMetricWarning: Precision and F-score are ill-defined and being set to 0.0 in labels with no predicted samples.\n",
      "  'precision', 'predicted', average, warn_for)\n"
     ]
    },
    {
     "name": "stdout",
     "output_type": "stream",
     "text": [
      "[7] Perceptron Training Accuracy:  0.9952358265840877\n",
      "[7] Perceptron Testing accuracy:  0.8644444444444445\n",
      "                precision    recall  f1-score   support\n",
      "\n",
      "       bateria       1.00      0.78      0.88         9\n",
      "          cabo       0.33      0.50      0.40         2\n",
      "           dvd       0.00      0.00      0.00         0\n",
      "         fonte       0.94      0.83      0.88        36\n",
      "            hd       0.86      1.00      0.92         6\n",
      "    instalacao       0.86      0.80      0.83        80\n",
      "       monitor       0.00      0.00      0.00         0\n",
      "           nan       0.92      0.92      0.92       515\n",
      "         placa       0.72      0.68      0.70        19\n",
      " placa de rede       0.83      0.62      0.71         8\n",
      "placa de video       0.00      0.00      0.00         2\n",
      "   processador       0.00      0.00      0.00         1\n",
      "           ram       0.50      0.33      0.40         3\n",
      "      software       0.85      0.82      0.83       214\n",
      "         troca       0.25      0.33      0.29         3\n",
      "           usb       0.00      0.00      0.00         1\n",
      "         video       0.00      0.00      0.00         1\n",
      "\n",
      "      accuracy                           0.86       900\n",
      "     macro avg       0.47      0.45      0.46       900\n",
      "  weighted avg       0.88      0.86      0.87       900\n",
      "\n"
     ]
    },
    {
     "name": "stderr",
     "output_type": "stream",
     "text": [
      "/home/victor/anaconda3/lib/python3.7/site-packages/sklearn/metrics/classification.py:1437: UndefinedMetricWarning: Precision and F-score are ill-defined and being set to 0.0 in labels with no predicted samples.\n",
      "  'precision', 'predicted', average, warn_for)\n",
      "/home/victor/anaconda3/lib/python3.7/site-packages/sklearn/metrics/classification.py:1439: UndefinedMetricWarning: Recall and F-score are ill-defined and being set to 0.0 in labels with no true samples.\n",
      "  'recall', 'true', average, warn_for)\n"
     ]
    },
    {
     "name": "stdout",
     "output_type": "stream",
     "text": [
      "[8] MultinomialNB Training Accuracy:  0.9232968080038113\n",
      "[8] MultinomialNB Testing accuracy:  0.7911111111111111\n",
      "                precision    recall  f1-score   support\n",
      "\n",
      "       bateria       1.00      0.78      0.88         9\n",
      "          cabo       0.33      0.50      0.40         2\n",
      "           dvd       0.00      0.00      0.00         0\n",
      "         fonte       0.94      0.83      0.88        36\n",
      "            hd       0.86      1.00      0.92         6\n",
      "    instalacao       0.86      0.80      0.83        80\n",
      "       monitor       0.00      0.00      0.00         0\n",
      "           nan       0.92      0.92      0.92       515\n",
      "         placa       0.72      0.68      0.70        19\n",
      " placa de rede       0.83      0.62      0.71         8\n",
      "placa de video       0.00      0.00      0.00         2\n",
      "   processador       0.00      0.00      0.00         1\n",
      "           ram       0.50      0.33      0.40         3\n",
      "      software       0.85      0.82      0.83       214\n",
      "         troca       0.25      0.33      0.29         3\n",
      "           usb       0.00      0.00      0.00         1\n",
      "         video       0.00      0.00      0.00         1\n",
      "\n",
      "      accuracy                           0.86       900\n",
      "     macro avg       0.47      0.45      0.46       900\n",
      "  weighted avg       0.88      0.86      0.87       900\n",
      "\n"
     ]
    },
    {
     "name": "stderr",
     "output_type": "stream",
     "text": [
      "/home/victor/anaconda3/lib/python3.7/site-packages/sklearn/metrics/classification.py:1437: UndefinedMetricWarning: Precision and F-score are ill-defined and being set to 0.0 in labels with no predicted samples.\n",
      "  'precision', 'predicted', average, warn_for)\n",
      "/home/victor/anaconda3/lib/python3.7/site-packages/sklearn/metrics/classification.py:1439: UndefinedMetricWarning: Recall and F-score are ill-defined and being set to 0.0 in labels with no true samples.\n",
      "  'recall', 'true', average, warn_for)\n"
     ]
    },
    {
     "name": "stdout",
     "output_type": "stream",
     "text": [
      "[9] BernoulliNB Training Accuracy:  0.9156741305383516\n",
      "[9] BernoulliNB Testing accuracy:  0.7944444444444444\n",
      "                precision    recall  f1-score   support\n",
      "\n",
      "       bateria       1.00      0.78      0.88         9\n",
      "          cabo       0.33      0.50      0.40         2\n",
      "           dvd       0.00      0.00      0.00         0\n",
      "         fonte       0.94      0.83      0.88        36\n",
      "            hd       0.86      1.00      0.92         6\n",
      "    instalacao       0.86      0.80      0.83        80\n",
      "       monitor       0.00      0.00      0.00         0\n",
      "           nan       0.92      0.92      0.92       515\n",
      "         placa       0.72      0.68      0.70        19\n",
      " placa de rede       0.83      0.62      0.71         8\n",
      "placa de video       0.00      0.00      0.00         2\n",
      "   processador       0.00      0.00      0.00         1\n",
      "           ram       0.50      0.33      0.40         3\n",
      "      software       0.85      0.82      0.83       214\n",
      "         troca       0.25      0.33      0.29         3\n",
      "           usb       0.00      0.00      0.00         1\n",
      "         video       0.00      0.00      0.00         1\n",
      "\n",
      "      accuracy                           0.86       900\n",
      "     macro avg       0.47      0.45      0.46       900\n",
      "  weighted avg       0.88      0.86      0.87       900\n",
      "\n"
     ]
    },
    {
     "name": "stderr",
     "output_type": "stream",
     "text": [
      "/home/victor/anaconda3/lib/python3.7/site-packages/sklearn/metrics/classification.py:1437: UndefinedMetricWarning: Precision and F-score are ill-defined and being set to 0.0 in labels with no predicted samples.\n",
      "  'precision', 'predicted', average, warn_for)\n",
      "/home/victor/anaconda3/lib/python3.7/site-packages/sklearn/metrics/classification.py:1439: UndefinedMetricWarning: Recall and F-score are ill-defined and being set to 0.0 in labels with no true samples.\n",
      "  'recall', 'true', average, warn_for)\n"
     ]
    },
    {
     "name": "stdout",
     "output_type": "stream",
     "text": [
      "[10] ComplementNB Training Accuracy:  0.8999523582658409\n",
      "[10] ComplementNB Testing accuracy:  0.8177777777777778\n",
      "                precision    recall  f1-score   support\n",
      "\n",
      "       bateria       1.00      0.78      0.88         9\n",
      "          cabo       0.33      0.50      0.40         2\n",
      "           dvd       0.00      0.00      0.00         0\n",
      "         fonte       0.94      0.83      0.88        36\n",
      "            hd       0.86      1.00      0.92         6\n",
      "    instalacao       0.86      0.80      0.83        80\n",
      "       monitor       0.00      0.00      0.00         0\n",
      "           nan       0.92      0.92      0.92       515\n",
      "         placa       0.72      0.68      0.70        19\n",
      " placa de rede       0.83      0.62      0.71         8\n",
      "placa de video       0.00      0.00      0.00         2\n",
      "   processador       0.00      0.00      0.00         1\n",
      "           ram       0.50      0.33      0.40         3\n",
      "      software       0.85      0.82      0.83       214\n",
      "         troca       0.25      0.33      0.29         3\n",
      "           usb       0.00      0.00      0.00         1\n",
      "         video       0.00      0.00      0.00         1\n",
      "\n",
      "      accuracy                           0.86       900\n",
      "     macro avg       0.47      0.45      0.46       900\n",
      "  weighted avg       0.88      0.86      0.87       900\n",
      "\n"
     ]
    },
    {
     "name": "stderr",
     "output_type": "stream",
     "text": [
      "/home/victor/anaconda3/lib/python3.7/site-packages/sklearn/metrics/classification.py:1437: UndefinedMetricWarning: Precision and F-score are ill-defined and being set to 0.0 in labels with no predicted samples.\n",
      "  'precision', 'predicted', average, warn_for)\n",
      "/home/victor/anaconda3/lib/python3.7/site-packages/sklearn/metrics/classification.py:1439: UndefinedMetricWarning: Recall and F-score are ill-defined and being set to 0.0 in labels with no true samples.\n",
      "  'recall', 'true', average, warn_for)\n"
     ]
    }
   ],
   "source": [
    "print('ESPC')\n",
    "mod_Tespc = models(x_train_Tespc,y_train_Tespc, x_test_Tespc, y_test_Tespc)"
   ]
  },
  {
   "cell_type": "code",
   "execution_count": 94,
   "metadata": {},
   "outputs": [
    {
     "name": "stdout",
     "output_type": "stream",
     "text": [
      "EQUIP\n"
     ]
    },
    {
     "name": "stderr",
     "output_type": "stream",
     "text": [
      "/home/victor/anaconda3/lib/python3.7/site-packages/sklearn/linear_model/logistic.py:432: FutureWarning: Default solver will be changed to 'lbfgs' in 0.22. Specify a solver to silence this warning.\n",
      "  FutureWarning)\n",
      "/home/victor/anaconda3/lib/python3.7/site-packages/sklearn/linear_model/logistic.py:469: FutureWarning: Default multi_class will be changed to 'auto' in 0.22. Specify the multi_class option to silence this warning.\n",
      "  \"this warning.\", FutureWarning)\n",
      "/home/victor/anaconda3/lib/python3.7/site-packages/sklearn/svm/base.py:193: FutureWarning: The default value of gamma will change from 'auto' to 'scale' in version 0.22 to account better for unscaled features. Set gamma explicitly to 'auto' or 'scale' to avoid this warning.\n",
      "  \"avoid this warning.\", FutureWarning)\n"
     ]
    },
    {
     "name": "stdout",
     "output_type": "stream",
     "text": [
      "[0]Logistic Regression Training Accuracy:  0.9866603144354454\n",
      "[0]Logistic Regression Training Accuracy:  0.9077777777777778\n",
      "               precision    recall  f1-score   support\n",
      "\n",
      "   computador       0.91      0.89      0.90       321\n",
      "     datashow       1.00      0.82      0.90        11\n",
      "       e-mail       0.97      0.99      0.98       172\n",
      "estabilizador       0.00      0.00      0.00         3\n",
      "   impressora       0.89      0.99      0.94       122\n",
      "     internet       0.86      0.93      0.89       187\n",
      "      monitor       1.00      0.67      0.80         3\n",
      "          nan       0.91      0.67      0.77        48\n",
      "      nobreak       1.00      0.92      0.96        25\n",
      "     notebook       0.00      0.00      0.00         8\n",
      "\n",
      "     accuracy                           0.91       900\n",
      "    macro avg       0.75      0.69      0.71       900\n",
      " weighted avg       0.90      0.91      0.90       900\n",
      "\n"
     ]
    },
    {
     "name": "stderr",
     "output_type": "stream",
     "text": [
      "/home/victor/anaconda3/lib/python3.7/site-packages/sklearn/metrics/classification.py:1437: UndefinedMetricWarning: Precision and F-score are ill-defined and being set to 0.0 in labels with no predicted samples.\n",
      "  'precision', 'predicted', average, warn_for)\n"
     ]
    },
    {
     "name": "stdout",
     "output_type": "stream",
     "text": [
      "[1]KNeighborns Training Accuracy:  0.8947117675083373\n",
      "[1]KNeighborns Training Accuracy:  0.8411111111111111\n",
      "               precision    recall  f1-score   support\n",
      "\n",
      "   computador       0.86      0.85      0.86       321\n",
      "     datashow       0.90      0.82      0.86        11\n",
      "       e-mail       0.97      0.97      0.97       172\n",
      "estabilizador       0.00      0.00      0.00         3\n",
      "   impressora       0.67      0.98      0.80       122\n",
      "     internet       0.84      0.82      0.83       187\n",
      "      monitor       0.00      0.00      0.00         3\n",
      "          nan       0.80      0.50      0.62        48\n",
      "      nobreak       1.00      0.48      0.65        25\n",
      "     notebook       0.00      0.00      0.00         8\n",
      "\n",
      "     accuracy                           0.84       900\n",
      "    macro avg       0.60      0.54      0.56       900\n",
      " weighted avg       0.84      0.84      0.83       900\n",
      "\n"
     ]
    },
    {
     "name": "stderr",
     "output_type": "stream",
     "text": [
      "/home/victor/anaconda3/lib/python3.7/site-packages/sklearn/metrics/classification.py:1437: UndefinedMetricWarning: Precision and F-score are ill-defined and being set to 0.0 in labels with no predicted samples.\n",
      "  'precision', 'predicted', average, warn_for)\n"
     ]
    },
    {
     "name": "stdout",
     "output_type": "stream",
     "text": [
      "[2]SVC Linear Training Accuracy:  0.9980943306336351\n",
      "[2]SVC Linear Training Accuracy:  0.9177777777777778\n",
      "               precision    recall  f1-score   support\n",
      "\n",
      "   computador       0.92      0.88      0.90       321\n",
      "     datashow       1.00      0.82      0.90        11\n",
      "       e-mail       0.97      0.99      0.98       172\n",
      "estabilizador       1.00      0.33      0.50         3\n",
      "   impressora       0.91      0.98      0.94       122\n",
      "     internet       0.88      0.93      0.90       187\n",
      "      monitor       1.00      0.33      0.50         3\n",
      "          nan       0.83      0.83      0.83        48\n",
      "      nobreak       0.96      1.00      0.98        25\n",
      "     notebook       0.75      0.38      0.50         8\n",
      "\n",
      "     accuracy                           0.92       900\n",
      "    macro avg       0.92      0.75      0.79       900\n",
      " weighted avg       0.92      0.92      0.92       900\n",
      "\n",
      "[3]SVC RBF Training Accuracy:  0.4540257265364459\n",
      "[3]SVC RBF Training Accuracy:  0.4577777777777778\n",
      "               precision    recall  f1-score   support\n",
      "\n",
      "   computador       0.40      1.00      0.57       321\n",
      "     datashow       0.00      0.00      0.00        11\n",
      "       e-mail       1.00      0.53      0.69       172\n",
      "estabilizador       0.00      0.00      0.00         3\n",
      "   impressora       0.00      0.00      0.00       122\n",
      "     internet       0.00      0.00      0.00       187\n",
      "      monitor       0.00      0.00      0.00         3\n",
      "          nan       0.00      0.00      0.00        48\n",
      "      nobreak       0.00      0.00      0.00        25\n",
      "     notebook       0.00      0.00      0.00         8\n",
      "\n",
      "     accuracy                           0.46       900\n",
      "    macro avg       0.14      0.15      0.13       900\n",
      " weighted avg       0.33      0.46      0.33       900\n",
      "\n"
     ]
    },
    {
     "name": "stderr",
     "output_type": "stream",
     "text": [
      "/home/victor/anaconda3/lib/python3.7/site-packages/sklearn/metrics/classification.py:1437: UndefinedMetricWarning: Precision and F-score are ill-defined and being set to 0.0 in labels with no predicted samples.\n",
      "  'precision', 'predicted', average, warn_for)\n"
     ]
    },
    {
     "name": "stdout",
     "output_type": "stream",
     "text": [
      "[4]Gaussian NB Training Accuracy:  0.8966174368747022\n",
      "[4]Gaussian NB Training Accuracy:  0.6811111111111111\n",
      "               precision    recall  f1-score   support\n",
      "\n",
      "   computador       0.71      0.69      0.70       321\n",
      "     datashow       0.57      0.73      0.64        11\n",
      "       e-mail       0.98      0.88      0.93       172\n",
      "estabilizador       0.00      0.00      0.00         3\n",
      "   impressora       0.43      0.59      0.49       122\n",
      "     internet       0.74      0.69      0.71       187\n",
      "      monitor       1.00      0.67      0.80         3\n",
      "          nan       1.00      0.21      0.34        48\n",
      "      nobreak       0.49      0.80      0.61        25\n",
      "     notebook       0.00      0.00      0.00         8\n",
      "\n",
      "     accuracy                           0.68       900\n",
      "    macro avg       0.59      0.53      0.52       900\n",
      " weighted avg       0.73      0.68      0.69       900\n",
      "\n",
      "[5]Decision Tree Training Accuracy:  1.0\n",
      "[5]Decision Tree Training Accuracy:  0.8788888888888889\n",
      "               precision    recall  f1-score   support\n",
      "\n",
      "   computador       0.89      0.84      0.86       321\n",
      "     datashow       0.67      0.91      0.77        11\n",
      "       e-mail       0.95      0.98      0.97       172\n",
      "estabilizador       0.50      0.67      0.57         3\n",
      "   impressora       0.90      0.93      0.92       122\n",
      "     internet       0.84      0.87      0.85       187\n",
      "      monitor       0.50      0.67      0.57         3\n",
      "          nan       0.74      0.71      0.72        48\n",
      "      nobreak       0.92      0.96      0.94        25\n",
      "     notebook       1.00      0.38      0.55         8\n",
      "\n",
      "     accuracy                           0.88       900\n",
      "    macro avg       0.79      0.79      0.77       900\n",
      " weighted avg       0.88      0.88      0.88       900\n",
      "\n",
      "[6]Random Forest Training Accuracy:  0.9957122439256789\n",
      "[6]Random Forest Training Accuracy:  0.8788888888888889\n",
      "               precision    recall  f1-score   support\n",
      "\n",
      "   computador       0.84      0.90      0.87       321\n",
      "     datashow       0.90      0.82      0.86        11\n",
      "       e-mail       0.98      0.98      0.98       172\n",
      "estabilizador       0.00      0.00      0.00         3\n",
      "   impressora       0.88      0.92      0.90       122\n",
      "     internet       0.87      0.87      0.87       187\n",
      "      monitor       1.00      0.33      0.50         3\n",
      "          nan       0.83      0.62      0.71        48\n",
      "      nobreak       1.00      0.80      0.89        25\n",
      "     notebook       0.00      0.00      0.00         8\n",
      "\n",
      "     accuracy                           0.88       900\n",
      "    macro avg       0.73      0.62      0.66       900\n",
      " weighted avg       0.87      0.88      0.87       900\n",
      "\n"
     ]
    },
    {
     "name": "stderr",
     "output_type": "stream",
     "text": [
      "/home/victor/anaconda3/lib/python3.7/site-packages/sklearn/metrics/classification.py:1437: UndefinedMetricWarning: Precision and F-score are ill-defined and being set to 0.0 in labels with no predicted samples.\n",
      "  'precision', 'predicted', average, warn_for)\n"
     ]
    },
    {
     "name": "stdout",
     "output_type": "stream",
     "text": [
      "[7] Perceptron Training Accuracy:  0.9995235826584088\n",
      "[7] Perceptron Testing accuracy:  0.8955555555555555\n",
      "               precision    recall  f1-score   support\n",
      "\n",
      "   computador       0.90      0.89      0.90       321\n",
      "     datashow       0.56      0.82      0.67        11\n",
      "       e-mail       0.97      0.99      0.98       172\n",
      "estabilizador       0.50      0.33      0.40         3\n",
      "   impressora       0.89      0.97      0.93       122\n",
      "     internet       0.89      0.86      0.87       187\n",
      "      monitor       0.33      0.33      0.33         3\n",
      "          nan       0.80      0.67      0.73        48\n",
      "      nobreak       1.00      1.00      1.00        25\n",
      "     notebook       0.60      0.38      0.46         8\n",
      "\n",
      "     accuracy                           0.90       900\n",
      "    macro avg       0.74      0.72      0.73       900\n",
      " weighted avg       0.89      0.90      0.89       900\n",
      "\n",
      "[8] MultinomialNB Training Accuracy:  0.9728442115292997\n",
      "[8] MultinomialNB Testing accuracy:  0.8555555555555555\n",
      "               precision    recall  f1-score   support\n",
      "\n",
      "   computador       0.90      0.89      0.90       321\n",
      "     datashow       0.56      0.82      0.67        11\n",
      "       e-mail       0.97      0.99      0.98       172\n",
      "estabilizador       0.50      0.33      0.40         3\n",
      "   impressora       0.89      0.97      0.93       122\n",
      "     internet       0.89      0.86      0.87       187\n",
      "      monitor       0.33      0.33      0.33         3\n",
      "          nan       0.80      0.67      0.73        48\n",
      "      nobreak       1.00      1.00      1.00        25\n",
      "     notebook       0.60      0.38      0.46         8\n",
      "\n",
      "     accuracy                           0.90       900\n",
      "    macro avg       0.74      0.72      0.73       900\n",
      " weighted avg       0.89      0.90      0.89       900\n",
      "\n",
      "[9] BernoulliNB Training Accuracy:  0.9647451167222487\n",
      "[9] BernoulliNB Testing accuracy:  0.8611111111111112\n",
      "               precision    recall  f1-score   support\n",
      "\n",
      "   computador       0.90      0.89      0.90       321\n",
      "     datashow       0.56      0.82      0.67        11\n",
      "       e-mail       0.97      0.99      0.98       172\n",
      "estabilizador       0.50      0.33      0.40         3\n",
      "   impressora       0.89      0.97      0.93       122\n",
      "     internet       0.89      0.86      0.87       187\n",
      "      monitor       0.33      0.33      0.33         3\n",
      "          nan       0.80      0.67      0.73        48\n",
      "      nobreak       1.00      1.00      1.00        25\n",
      "     notebook       0.60      0.38      0.46         8\n",
      "\n",
      "     accuracy                           0.90       900\n",
      "    macro avg       0.74      0.72      0.73       900\n",
      " weighted avg       0.89      0.90      0.89       900\n",
      "\n",
      "[10] ComplementNB Training Accuracy:  0.9618866126727013\n",
      "[10] ComplementNB Testing accuracy:  0.8944444444444445\n",
      "               precision    recall  f1-score   support\n",
      "\n",
      "   computador       0.90      0.89      0.90       321\n",
      "     datashow       0.56      0.82      0.67        11\n",
      "       e-mail       0.97      0.99      0.98       172\n",
      "estabilizador       0.50      0.33      0.40         3\n",
      "   impressora       0.89      0.97      0.93       122\n",
      "     internet       0.89      0.86      0.87       187\n",
      "      monitor       0.33      0.33      0.33         3\n",
      "          nan       0.80      0.67      0.73        48\n",
      "      nobreak       1.00      1.00      1.00        25\n",
      "     notebook       0.60      0.38      0.46         8\n",
      "\n",
      "     accuracy                           0.90       900\n",
      "    macro avg       0.74      0.72      0.73       900\n",
      " weighted avg       0.89      0.90      0.89       900\n",
      "\n"
     ]
    }
   ],
   "source": [
    "print('EQUIP')\n",
    "mod_Tequip = models(x_train_Tequip,y_train_Tequip, x_test_Tequip, y_test_Tequip)"
   ]
  },
  {
   "cell_type": "code",
   "execution_count": 95,
   "metadata": {},
   "outputs": [],
   "source": [
    "cpl = []\n",
    "for element in complet:\n",
    "    aux = []\n",
    "    for key, value in element[0].items():\n",
    "        aux.append(value)\n",
    "    cpl.append(aux)"
   ]
  },
  {
   "cell_type": "code",
   "execution_count": 96,
   "metadata": {},
   "outputs": [],
   "source": [
    "y_pred_cpl_Tespc = mod_Tespc[2].predict(cpl)\n",
    "y_pred_cpl_Tequip = mod_Tequip[2].predict(cpl)"
   ]
  },
  {
   "cell_type": "code",
   "execution_count": 97,
   "metadata": {},
   "outputs": [],
   "source": [
    "df2 = pd.DataFrame({'ESPC': y_pred_cpl_Tespc})\n",
    "df2.to_csv('prediction_Tespc_ocomon.csv', index=False)\n",
    "\n",
    "df3 = pd.DataFrame({'EQUIP': y_pred_cpl_Tequip})\n",
    "df3.to_csv('prediction_Tequip_ocomon.csv', index=False)"
   ]
  },
  {
   "cell_type": "code",
   "execution_count": 98,
   "metadata": {},
   "outputs": [
    {
     "data": {
      "text/html": [
       "<div>\n",
       "<style scoped>\n",
       "    .dataframe tbody tr th:only-of-type {\n",
       "        vertical-align: middle;\n",
       "    }\n",
       "\n",
       "    .dataframe tbody tr th {\n",
       "        vertical-align: top;\n",
       "    }\n",
       "\n",
       "    .dataframe thead th {\n",
       "        text-align: right;\n",
       "    }\n",
       "</style>\n",
       "<table border=\"1\" class=\"dataframe\">\n",
       "  <thead>\n",
       "    <tr style=\"text-align: right;\">\n",
       "      <th></th>\n",
       "      <th>DESCRIB</th>\n",
       "      <th>PROB_ORIG</th>\n",
       "      <th>PROB</th>\n",
       "      <th>ESPC</th>\n",
       "      <th>EQUIP</th>\n",
       "      <th>I_NAME</th>\n",
       "      <th>R_NAME</th>\n",
       "      <th>C_NAME</th>\n",
       "      <th>EQUIP_ID</th>\n",
       "      <th>HAS_VALUE</th>\n",
       "      <th>...</th>\n",
       "      <th>HOUR_OPEN</th>\n",
       "      <th>MIN_OPEN</th>\n",
       "      <th>DATA_OPEN</th>\n",
       "      <th>CLOSE_YEAR_4</th>\n",
       "      <th>CLOSE_MONTH_4</th>\n",
       "      <th>CLOSE_DAY_4</th>\n",
       "      <th>HOUR_CLOSE</th>\n",
       "      <th>MIN_CLOSE</th>\n",
       "      <th>DATA_CLOSE</th>\n",
       "      <th>STI</th>\n",
       "    </tr>\n",
       "  </thead>\n",
       "  <tbody>\n",
       "    <tr>\n",
       "      <td>15799</td>\n",
       "      <td>liga e desliga reinicia sozinho local prospeqi...</td>\n",
       "      <td>NaN</td>\n",
       "      <td>software</td>\n",
       "      <td>s.o</td>\n",
       "      <td>computador</td>\n",
       "      <td>teresina</td>\n",
       "      <td>joao xavier</td>\n",
       "      <td>bolsista geral 2018</td>\n",
       "      <td>237490</td>\n",
       "      <td>NP</td>\n",
       "      <td>...</td>\n",
       "      <td>16</td>\n",
       "      <td>31</td>\n",
       "      <td>16/9/2019</td>\n",
       "      <td>-1</td>\n",
       "      <td>-1</td>\n",
       "      <td>-1</td>\n",
       "      <td>-1</td>\n",
       "      <td>-1</td>\n",
       "      <td>99/99/9999</td>\n",
       "      <td>0</td>\n",
       "    </tr>\n",
       "    <tr>\n",
       "      <td>15800</td>\n",
       "      <td>windows corrompidocoordenadoria de avaliacao e...</td>\n",
       "      <td>NaN</td>\n",
       "      <td>software</td>\n",
       "      <td>s.o</td>\n",
       "      <td>computador</td>\n",
       "      <td>teresina</td>\n",
       "      <td>raphaela da mota silva</td>\n",
       "      <td>bolsista geral 2018</td>\n",
       "      <td>256479</td>\n",
       "      <td>NP</td>\n",
       "      <td>...</td>\n",
       "      <td>17</td>\n",
       "      <td>35</td>\n",
       "      <td>17/9/2019</td>\n",
       "      <td>-1</td>\n",
       "      <td>-1</td>\n",
       "      <td>-1</td>\n",
       "      <td>-1</td>\n",
       "      <td>-1</td>\n",
       "      <td>99/99/9999</td>\n",
       "      <td>0</td>\n",
       "    </tr>\n",
       "    <tr>\n",
       "      <td>15801</td>\n",
       "      <td>computador nao liga aberto por felipe a  null ...</td>\n",
       "      <td>NaN</td>\n",
       "      <td>hardware</td>\n",
       "      <td>hardware</td>\n",
       "      <td>computador</td>\n",
       "      <td>teresina</td>\n",
       "      <td>lucas lopes</td>\n",
       "      <td>bolsista geral 2018</td>\n",
       "      <td>161603</td>\n",
       "      <td>NP</td>\n",
       "      <td>...</td>\n",
       "      <td>8</td>\n",
       "      <td>54</td>\n",
       "      <td>18/9/2019</td>\n",
       "      <td>-1</td>\n",
       "      <td>-1</td>\n",
       "      <td>-1</td>\n",
       "      <td>-1</td>\n",
       "      <td>-1</td>\n",
       "      <td>99/99/9999</td>\n",
       "      <td>sti_central</td>\n",
       "    </tr>\n",
       "  </tbody>\n",
       "</table>\n",
       "<p>3 rows × 25 columns</p>\n",
       "</div>"
      ],
      "text/plain": [
       "                                                 DESCRIB PROB_ORIG      PROB  \\\n",
       "15799  liga e desliga reinicia sozinho local prospeqi...       NaN  software   \n",
       "15800  windows corrompidocoordenadoria de avaliacao e...       NaN  software   \n",
       "15801  computador nao liga aberto por felipe a  null ...       NaN  hardware   \n",
       "\n",
       "           ESPC       EQUIP    I_NAME                  R_NAME  \\\n",
       "15799       s.o  computador  teresina             joao xavier   \n",
       "15800       s.o  computador  teresina  raphaela da mota silva   \n",
       "15801  hardware  computador  teresina             lucas lopes   \n",
       "\n",
       "                    C_NAME  EQUIP_ID HAS_VALUE  ... HOUR_OPEN MIN_OPEN  \\\n",
       "15799  bolsista geral 2018    237490        NP  ...        16       31   \n",
       "15800  bolsista geral 2018    256479        NP  ...        17       35   \n",
       "15801  bolsista geral 2018    161603        NP  ...         8       54   \n",
       "\n",
       "       DATA_OPEN  CLOSE_YEAR_4  CLOSE_MONTH_4  CLOSE_DAY_4  HOUR_CLOSE  \\\n",
       "15799  16/9/2019            -1             -1           -1          -1   \n",
       "15800  17/9/2019            -1             -1           -1          -1   \n",
       "15801  18/9/2019            -1             -1           -1          -1   \n",
       "\n",
       "      MIN_CLOSE  DATA_CLOSE          STI  \n",
       "15799        -1  99/99/9999            0  \n",
       "15800        -1  99/99/9999            0  \n",
       "15801        -1  99/99/9999  sti_central  \n",
       "\n",
       "[3 rows x 25 columns]"
      ]
     },
     "execution_count": 98,
     "metadata": {},
     "output_type": "execute_result"
    }
   ],
   "source": [
    "new_df = pd.read_csv('ocomon_log.csv')\n",
    "new_df.tail(3)"
   ]
  },
  {
   "cell_type": "code",
   "execution_count": 99,
   "metadata": {},
   "outputs": [],
   "source": [
    "hvpre2 = df2.ESPC.tolist()\n",
    "hvpre3 = df3.EQUIP.tolist()"
   ]
  },
  {
   "cell_type": "code",
   "execution_count": 100,
   "metadata": {},
   "outputs": [],
   "source": [
    "new_df['ESPC'] = hvpre2\n",
    "new_df['EQUIP'] = hvpre3"
   ]
  },
  {
   "cell_type": "code",
   "execution_count": 101,
   "metadata": {},
   "outputs": [],
   "source": [
    "new_df.to_csv('ocomon_FINAL.csv', index=False)"
   ]
  },
  {
   "cell_type": "code",
   "execution_count": 102,
   "metadata": {},
   "outputs": [
    {
     "data": {
      "text/html": [
       "<div>\n",
       "<style scoped>\n",
       "    .dataframe tbody tr th:only-of-type {\n",
       "        vertical-align: middle;\n",
       "    }\n",
       "\n",
       "    .dataframe tbody tr th {\n",
       "        vertical-align: top;\n",
       "    }\n",
       "\n",
       "    .dataframe thead th {\n",
       "        text-align: right;\n",
       "    }\n",
       "</style>\n",
       "<table border=\"1\" class=\"dataframe\">\n",
       "  <thead>\n",
       "    <tr style=\"text-align: right;\">\n",
       "      <th></th>\n",
       "      <th>DESCRIB</th>\n",
       "      <th>PROB_ORIG</th>\n",
       "      <th>PROB</th>\n",
       "      <th>ESPC</th>\n",
       "      <th>EQUIP</th>\n",
       "      <th>I_NAME</th>\n",
       "      <th>R_NAME</th>\n",
       "      <th>C_NAME</th>\n",
       "      <th>EQUIP_ID</th>\n",
       "      <th>HAS_VALUE</th>\n",
       "      <th>...</th>\n",
       "      <th>HOUR_OPEN</th>\n",
       "      <th>MIN_OPEN</th>\n",
       "      <th>DATA_OPEN</th>\n",
       "      <th>CLOSE_YEAR_4</th>\n",
       "      <th>CLOSE_MONTH_4</th>\n",
       "      <th>CLOSE_DAY_4</th>\n",
       "      <th>HOUR_CLOSE</th>\n",
       "      <th>MIN_CLOSE</th>\n",
       "      <th>DATA_CLOSE</th>\n",
       "      <th>STI</th>\n",
       "    </tr>\n",
       "  </thead>\n",
       "  <tbody>\n",
       "    <tr>\n",
       "      <td>0</td>\n",
       "      <td>foi solicitado a manutencao de pontos de reded...</td>\n",
       "      <td>NaN</td>\n",
       "      <td>N.A</td>\n",
       "      <td>nan</td>\n",
       "      <td>internet</td>\n",
       "      <td>teresina</td>\n",
       "      <td>jaclason machado veras</td>\n",
       "      <td>julia sousa santos</td>\n",
       "      <td>-999999</td>\n",
       "      <td>NaN</td>\n",
       "      <td>...</td>\n",
       "      <td>9</td>\n",
       "      <td>15</td>\n",
       "      <td>18/4/2012</td>\n",
       "      <td>1</td>\n",
       "      <td>2</td>\n",
       "      <td>4</td>\n",
       "      <td>9</td>\n",
       "      <td>0</td>\n",
       "      <td>26/4/2012</td>\n",
       "      <td>sti_cca</td>\n",
       "    </tr>\n",
       "    <tr>\n",
       "      <td>1</td>\n",
       "      <td>computador nao liga  sujeira e mau na memoria ...</td>\n",
       "      <td>NaN</td>\n",
       "      <td>hardware</td>\n",
       "      <td>ram</td>\n",
       "      <td>computador</td>\n",
       "      <td>teresina</td>\n",
       "      <td>secretaria do mestrado de piliticas publicas</td>\n",
       "      <td>luis carlos dos santos farias</td>\n",
       "      <td>140981</td>\n",
       "      <td>P</td>\n",
       "      <td>...</td>\n",
       "      <td>8</td>\n",
       "      <td>13</td>\n",
       "      <td>23/4/2014</td>\n",
       "      <td>2</td>\n",
       "      <td>2</td>\n",
       "      <td>4</td>\n",
       "      <td>9</td>\n",
       "      <td>4</td>\n",
       "      <td>23/4/2014</td>\n",
       "      <td>sti_cchl</td>\n",
       "    </tr>\n",
       "    <tr>\n",
       "      <td>2</td>\n",
       "      <td>meu computador esta ligando o monitor tb mas a...</td>\n",
       "      <td>NaN</td>\n",
       "      <td>hardware</td>\n",
       "      <td>monitor</td>\n",
       "      <td>monitor</td>\n",
       "      <td>teresina</td>\n",
       "      <td>gabinete do reitor 5511</td>\n",
       "      <td>constanca dolores lopes monteiro</td>\n",
       "      <td>-999999</td>\n",
       "      <td>P</td>\n",
       "      <td>...</td>\n",
       "      <td>15</td>\n",
       "      <td>43</td>\n",
       "      <td>24/10/2011</td>\n",
       "      <td>1</td>\n",
       "      <td>4</td>\n",
       "      <td>4</td>\n",
       "      <td>15</td>\n",
       "      <td>59</td>\n",
       "      <td>24/10/2011</td>\n",
       "      <td>sti_central</td>\n",
       "    </tr>\n",
       "    <tr>\n",
       "      <td>3</td>\n",
       "      <td>desabilite o envio de email como o servico de ...</td>\n",
       "      <td>utilize esta descricao de problema para proble...</td>\n",
       "      <td>N.A</td>\n",
       "      <td>nan</td>\n",
       "      <td>nan</td>\n",
       "      <td>teresina</td>\n",
       "      <td>guilherme</td>\n",
       "      <td>guilherme avelino</td>\n",
       "      <td>-999999</td>\n",
       "      <td>NaN</td>\n",
       "      <td>...</td>\n",
       "      <td>13</td>\n",
       "      <td>20</td>\n",
       "      <td>24/10/2011</td>\n",
       "      <td>1</td>\n",
       "      <td>4</td>\n",
       "      <td>4</td>\n",
       "      <td>17</td>\n",
       "      <td>6</td>\n",
       "      <td>26/10/2011</td>\n",
       "      <td>sti_central</td>\n",
       "    </tr>\n",
       "    <tr>\n",
       "      <td>4</td>\n",
       "      <td>instalacao de impressoras e remocao de virus  ...</td>\n",
       "      <td>NaN</td>\n",
       "      <td>hardware</td>\n",
       "      <td>software</td>\n",
       "      <td>computador</td>\n",
       "      <td>teresina</td>\n",
       "      <td>NaN</td>\n",
       "      <td>bolsista nti</td>\n",
       "      <td>-999999</td>\n",
       "      <td>NP</td>\n",
       "      <td>...</td>\n",
       "      <td>12</td>\n",
       "      <td>13</td>\n",
       "      <td>24/10/2011</td>\n",
       "      <td>1</td>\n",
       "      <td>4</td>\n",
       "      <td>4</td>\n",
       "      <td>9</td>\n",
       "      <td>11</td>\n",
       "      <td>26/10/2011</td>\n",
       "      <td>sti_central</td>\n",
       "    </tr>\n",
       "    <tr>\n",
       "      <td>...</td>\n",
       "      <td>...</td>\n",
       "      <td>...</td>\n",
       "      <td>...</td>\n",
       "      <td>...</td>\n",
       "      <td>...</td>\n",
       "      <td>...</td>\n",
       "      <td>...</td>\n",
       "      <td>...</td>\n",
       "      <td>...</td>\n",
       "      <td>...</td>\n",
       "      <td>...</td>\n",
       "      <td>...</td>\n",
       "      <td>...</td>\n",
       "      <td>...</td>\n",
       "      <td>...</td>\n",
       "      <td>...</td>\n",
       "      <td>...</td>\n",
       "      <td>...</td>\n",
       "      <td>...</td>\n",
       "      <td>...</td>\n",
       "      <td>...</td>\n",
       "    </tr>\n",
       "    <tr>\n",
       "      <td>15797</td>\n",
       "      <td>computador lentidao preuni cp foi realizado ba...</td>\n",
       "      <td>NaN</td>\n",
       "      <td>software</td>\n",
       "      <td>software</td>\n",
       "      <td>computador</td>\n",
       "      <td>teresina</td>\n",
       "      <td>erica cecilia</td>\n",
       "      <td>bolsista geral 2018</td>\n",
       "      <td>188134</td>\n",
       "      <td>NP</td>\n",
       "      <td>...</td>\n",
       "      <td>15</td>\n",
       "      <td>23</td>\n",
       "      <td>13/9/2019</td>\n",
       "      <td>4</td>\n",
       "      <td>3</td>\n",
       "      <td>3</td>\n",
       "      <td>8</td>\n",
       "      <td>21</td>\n",
       "      <td>17/9/2019</td>\n",
       "      <td>0</td>\n",
       "    </tr>\n",
       "    <tr>\n",
       "      <td>15798</td>\n",
       "      <td>computador lento e nao liga formatar apenas se...</td>\n",
       "      <td>NaN</td>\n",
       "      <td>hardware</td>\n",
       "      <td>software</td>\n",
       "      <td>computador</td>\n",
       "      <td>teresina</td>\n",
       "      <td>igor cunha</td>\n",
       "      <td>bolsista geral 2018</td>\n",
       "      <td>175491</td>\n",
       "      <td>NP</td>\n",
       "      <td>...</td>\n",
       "      <td>16</td>\n",
       "      <td>21</td>\n",
       "      <td>13/9/2019</td>\n",
       "      <td>4</td>\n",
       "      <td>3</td>\n",
       "      <td>2</td>\n",
       "      <td>17</td>\n",
       "      <td>47</td>\n",
       "      <td>13/9/2019</td>\n",
       "      <td>0</td>\n",
       "    </tr>\n",
       "    <tr>\n",
       "      <td>15799</td>\n",
       "      <td>liga e desliga reinicia sozinho local prospeqi...</td>\n",
       "      <td>NaN</td>\n",
       "      <td>software</td>\n",
       "      <td>software</td>\n",
       "      <td>computador</td>\n",
       "      <td>teresina</td>\n",
       "      <td>joao xavier</td>\n",
       "      <td>bolsista geral 2018</td>\n",
       "      <td>237490</td>\n",
       "      <td>NP</td>\n",
       "      <td>...</td>\n",
       "      <td>16</td>\n",
       "      <td>31</td>\n",
       "      <td>16/9/2019</td>\n",
       "      <td>-1</td>\n",
       "      <td>-1</td>\n",
       "      <td>-1</td>\n",
       "      <td>-1</td>\n",
       "      <td>-1</td>\n",
       "      <td>99/99/9999</td>\n",
       "      <td>0</td>\n",
       "    </tr>\n",
       "    <tr>\n",
       "      <td>15800</td>\n",
       "      <td>windows corrompidocoordenadoria de avaliacao e...</td>\n",
       "      <td>NaN</td>\n",
       "      <td>software</td>\n",
       "      <td>software</td>\n",
       "      <td>computador</td>\n",
       "      <td>teresina</td>\n",
       "      <td>raphaela da mota silva</td>\n",
       "      <td>bolsista geral 2018</td>\n",
       "      <td>256479</td>\n",
       "      <td>NP</td>\n",
       "      <td>...</td>\n",
       "      <td>17</td>\n",
       "      <td>35</td>\n",
       "      <td>17/9/2019</td>\n",
       "      <td>-1</td>\n",
       "      <td>-1</td>\n",
       "      <td>-1</td>\n",
       "      <td>-1</td>\n",
       "      <td>-1</td>\n",
       "      <td>99/99/9999</td>\n",
       "      <td>0</td>\n",
       "    </tr>\n",
       "    <tr>\n",
       "      <td>15801</td>\n",
       "      <td>computador nao liga aberto por felipe a  null ...</td>\n",
       "      <td>NaN</td>\n",
       "      <td>hardware</td>\n",
       "      <td>nan</td>\n",
       "      <td>computador</td>\n",
       "      <td>teresina</td>\n",
       "      <td>lucas lopes</td>\n",
       "      <td>bolsista geral 2018</td>\n",
       "      <td>161603</td>\n",
       "      <td>NP</td>\n",
       "      <td>...</td>\n",
       "      <td>8</td>\n",
       "      <td>54</td>\n",
       "      <td>18/9/2019</td>\n",
       "      <td>-1</td>\n",
       "      <td>-1</td>\n",
       "      <td>-1</td>\n",
       "      <td>-1</td>\n",
       "      <td>-1</td>\n",
       "      <td>99/99/9999</td>\n",
       "      <td>sti_central</td>\n",
       "    </tr>\n",
       "  </tbody>\n",
       "</table>\n",
       "<p>15802 rows × 25 columns</p>\n",
       "</div>"
      ],
      "text/plain": [
       "                                                 DESCRIB  \\\n",
       "0      foi solicitado a manutencao de pontos de reded...   \n",
       "1      computador nao liga  sujeira e mau na memoria ...   \n",
       "2      meu computador esta ligando o monitor tb mas a...   \n",
       "3      desabilite o envio de email como o servico de ...   \n",
       "4      instalacao de impressoras e remocao de virus  ...   \n",
       "...                                                  ...   \n",
       "15797  computador lentidao preuni cp foi realizado ba...   \n",
       "15798  computador lento e nao liga formatar apenas se...   \n",
       "15799  liga e desliga reinicia sozinho local prospeqi...   \n",
       "15800  windows corrompidocoordenadoria de avaliacao e...   \n",
       "15801  computador nao liga aberto por felipe a  null ...   \n",
       "\n",
       "                                               PROB_ORIG      PROB      ESPC  \\\n",
       "0                                                    NaN       N.A       nan   \n",
       "1                                                    NaN  hardware       ram   \n",
       "2                                                    NaN  hardware   monitor   \n",
       "3      utilize esta descricao de problema para proble...       N.A       nan   \n",
       "4                                                    NaN  hardware  software   \n",
       "...                                                  ...       ...       ...   \n",
       "15797                                                NaN  software  software   \n",
       "15798                                                NaN  hardware  software   \n",
       "15799                                                NaN  software  software   \n",
       "15800                                                NaN  software  software   \n",
       "15801                                                NaN  hardware       nan   \n",
       "\n",
       "            EQUIP    I_NAME                                        R_NAME  \\\n",
       "0        internet  teresina                        jaclason machado veras   \n",
       "1      computador  teresina  secretaria do mestrado de piliticas publicas   \n",
       "2         monitor  teresina                       gabinete do reitor 5511   \n",
       "3             nan  teresina                                     guilherme   \n",
       "4      computador  teresina                                           NaN   \n",
       "...           ...       ...                                           ...   \n",
       "15797  computador  teresina                                 erica cecilia   \n",
       "15798  computador  teresina                                    igor cunha   \n",
       "15799  computador  teresina                                   joao xavier   \n",
       "15800  computador  teresina                        raphaela da mota silva   \n",
       "15801  computador  teresina                                   lucas lopes   \n",
       "\n",
       "                                 C_NAME  EQUIP_ID HAS_VALUE  ... HOUR_OPEN  \\\n",
       "0                    julia sousa santos   -999999       NaN  ...         9   \n",
       "1         luis carlos dos santos farias    140981         P  ...         8   \n",
       "2      constanca dolores lopes monteiro   -999999         P  ...        15   \n",
       "3                     guilherme avelino   -999999       NaN  ...        13   \n",
       "4                          bolsista nti   -999999        NP  ...        12   \n",
       "...                                 ...       ...       ...  ...       ...   \n",
       "15797               bolsista geral 2018    188134        NP  ...        15   \n",
       "15798               bolsista geral 2018    175491        NP  ...        16   \n",
       "15799               bolsista geral 2018    237490        NP  ...        16   \n",
       "15800               bolsista geral 2018    256479        NP  ...        17   \n",
       "15801               bolsista geral 2018    161603        NP  ...         8   \n",
       "\n",
       "      MIN_OPEN   DATA_OPEN  CLOSE_YEAR_4  CLOSE_MONTH_4  CLOSE_DAY_4  \\\n",
       "0           15   18/4/2012             1              2            4   \n",
       "1           13   23/4/2014             2              2            4   \n",
       "2           43  24/10/2011             1              4            4   \n",
       "3           20  24/10/2011             1              4            4   \n",
       "4           13  24/10/2011             1              4            4   \n",
       "...        ...         ...           ...            ...          ...   \n",
       "15797       23   13/9/2019             4              3            3   \n",
       "15798       21   13/9/2019             4              3            2   \n",
       "15799       31   16/9/2019            -1             -1           -1   \n",
       "15800       35   17/9/2019            -1             -1           -1   \n",
       "15801       54   18/9/2019            -1             -1           -1   \n",
       "\n",
       "       HOUR_CLOSE MIN_CLOSE  DATA_CLOSE          STI  \n",
       "0               9         0   26/4/2012      sti_cca  \n",
       "1               9         4   23/4/2014     sti_cchl  \n",
       "2              15        59  24/10/2011  sti_central  \n",
       "3              17         6  26/10/2011  sti_central  \n",
       "4               9        11  26/10/2011  sti_central  \n",
       "...           ...       ...         ...          ...  \n",
       "15797           8        21   17/9/2019            0  \n",
       "15798          17        47   13/9/2019            0  \n",
       "15799          -1        -1  99/99/9999            0  \n",
       "15800          -1        -1  99/99/9999            0  \n",
       "15801          -1        -1  99/99/9999  sti_central  \n",
       "\n",
       "[15802 rows x 25 columns]"
      ]
     },
     "execution_count": 102,
     "metadata": {},
     "output_type": "execute_result"
    }
   ],
   "source": [
    "new_df"
   ]
  },
  {
   "cell_type": "code",
   "execution_count": null,
   "metadata": {},
   "outputs": [],
   "source": []
  },
  {
   "cell_type": "code",
   "execution_count": null,
   "metadata": {},
   "outputs": [],
   "source": []
  },
  {
   "cell_type": "code",
   "execution_count": null,
   "metadata": {},
   "outputs": [],
   "source": []
  }
 ],
 "metadata": {
  "kernelspec": {
   "display_name": "Python 3",
   "language": "python",
   "name": "python3"
  },
  "language_info": {
   "codemirror_mode": {
    "name": "ipython",
    "version": 3
   },
   "file_extension": ".py",
   "mimetype": "text/x-python",
   "name": "python",
   "nbconvert_exporter": "python",
   "pygments_lexer": "ipython3",
   "version": "3.7.4"
  }
 },
 "nbformat": 4,
 "nbformat_minor": 4
}
